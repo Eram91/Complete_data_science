{
 "cells": [
  {
   "cell_type": "code",
   "execution_count": 1,
   "metadata": {},
   "outputs": [],
   "source": [
    "import os"
   ]
  },
  {
   "cell_type": "code",
   "execution_count": 2,
   "metadata": {},
   "outputs": [],
   "source": [
    "os.chdir('../')\n"
   ]
  },
  {
   "cell_type": "code",
   "execution_count": 3,
   "metadata": {},
   "outputs": [],
   "source": [
    "from dataclasses import dataclass\n",
    "from pathlib import Path\n",
    "\n",
    "@dataclass(frozen=True)\n",
    "class DataTransformationConfig:\n",
    "\n",
    "    root_dir: Path\n",
    "    data_path: Path\n"
   ]
  },
  {
   "cell_type": "code",
   "execution_count": 4,
   "metadata": {},
   "outputs": [],
   "source": [
    "from NBA_Project.constants import *\n",
    "from src.NBA_Project.utils.common import read_yaml,create_directories\n"
   ]
  },
  {
   "cell_type": "code",
   "execution_count": 5,
   "metadata": {},
   "outputs": [],
   "source": [
    "class ConfigurationManager:\n",
    "    def __init__(\n",
    "        self,\n",
    "        config_filepath = CONFIG_FILE_PATH,\n",
    "        params_filepath = PARAMS_FILE_PATH,\n",
    "        schema_filepath = SCHEMA_FILE_PATH):\n",
    "\n",
    "        self.config = read_yaml(config_filepath)\n",
    "        self.params = read_yaml(params_filepath)\n",
    "        self.schema = read_yaml(schema_filepath)\n",
    "\n",
    "        create_directories([self.config.artifacts_root])\n",
    "\n",
    "    \n",
    "    def get_data_transformation_config(self) -> DataTransformationConfig:\n",
    "        config = self.config.data_transformation\n",
    "\n",
    "        create_directories([config.root_dir])\n",
    "\n",
    "        data_transformation_config = DataTransformationConfig(\n",
    "            root_dir=config.root_dir,\n",
    "            data_path=config.data_path,\n",
    "        )\n",
    "\n",
    "        return data_transformation_config"
   ]
  },
  {
   "cell_type": "code",
   "execution_count": 7,
   "metadata": {},
   "outputs": [],
   "source": [
    "import pandas as pd\n",
    "from sklearn.model_selection import train_test_split\n",
    "from sklearn.impute import SimpleImputer\n",
    "from src.NBA_Project import logger\n",
    "\n",
    "\n",
    "class DataTransformation:\n",
    "    def __init__(self, config: DataTransformationConfig):\n",
    "        self.config = config\n",
    "\n",
    "\n",
    "    def transform_data(self):\n",
    "\n",
    "        data=pd.read_csv(self.config.data_path)\n",
    "        train,test=train_test_split(data,test_size=0.2,shuffle=True,stratify=data['TARGET_5Yrs'],random_state=42)\n",
    "\n",
    "        num_col=list(train.drop(['TARGET_5Yrs'],axis=1).select_dtypes(include=['int64','float64']))\n",
    "        for col in num_col:\n",
    "\n",
    "                q1=train[col].quantile(0.25)\n",
    "                q3=train[col].quantile(0.75)\n",
    "                IQR=q3-q1\n",
    "                lb=q1-1.5*IQR\n",
    "                up=q3+1.5*IQR\n",
    "\n",
    "                train=train[(train[col]>=lb) & (train[col]<=up)]\n",
    "\n",
    "        imputer=SimpleImputer(strategy='median')\n",
    "\n",
    "        train[\"3P%\"]=imputer.fit_transform(train[['3P%']])\n",
    "        test[\"3P%\"]=imputer.transform(test[['3P%']])\n",
    "        \n",
    "\n",
    "        train.drop('Name',axis=1,inplace=True)\n",
    "        test.drop('Name',axis=1,inplace=True)\n",
    "\n",
    "        train.to_csv(os.path.join(self.config.root_dir, \"train.csv\"),index = False)\n",
    "        test.to_csv(os.path.join(self.config.root_dir, \"test.csv\"),index = False)\n",
    "\n",
    "        logger.info(\"Splited data into training and test sets\")\n",
    "        logger.info(train.shape)\n",
    "        logger.info(test.shape)\n",
    "\n",
    "        print(train.shape)\n",
    "        print(test.shape)\n",
    "\n",
    "\n"
   ]
  },
  {
   "cell_type": "code",
   "execution_count": 8,
   "metadata": {},
   "outputs": [
    {
     "name": "stdout",
     "output_type": "stream",
     "text": [
      "[2023-10-21 16:39:55,827: INFO: common: yaml file: config\\config.yaml loaded successfully]\n",
      "[2023-10-21 16:39:55,830: INFO: common: yaml file: params.yaml loaded successfully]\n",
      "[2023-10-21 16:39:55,833: INFO: common: yaml file: schema.yaml loaded successfully]\n",
      "[2023-10-21 16:39:55,835: INFO: common: created directory at artifacts]\n",
      "[2023-10-21 16:39:55,837: INFO: common: created directory at artifacts/data_transformation]\n",
      "[2023-10-21 16:39:55,942: INFO: 288601790: Splited data into training and test sets]\n",
      "[2023-10-21 16:39:55,943: INFO: 288601790: (614, 20)]\n",
      "[2023-10-21 16:39:55,945: INFO: 288601790: (268, 20)]\n",
      "(614, 20)\n",
      "(268, 20)\n"
     ]
    }
   ],
   "source": [
    "try:\n",
    "    config = ConfigurationManager()\n",
    "    data_transformation_config = config.get_data_transformation_config()\n",
    "    data_transformation = DataTransformation(config=data_transformation_config)\n",
    "    data_transformation.transform_data()\n",
    "except Exception as e:\n",
    "    raise e"
   ]
  },
  {
   "cell_type": "code",
   "execution_count": null,
   "metadata": {},
   "outputs": [],
   "source": []
  }
 ],
 "metadata": {
  "kernelspec": {
   "display_name": "env",
   "language": "python",
   "name": "python3"
  },
  "language_info": {
   "codemirror_mode": {
    "name": "ipython",
    "version": 3
   },
   "file_extension": ".py",
   "mimetype": "text/x-python",
   "name": "python",
   "nbconvert_exporter": "python",
   "pygments_lexer": "ipython3",
   "version": "3.9.10"
  }
 },
 "nbformat": 4,
 "nbformat_minor": 2
}
