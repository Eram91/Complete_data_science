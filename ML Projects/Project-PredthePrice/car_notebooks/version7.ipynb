{
 "cells": [
  {
   "cell_type": "code",
   "execution_count": 2,
   "metadata": {},
   "outputs": [],
   "source": [
    "import pandas as pd\n",
    "import matplotlib.pyplot as plt\n",
    "import seaborn as sns\n",
    "import pickle"
   ]
  },
  {
   "cell_type": "code",
   "execution_count": 3,
   "metadata": {},
   "outputs": [],
   "source": [
    "df = pd.read_pickle('/home/anuraaga/Documents/DataCodes/Projects/pricePredictor/dataset/dataset_car/autos_v6.pkl')"
   ]
  },
  {
   "cell_type": "code",
   "execution_count": 4,
   "metadata": {},
   "outputs": [
    {
     "data": {
      "text/html": [
       "<div>\n",
       "<style scoped>\n",
       "    .dataframe tbody tr th:only-of-type {\n",
       "        vertical-align: middle;\n",
       "    }\n",
       "\n",
       "    .dataframe tbody tr th {\n",
       "        vertical-align: top;\n",
       "    }\n",
       "\n",
       "    .dataframe thead th {\n",
       "        text-align: right;\n",
       "    }\n",
       "</style>\n",
       "<table border=\"1\" class=\"dataframe\">\n",
       "  <thead>\n",
       "    <tr style=\"text-align: right;\">\n",
       "      <th></th>\n",
       "      <th>seller_type</th>\n",
       "      <th>year</th>\n",
       "      <th>transmission</th>\n",
       "      <th>km_driven</th>\n",
       "      <th>fuel</th>\n",
       "      <th>brand</th>\n",
       "      <th>selling_price</th>\n",
       "    </tr>\n",
       "  </thead>\n",
       "  <tbody>\n",
       "    <tr>\n",
       "      <th>0</th>\n",
       "      <td>individual</td>\n",
       "      <td>1993</td>\n",
       "      <td>manual</td>\n",
       "      <td>150000</td>\n",
       "      <td>petrol</td>\n",
       "      <td>volkswagen</td>\n",
       "      <td>43200</td>\n",
       "    </tr>\n",
       "    <tr>\n",
       "      <th>1</th>\n",
       "      <td>individual</td>\n",
       "      <td>2011</td>\n",
       "      <td>manual</td>\n",
       "      <td>125000</td>\n",
       "      <td>diesel</td>\n",
       "      <td>audi</td>\n",
       "      <td>1647000</td>\n",
       "    </tr>\n",
       "    <tr>\n",
       "      <th>2</th>\n",
       "      <td>individual</td>\n",
       "      <td>2004</td>\n",
       "      <td>automatic</td>\n",
       "      <td>125000</td>\n",
       "      <td>diesel</td>\n",
       "      <td>jeep</td>\n",
       "      <td>882000</td>\n",
       "    </tr>\n",
       "    <tr>\n",
       "      <th>3</th>\n",
       "      <td>individual</td>\n",
       "      <td>2001</td>\n",
       "      <td>manual</td>\n",
       "      <td>150000</td>\n",
       "      <td>petrol</td>\n",
       "      <td>volkswagen</td>\n",
       "      <td>135000</td>\n",
       "    </tr>\n",
       "    <tr>\n",
       "      <th>4</th>\n",
       "      <td>individual</td>\n",
       "      <td>2008</td>\n",
       "      <td>manual</td>\n",
       "      <td>90000</td>\n",
       "      <td>diesel</td>\n",
       "      <td>skoda</td>\n",
       "      <td>324000</td>\n",
       "    </tr>\n",
       "    <tr>\n",
       "      <th>...</th>\n",
       "      <td>...</td>\n",
       "      <td>...</td>\n",
       "      <td>...</td>\n",
       "      <td>...</td>\n",
       "      <td>...</td>\n",
       "      <td>...</td>\n",
       "      <td>...</td>\n",
       "    </tr>\n",
       "    <tr>\n",
       "      <th>379424</th>\n",
       "      <td>individual</td>\n",
       "      <td>2013</td>\n",
       "      <td>manual</td>\n",
       "      <td>110000</td>\n",
       "      <td>petrol</td>\n",
       "      <td>hyundai</td>\n",
       "      <td>320000</td>\n",
       "    </tr>\n",
       "    <tr>\n",
       "      <th>379425</th>\n",
       "      <td>individual</td>\n",
       "      <td>2007</td>\n",
       "      <td>manual</td>\n",
       "      <td>119000</td>\n",
       "      <td>diesel</td>\n",
       "      <td>hyundai</td>\n",
       "      <td>135000</td>\n",
       "    </tr>\n",
       "    <tr>\n",
       "      <th>379426</th>\n",
       "      <td>individual</td>\n",
       "      <td>2009</td>\n",
       "      <td>manual</td>\n",
       "      <td>120000</td>\n",
       "      <td>diesel</td>\n",
       "      <td>maruti</td>\n",
       "      <td>382000</td>\n",
       "    </tr>\n",
       "    <tr>\n",
       "      <th>379427</th>\n",
       "      <td>individual</td>\n",
       "      <td>2013</td>\n",
       "      <td>manual</td>\n",
       "      <td>25000</td>\n",
       "      <td>diesel</td>\n",
       "      <td>tata</td>\n",
       "      <td>290000</td>\n",
       "    </tr>\n",
       "    <tr>\n",
       "      <th>379428</th>\n",
       "      <td>individual</td>\n",
       "      <td>2013</td>\n",
       "      <td>manual</td>\n",
       "      <td>25000</td>\n",
       "      <td>diesel</td>\n",
       "      <td>tata</td>\n",
       "      <td>290000</td>\n",
       "    </tr>\n",
       "  </tbody>\n",
       "</table>\n",
       "<p>379247 rows × 7 columns</p>\n",
       "</div>"
      ],
      "text/plain": [
       "       seller_type  year transmission  km_driven    fuel       brand  \\\n",
       "0       individual  1993       manual     150000  petrol  volkswagen   \n",
       "1       individual  2011       manual     125000  diesel        audi   \n",
       "2       individual  2004    automatic     125000  diesel        jeep   \n",
       "3       individual  2001       manual     150000  petrol  volkswagen   \n",
       "4       individual  2008       manual      90000  diesel       skoda   \n",
       "...            ...   ...          ...        ...     ...         ...   \n",
       "379424  individual  2013       manual     110000  petrol     hyundai   \n",
       "379425  individual  2007       manual     119000  diesel     hyundai   \n",
       "379426  individual  2009       manual     120000  diesel      maruti   \n",
       "379427  individual  2013       manual      25000  diesel        tata   \n",
       "379428  individual  2013       manual      25000  diesel        tata   \n",
       "\n",
       "        selling_price  \n",
       "0               43200  \n",
       "1             1647000  \n",
       "2              882000  \n",
       "3              135000  \n",
       "4              324000  \n",
       "...               ...  \n",
       "379424         320000  \n",
       "379425         135000  \n",
       "379426         382000  \n",
       "379427         290000  \n",
       "379428         290000  \n",
       "\n",
       "[379247 rows x 7 columns]"
      ]
     },
     "execution_count": 4,
     "metadata": {},
     "output_type": "execute_result"
    }
   ],
   "source": [
    "df"
   ]
  },
  {
   "cell_type": "code",
   "execution_count": 5,
   "metadata": {},
   "outputs": [],
   "source": [
    "df.drop_duplicates(keep='first', inplace=True)"
   ]
  },
  {
   "cell_type": "code",
   "execution_count": 6,
   "metadata": {},
   "outputs": [
    {
     "data": {
      "text/plain": [
       "(215995, 7)"
      ]
     },
     "execution_count": 6,
     "metadata": {},
     "output_type": "execute_result"
    }
   ],
   "source": [
    "df.shape"
   ]
  },
  {
   "cell_type": "code",
   "execution_count": 7,
   "metadata": {},
   "outputs": [],
   "source": [
    "cldf = df.reset_index()\n",
    "cldf.drop('index', axis=1, inplace=True)"
   ]
  },
  {
   "cell_type": "code",
   "execution_count": 8,
   "metadata": {},
   "outputs": [
    {
     "data": {
      "text/html": [
       "<div>\n",
       "<style scoped>\n",
       "    .dataframe tbody tr th:only-of-type {\n",
       "        vertical-align: middle;\n",
       "    }\n",
       "\n",
       "    .dataframe tbody tr th {\n",
       "        vertical-align: top;\n",
       "    }\n",
       "\n",
       "    .dataframe thead th {\n",
       "        text-align: right;\n",
       "    }\n",
       "</style>\n",
       "<table border=\"1\" class=\"dataframe\">\n",
       "  <thead>\n",
       "    <tr style=\"text-align: right;\">\n",
       "      <th></th>\n",
       "      <th>seller_type</th>\n",
       "      <th>year</th>\n",
       "      <th>transmission</th>\n",
       "      <th>km_driven</th>\n",
       "      <th>fuel</th>\n",
       "      <th>brand</th>\n",
       "      <th>selling_price</th>\n",
       "    </tr>\n",
       "  </thead>\n",
       "  <tbody>\n",
       "    <tr>\n",
       "      <th>0</th>\n",
       "      <td>individual</td>\n",
       "      <td>1993</td>\n",
       "      <td>manual</td>\n",
       "      <td>150000</td>\n",
       "      <td>petrol</td>\n",
       "      <td>volkswagen</td>\n",
       "      <td>43200</td>\n",
       "    </tr>\n",
       "    <tr>\n",
       "      <th>1</th>\n",
       "      <td>individual</td>\n",
       "      <td>2011</td>\n",
       "      <td>manual</td>\n",
       "      <td>125000</td>\n",
       "      <td>diesel</td>\n",
       "      <td>audi</td>\n",
       "      <td>1647000</td>\n",
       "    </tr>\n",
       "    <tr>\n",
       "      <th>2</th>\n",
       "      <td>individual</td>\n",
       "      <td>2004</td>\n",
       "      <td>automatic</td>\n",
       "      <td>125000</td>\n",
       "      <td>diesel</td>\n",
       "      <td>jeep</td>\n",
       "      <td>882000</td>\n",
       "    </tr>\n",
       "    <tr>\n",
       "      <th>3</th>\n",
       "      <td>individual</td>\n",
       "      <td>2001</td>\n",
       "      <td>manual</td>\n",
       "      <td>150000</td>\n",
       "      <td>petrol</td>\n",
       "      <td>volkswagen</td>\n",
       "      <td>135000</td>\n",
       "    </tr>\n",
       "    <tr>\n",
       "      <th>4</th>\n",
       "      <td>individual</td>\n",
       "      <td>2008</td>\n",
       "      <td>manual</td>\n",
       "      <td>90000</td>\n",
       "      <td>diesel</td>\n",
       "      <td>skoda</td>\n",
       "      <td>324000</td>\n",
       "    </tr>\n",
       "    <tr>\n",
       "      <th>...</th>\n",
       "      <td>...</td>\n",
       "      <td>...</td>\n",
       "      <td>...</td>\n",
       "      <td>...</td>\n",
       "      <td>...</td>\n",
       "      <td>...</td>\n",
       "      <td>...</td>\n",
       "    </tr>\n",
       "    <tr>\n",
       "      <th>215990</th>\n",
       "      <td>individual</td>\n",
       "      <td>2013</td>\n",
       "      <td>manual</td>\n",
       "      <td>50000</td>\n",
       "      <td>petrol</td>\n",
       "      <td>maruti</td>\n",
       "      <td>260000</td>\n",
       "    </tr>\n",
       "    <tr>\n",
       "      <th>215991</th>\n",
       "      <td>individual</td>\n",
       "      <td>2014</td>\n",
       "      <td>manual</td>\n",
       "      <td>80000</td>\n",
       "      <td>diesel</td>\n",
       "      <td>hyundai</td>\n",
       "      <td>475000</td>\n",
       "    </tr>\n",
       "    <tr>\n",
       "      <th>215992</th>\n",
       "      <td>individual</td>\n",
       "      <td>2013</td>\n",
       "      <td>manual</td>\n",
       "      <td>110000</td>\n",
       "      <td>petrol</td>\n",
       "      <td>hyundai</td>\n",
       "      <td>320000</td>\n",
       "    </tr>\n",
       "    <tr>\n",
       "      <th>215993</th>\n",
       "      <td>individual</td>\n",
       "      <td>2007</td>\n",
       "      <td>manual</td>\n",
       "      <td>119000</td>\n",
       "      <td>diesel</td>\n",
       "      <td>hyundai</td>\n",
       "      <td>135000</td>\n",
       "    </tr>\n",
       "    <tr>\n",
       "      <th>215994</th>\n",
       "      <td>individual</td>\n",
       "      <td>2009</td>\n",
       "      <td>manual</td>\n",
       "      <td>120000</td>\n",
       "      <td>diesel</td>\n",
       "      <td>maruti</td>\n",
       "      <td>382000</td>\n",
       "    </tr>\n",
       "  </tbody>\n",
       "</table>\n",
       "<p>215995 rows × 7 columns</p>\n",
       "</div>"
      ],
      "text/plain": [
       "       seller_type  year transmission  km_driven    fuel       brand  \\\n",
       "0       individual  1993       manual     150000  petrol  volkswagen   \n",
       "1       individual  2011       manual     125000  diesel        audi   \n",
       "2       individual  2004    automatic     125000  diesel        jeep   \n",
       "3       individual  2001       manual     150000  petrol  volkswagen   \n",
       "4       individual  2008       manual      90000  diesel       skoda   \n",
       "...            ...   ...          ...        ...     ...         ...   \n",
       "215990  individual  2013       manual      50000  petrol      maruti   \n",
       "215991  individual  2014       manual      80000  diesel     hyundai   \n",
       "215992  individual  2013       manual     110000  petrol     hyundai   \n",
       "215993  individual  2007       manual     119000  diesel     hyundai   \n",
       "215994  individual  2009       manual     120000  diesel      maruti   \n",
       "\n",
       "        selling_price  \n",
       "0               43200  \n",
       "1             1647000  \n",
       "2              882000  \n",
       "3              135000  \n",
       "4              324000  \n",
       "...               ...  \n",
       "215990         260000  \n",
       "215991         475000  \n",
       "215992         320000  \n",
       "215993         135000  \n",
       "215994         382000  \n",
       "\n",
       "[215995 rows x 7 columns]"
      ]
     },
     "execution_count": 8,
     "metadata": {},
     "output_type": "execute_result"
    }
   ],
   "source": [
    "cldf"
   ]
  },
  {
   "cell_type": "code",
   "execution_count": 9,
   "metadata": {},
   "outputs": [
    {
     "data": {
      "text/html": [
       "<div>\n",
       "<style scoped>\n",
       "    .dataframe tbody tr th:only-of-type {\n",
       "        vertical-align: middle;\n",
       "    }\n",
       "\n",
       "    .dataframe tbody tr th {\n",
       "        vertical-align: top;\n",
       "    }\n",
       "\n",
       "    .dataframe thead th {\n",
       "        text-align: right;\n",
       "    }\n",
       "</style>\n",
       "<table border=\"1\" class=\"dataframe\">\n",
       "  <thead>\n",
       "    <tr style=\"text-align: right;\">\n",
       "      <th></th>\n",
       "      <th>year</th>\n",
       "      <th>km_driven</th>\n",
       "      <th>selling_price</th>\n",
       "    </tr>\n",
       "  </thead>\n",
       "  <tbody>\n",
       "    <tr>\n",
       "      <th>count</th>\n",
       "      <td>215995.000000</td>\n",
       "      <td>2.159950e+05</td>\n",
       "      <td>2.159950e+05</td>\n",
       "    </tr>\n",
       "    <tr>\n",
       "      <th>mean</th>\n",
       "      <td>2004.403736</td>\n",
       "      <td>1.128892e+05</td>\n",
       "      <td>2.418580e+06</td>\n",
       "    </tr>\n",
       "    <tr>\n",
       "      <th>std</th>\n",
       "      <td>8.797876</td>\n",
       "      <td>4.578152e+04</td>\n",
       "      <td>4.232639e+08</td>\n",
       "    </tr>\n",
       "    <tr>\n",
       "      <th>min</th>\n",
       "      <td>1910.000000</td>\n",
       "      <td>1.000000e+00</td>\n",
       "      <td>0.000000e+00</td>\n",
       "    </tr>\n",
       "    <tr>\n",
       "      <th>25%</th>\n",
       "      <td>2000.000000</td>\n",
       "      <td>8.000000e+04</td>\n",
       "      <td>1.485000e+05</td>\n",
       "    </tr>\n",
       "    <tr>\n",
       "      <th>50%</th>\n",
       "      <td>2005.000000</td>\n",
       "      <td>1.250000e+05</td>\n",
       "      <td>3.825000e+05</td>\n",
       "    </tr>\n",
       "    <tr>\n",
       "      <th>75%</th>\n",
       "      <td>2010.000000</td>\n",
       "      <td>1.500000e+05</td>\n",
       "      <td>8.504550e+05</td>\n",
       "    </tr>\n",
       "    <tr>\n",
       "      <th>max</th>\n",
       "      <td>2020.000000</td>\n",
       "      <td>2.360457e+06</td>\n",
       "      <td>1.932735e+11</td>\n",
       "    </tr>\n",
       "  </tbody>\n",
       "</table>\n",
       "</div>"
      ],
      "text/plain": [
       "                year     km_driven  selling_price\n",
       "count  215995.000000  2.159950e+05   2.159950e+05\n",
       "mean     2004.403736  1.128892e+05   2.418580e+06\n",
       "std         8.797876  4.578152e+04   4.232639e+08\n",
       "min      1910.000000  1.000000e+00   0.000000e+00\n",
       "25%      2000.000000  8.000000e+04   1.485000e+05\n",
       "50%      2005.000000  1.250000e+05   3.825000e+05\n",
       "75%      2010.000000  1.500000e+05   8.504550e+05\n",
       "max      2020.000000  2.360457e+06   1.932735e+11"
      ]
     },
     "execution_count": 9,
     "metadata": {},
     "output_type": "execute_result"
    }
   ],
   "source": [
    "cldf.describe()"
   ]
  },
  {
   "cell_type": "code",
   "execution_count": 10,
   "metadata": {},
   "outputs": [
    {
     "data": {
      "text/plain": [
       "193273528230"
      ]
     },
     "execution_count": 10,
     "metadata": {},
     "output_type": "execute_result"
    }
   ],
   "source": [
    "cldf['selling_price'].max()"
   ]
  },
  {
   "cell_type": "code",
   "execution_count": 11,
   "metadata": {},
   "outputs": [],
   "source": [
    "IQR = cldf['selling_price'].quantile(0.75) - cldf['selling_price'].quantile(0.25)\n",
    "lowerbound = cldf['selling_price'].quantile(0.25) - (1.5*IQR)\n",
    "upperbound = cldf['selling_price'].quantile(0.75) + (1.5*IQR)"
   ]
  },
  {
   "cell_type": "code",
   "execution_count": 12,
   "metadata": {},
   "outputs": [
    {
     "data": {
      "text/plain": [
       "1903387.5"
      ]
     },
     "execution_count": 12,
     "metadata": {},
     "output_type": "execute_result"
    }
   ],
   "source": [
    "upperbound"
   ]
  },
  {
   "cell_type": "code",
   "execution_count": 13,
   "metadata": {},
   "outputs": [],
   "source": [
    "cldf2 = cldf[cldf['selling_price']<=upperbound]"
   ]
  },
  {
   "cell_type": "code",
   "execution_count": 14,
   "metadata": {},
   "outputs": [
    {
     "data": {
      "text/plain": [
       "count    2.020190e+05\n",
       "mean     4.914258e+05\n",
       "std      4.494488e+05\n",
       "min      0.000000e+00\n",
       "25%      1.350000e+05\n",
       "50%      3.465000e+05\n",
       "75%      7.199100e+05\n",
       "max      1.900000e+06\n",
       "Name: selling_price, dtype: float64"
      ]
     },
     "execution_count": 14,
     "metadata": {},
     "output_type": "execute_result"
    }
   ],
   "source": [
    "cldf2['selling_price'].describe()"
   ]
  },
  {
   "cell_type": "code",
   "execution_count": 15,
   "metadata": {},
   "outputs": [
    {
     "data": {
      "text/plain": [
       "count    2.159950e+05\n",
       "mean     1.128892e+05\n",
       "std      4.578152e+04\n",
       "min      1.000000e+00\n",
       "25%      8.000000e+04\n",
       "50%      1.250000e+05\n",
       "75%      1.500000e+05\n",
       "max      2.360457e+06\n",
       "Name: km_driven, dtype: float64"
      ]
     },
     "execution_count": 15,
     "metadata": {},
     "output_type": "execute_result"
    }
   ],
   "source": [
    "cldf['km_driven'].describe()"
   ]
  },
  {
   "cell_type": "code",
   "execution_count": 16,
   "metadata": {},
   "outputs": [],
   "source": [
    "IQR = cldf['km_driven'].quantile(0.75) - cldf['km_driven'].quantile(0.25)\n",
    "lowerbound = cldf['km_driven'].quantile(0.25) - (1.5*IQR)\n",
    "upperbound = cldf['km_driven'].quantile(0.75) + (1.5*IQR)"
   ]
  },
  {
   "cell_type": "code",
   "execution_count": 17,
   "metadata": {},
   "outputs": [
    {
     "data": {
      "text/plain": [
       "(-25000.0, 255000.0)"
      ]
     },
     "execution_count": 17,
     "metadata": {},
     "output_type": "execute_result"
    }
   ],
   "source": [
    "lowerbound, upperbound"
   ]
  },
  {
   "cell_type": "code",
   "execution_count": 17,
   "metadata": {},
   "outputs": [
    {
     "data": {
      "text/html": [
       "<div>\n",
       "<style scoped>\n",
       "    .dataframe tbody tr th:only-of-type {\n",
       "        vertical-align: middle;\n",
       "    }\n",
       "\n",
       "    .dataframe tbody tr th {\n",
       "        vertical-align: top;\n",
       "    }\n",
       "\n",
       "    .dataframe thead th {\n",
       "        text-align: right;\n",
       "    }\n",
       "</style>\n",
       "<table border=\"1\" class=\"dataframe\">\n",
       "  <thead>\n",
       "    <tr style=\"text-align: right;\">\n",
       "      <th></th>\n",
       "      <th>seller_type</th>\n",
       "      <th>year</th>\n",
       "      <th>transmission</th>\n",
       "      <th>km_driven</th>\n",
       "      <th>fuel</th>\n",
       "      <th>brand</th>\n",
       "      <th>selling_price</th>\n",
       "    </tr>\n",
       "  </thead>\n",
       "  <tbody>\n",
       "    <tr>\n",
       "      <th>0</th>\n",
       "      <td>individual</td>\n",
       "      <td>1993</td>\n",
       "      <td>manual</td>\n",
       "      <td>150000</td>\n",
       "      <td>petrol</td>\n",
       "      <td>volkswagen</td>\n",
       "      <td>43200</td>\n",
       "    </tr>\n",
       "    <tr>\n",
       "      <th>1</th>\n",
       "      <td>individual</td>\n",
       "      <td>2011</td>\n",
       "      <td>manual</td>\n",
       "      <td>125000</td>\n",
       "      <td>diesel</td>\n",
       "      <td>audi</td>\n",
       "      <td>1647000</td>\n",
       "    </tr>\n",
       "    <tr>\n",
       "      <th>2</th>\n",
       "      <td>individual</td>\n",
       "      <td>2004</td>\n",
       "      <td>automatic</td>\n",
       "      <td>125000</td>\n",
       "      <td>diesel</td>\n",
       "      <td>jeep</td>\n",
       "      <td>882000</td>\n",
       "    </tr>\n",
       "    <tr>\n",
       "      <th>3</th>\n",
       "      <td>individual</td>\n",
       "      <td>2001</td>\n",
       "      <td>manual</td>\n",
       "      <td>150000</td>\n",
       "      <td>petrol</td>\n",
       "      <td>volkswagen</td>\n",
       "      <td>135000</td>\n",
       "    </tr>\n",
       "    <tr>\n",
       "      <th>4</th>\n",
       "      <td>individual</td>\n",
       "      <td>2008</td>\n",
       "      <td>manual</td>\n",
       "      <td>90000</td>\n",
       "      <td>diesel</td>\n",
       "      <td>skoda</td>\n",
       "      <td>324000</td>\n",
       "    </tr>\n",
       "    <tr>\n",
       "      <th>...</th>\n",
       "      <td>...</td>\n",
       "      <td>...</td>\n",
       "      <td>...</td>\n",
       "      <td>...</td>\n",
       "      <td>...</td>\n",
       "      <td>...</td>\n",
       "      <td>...</td>\n",
       "    </tr>\n",
       "    <tr>\n",
       "      <th>215990</th>\n",
       "      <td>individual</td>\n",
       "      <td>2013</td>\n",
       "      <td>manual</td>\n",
       "      <td>50000</td>\n",
       "      <td>petrol</td>\n",
       "      <td>maruti</td>\n",
       "      <td>260000</td>\n",
       "    </tr>\n",
       "    <tr>\n",
       "      <th>215991</th>\n",
       "      <td>individual</td>\n",
       "      <td>2014</td>\n",
       "      <td>manual</td>\n",
       "      <td>80000</td>\n",
       "      <td>diesel</td>\n",
       "      <td>hyundai</td>\n",
       "      <td>475000</td>\n",
       "    </tr>\n",
       "    <tr>\n",
       "      <th>215992</th>\n",
       "      <td>individual</td>\n",
       "      <td>2013</td>\n",
       "      <td>manual</td>\n",
       "      <td>110000</td>\n",
       "      <td>petrol</td>\n",
       "      <td>hyundai</td>\n",
       "      <td>320000</td>\n",
       "    </tr>\n",
       "    <tr>\n",
       "      <th>215993</th>\n",
       "      <td>individual</td>\n",
       "      <td>2007</td>\n",
       "      <td>manual</td>\n",
       "      <td>119000</td>\n",
       "      <td>diesel</td>\n",
       "      <td>hyundai</td>\n",
       "      <td>135000</td>\n",
       "    </tr>\n",
       "    <tr>\n",
       "      <th>215994</th>\n",
       "      <td>individual</td>\n",
       "      <td>2009</td>\n",
       "      <td>manual</td>\n",
       "      <td>120000</td>\n",
       "      <td>diesel</td>\n",
       "      <td>maruti</td>\n",
       "      <td>382000</td>\n",
       "    </tr>\n",
       "  </tbody>\n",
       "</table>\n",
       "<p>201975 rows × 7 columns</p>\n",
       "</div>"
      ],
      "text/plain": [
       "       seller_type  year transmission  km_driven    fuel       brand  \\\n",
       "0       individual  1993       manual     150000  petrol  volkswagen   \n",
       "1       individual  2011       manual     125000  diesel        audi   \n",
       "2       individual  2004    automatic     125000  diesel        jeep   \n",
       "3       individual  2001       manual     150000  petrol  volkswagen   \n",
       "4       individual  2008       manual      90000  diesel       skoda   \n",
       "...            ...   ...          ...        ...     ...         ...   \n",
       "215990  individual  2013       manual      50000  petrol      maruti   \n",
       "215991  individual  2014       manual      80000  diesel     hyundai   \n",
       "215992  individual  2013       manual     110000  petrol     hyundai   \n",
       "215993  individual  2007       manual     119000  diesel     hyundai   \n",
       "215994  individual  2009       manual     120000  diesel      maruti   \n",
       "\n",
       "        selling_price  \n",
       "0               43200  \n",
       "1             1647000  \n",
       "2              882000  \n",
       "3              135000  \n",
       "4              324000  \n",
       "...               ...  \n",
       "215990         260000  \n",
       "215991         475000  \n",
       "215992         320000  \n",
       "215993         135000  \n",
       "215994         382000  \n",
       "\n",
       "[201975 rows x 7 columns]"
      ]
     },
     "execution_count": 17,
     "metadata": {},
     "output_type": "execute_result"
    }
   ],
   "source": [
    "cldf3  = cldf2[cldf2['km_driven']<=upperbound]\n",
    "cldf3"
   ]
  },
  {
   "cell_type": "code",
   "execution_count": 18,
   "metadata": {},
   "outputs": [
    {
     "data": {
      "text/plain": [
       "<Axes: >"
      ]
     },
     "execution_count": 18,
     "metadata": {},
     "output_type": "execute_result"
    },
    {
     "data": {
      "image/png": "[encoded data removed]",
      "text/plain": [
       "<Figure size 640x480 with 1 Axes>"
      ]
     },
     "metadata": {},
     "output_type": "display_data"
    }
   ],
   "source": [
    "cldf3['km_driven'].hist()"
   ]
  },
  {
   "cell_type": "code",
   "execution_count": 19,
   "metadata": {},
   "outputs": [],
   "source": [
    "data = cldf3.drop('seller_type', axis=1)"
   ]
  },
  {
   "cell_type": "code",
   "execution_count": 20,
   "metadata": {},
   "outputs": [
    {
     "data": {
      "text/html": [
       "<div>\n",
       "<style scoped>\n",
       "    .dataframe tbody tr th:only-of-type {\n",
       "        vertical-align: middle;\n",
       "    }\n",
       "\n",
       "    .dataframe tbody tr th {\n",
       "        vertical-align: top;\n",
       "    }\n",
       "\n",
       "    .dataframe thead th {\n",
       "        text-align: right;\n",
       "    }\n",
       "</style>\n",
       "<table border=\"1\" class=\"dataframe\">\n",
       "  <thead>\n",
       "    <tr style=\"text-align: right;\">\n",
       "      <th></th>\n",
       "      <th>year</th>\n",
       "      <th>transmission</th>\n",
       "      <th>km_driven</th>\n",
       "      <th>fuel</th>\n",
       "      <th>brand</th>\n",
       "      <th>selling_price</th>\n",
       "    </tr>\n",
       "  </thead>\n",
       "  <tbody>\n",
       "    <tr>\n",
       "      <th>0</th>\n",
       "      <td>1993</td>\n",
       "      <td>manual</td>\n",
       "      <td>150000</td>\n",
       "      <td>petrol</td>\n",
       "      <td>volkswagen</td>\n",
       "      <td>43200</td>\n",
       "    </tr>\n",
       "    <tr>\n",
       "      <th>1</th>\n",
       "      <td>2011</td>\n",
       "      <td>manual</td>\n",
       "      <td>125000</td>\n",
       "      <td>diesel</td>\n",
       "      <td>audi</td>\n",
       "      <td>1647000</td>\n",
       "    </tr>\n",
       "    <tr>\n",
       "      <th>2</th>\n",
       "      <td>2004</td>\n",
       "      <td>automatic</td>\n",
       "      <td>125000</td>\n",
       "      <td>diesel</td>\n",
       "      <td>jeep</td>\n",
       "      <td>882000</td>\n",
       "    </tr>\n",
       "    <tr>\n",
       "      <th>3</th>\n",
       "      <td>2001</td>\n",
       "      <td>manual</td>\n",
       "      <td>150000</td>\n",
       "      <td>petrol</td>\n",
       "      <td>volkswagen</td>\n",
       "      <td>135000</td>\n",
       "    </tr>\n",
       "    <tr>\n",
       "      <th>4</th>\n",
       "      <td>2008</td>\n",
       "      <td>manual</td>\n",
       "      <td>90000</td>\n",
       "      <td>diesel</td>\n",
       "      <td>skoda</td>\n",
       "      <td>324000</td>\n",
       "    </tr>\n",
       "    <tr>\n",
       "      <th>...</th>\n",
       "      <td>...</td>\n",
       "      <td>...</td>\n",
       "      <td>...</td>\n",
       "      <td>...</td>\n",
       "      <td>...</td>\n",
       "      <td>...</td>\n",
       "    </tr>\n",
       "    <tr>\n",
       "      <th>215990</th>\n",
       "      <td>2013</td>\n",
       "      <td>manual</td>\n",
       "      <td>50000</td>\n",
       "      <td>petrol</td>\n",
       "      <td>maruti</td>\n",
       "      <td>260000</td>\n",
       "    </tr>\n",
       "    <tr>\n",
       "      <th>215991</th>\n",
       "      <td>2014</td>\n",
       "      <td>manual</td>\n",
       "      <td>80000</td>\n",
       "      <td>diesel</td>\n",
       "      <td>hyundai</td>\n",
       "      <td>475000</td>\n",
       "    </tr>\n",
       "    <tr>\n",
       "      <th>215992</th>\n",
       "      <td>2013</td>\n",
       "      <td>manual</td>\n",
       "      <td>110000</td>\n",
       "      <td>petrol</td>\n",
       "      <td>hyundai</td>\n",
       "      <td>320000</td>\n",
       "    </tr>\n",
       "    <tr>\n",
       "      <th>215993</th>\n",
       "      <td>2007</td>\n",
       "      <td>manual</td>\n",
       "      <td>119000</td>\n",
       "      <td>diesel</td>\n",
       "      <td>hyundai</td>\n",
       "      <td>135000</td>\n",
       "    </tr>\n",
       "    <tr>\n",
       "      <th>215994</th>\n",
       "      <td>2009</td>\n",
       "      <td>manual</td>\n",
       "      <td>120000</td>\n",
       "      <td>diesel</td>\n",
       "      <td>maruti</td>\n",
       "      <td>382000</td>\n",
       "    </tr>\n",
       "  </tbody>\n",
       "</table>\n",
       "<p>201975 rows × 6 columns</p>\n",
       "</div>"
      ],
      "text/plain": [
       "        year transmission  km_driven    fuel       brand  selling_price\n",
       "0       1993       manual     150000  petrol  volkswagen          43200\n",
       "1       2011       manual     125000  diesel        audi        1647000\n",
       "2       2004    automatic     125000  diesel        jeep         882000\n",
       "3       2001       manual     150000  petrol  volkswagen         135000\n",
       "4       2008       manual      90000  diesel       skoda         324000\n",
       "...      ...          ...        ...     ...         ...            ...\n",
       "215990  2013       manual      50000  petrol      maruti         260000\n",
       "215991  2014       manual      80000  diesel     hyundai         475000\n",
       "215992  2013       manual     110000  petrol     hyundai         320000\n",
       "215993  2007       manual     119000  diesel     hyundai         135000\n",
       "215994  2009       manual     120000  diesel      maruti         382000\n",
       "\n",
       "[201975 rows x 6 columns]"
      ]
     },
     "execution_count": 20,
     "metadata": {},
     "output_type": "execute_result"
    }
   ],
   "source": [
    "data"
   ]
  },
  {
   "cell_type": "code",
   "execution_count": 21,
   "metadata": {},
   "outputs": [
    {
     "data": {
      "text/plain": [
       "['datsun', 'force', 'ambassador', 'mg', 'isuzu', 'ashok']"
      ]
     },
     "execution_count": 21,
     "metadata": {},
     "output_type": "execute_result"
    }
   ],
   "source": [
    "brandvaluecount = data['brand'].value_counts().reset_index()\n",
    "lesscountbrands = brandvaluecount[brandvaluecount['count']<100]['brand'].tolist()\n",
    "lesscountbrands"
   ]
  },
  {
   "cell_type": "code",
   "execution_count": 22,
   "metadata": {},
   "outputs": [],
   "source": [
    "for i in lesscountbrands:\n",
    "    data['brand'] = data['brand'].replace({i:'other'})"
   ]
  },
  {
   "cell_type": "code",
   "execution_count": 28,
   "metadata": {},
   "outputs": [
    {
     "data": {
      "text/plain": [
       "<Axes: >"
      ]
     },
     "execution_count": 28,
     "metadata": {},
     "output_type": "execute_result"
    },
    {
     "data": {
      "image/png": "[encoded data removed]",
      "text/plain": [
       "<Figure size 640x480 with 2 Axes>"
      ]
     },
     "metadata": {},
     "output_type": "display_data"
    }
   ],
   "source": [
    "import seaborn as sns\n",
    "sns.heatmap(data.corr(numeric_only=True), annot=True)"
   ]
  },
  {
   "cell_type": "code",
   "execution_count": 23,
   "metadata": {},
   "outputs": [],
   "source": [
    "pickle.dump(data, open('/home/anuraaga/Documents/DataCodes/Projects/pricePredictor/dataset/dataset_car/autos_v7.pkl', 'wb'))"
   ]
  }
 ],
 "metadata": {
  "kernelspec": {
   "display_name": "pricePredictor",
   "language": "python",
   "name": "python3"
  },
  "language_info": {
   "codemirror_mode": {
    "name": "ipython",
    "version": 3
   },
   "file_extension": ".py",
   "mimetype": "text/x-python",
   "name": "python",
   "nbconvert_exporter": "python",
   "pygments_lexer": "ipython3",
   "version": "3.11.6"
  }
 },
 "nbformat": 4,
 "nbformat_minor": 2
}
