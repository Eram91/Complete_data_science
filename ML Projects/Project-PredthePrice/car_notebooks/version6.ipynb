{
 "cells": [
  {
   "cell_type": "code",
   "execution_count": 1,
   "metadata": {},
   "outputs": [],
   "source": [
    "import pandas as pd\n",
    "import pickle"
   ]
  },
  {
   "cell_type": "code",
   "execution_count": 2,
   "metadata": {},
   "outputs": [],
   "source": [
    "df = pd.read_pickle('/home/anuraaga/Documents/DataCodes/Projects/pricePredictor/dataset/dataset_car/autos_v5.pkl')"
   ]
  },
  {
   "cell_type": "code",
   "execution_count": 3,
   "metadata": {},
   "outputs": [
    {
     "data": {
      "text/html": [
       "<div>\n",
       "<style scoped>\n",
       "    .dataframe tbody tr th:only-of-type {\n",
       "        vertical-align: middle;\n",
       "    }\n",
       "\n",
       "    .dataframe tbody tr th {\n",
       "        vertical-align: top;\n",
       "    }\n",
       "\n",
       "    .dataframe thead th {\n",
       "        text-align: right;\n",
       "    }\n",
       "</style>\n",
       "<table border=\"1\" class=\"dataframe\">\n",
       "  <thead>\n",
       "    <tr style=\"text-align: right;\">\n",
       "      <th></th>\n",
       "      <th>seller_type</th>\n",
       "      <th>year</th>\n",
       "      <th>transmission</th>\n",
       "      <th>km_driven</th>\n",
       "      <th>fuel</th>\n",
       "      <th>brand</th>\n",
       "      <th>selling_price</th>\n",
       "    </tr>\n",
       "  </thead>\n",
       "  <tbody>\n",
       "    <tr>\n",
       "      <th>0</th>\n",
       "      <td>individual</td>\n",
       "      <td>1993</td>\n",
       "      <td>manual</td>\n",
       "      <td>150000</td>\n",
       "      <td>petrol</td>\n",
       "      <td>volkswagen</td>\n",
       "      <td>43200</td>\n",
       "    </tr>\n",
       "    <tr>\n",
       "      <th>1</th>\n",
       "      <td>individual</td>\n",
       "      <td>2011</td>\n",
       "      <td>manual</td>\n",
       "      <td>125000</td>\n",
       "      <td>diesel</td>\n",
       "      <td>audi</td>\n",
       "      <td>1647000</td>\n",
       "    </tr>\n",
       "    <tr>\n",
       "      <th>2</th>\n",
       "      <td>individual</td>\n",
       "      <td>2004</td>\n",
       "      <td>automatic</td>\n",
       "      <td>125000</td>\n",
       "      <td>diesel</td>\n",
       "      <td>jeep</td>\n",
       "      <td>882000</td>\n",
       "    </tr>\n",
       "    <tr>\n",
       "      <th>3</th>\n",
       "      <td>individual</td>\n",
       "      <td>2001</td>\n",
       "      <td>manual</td>\n",
       "      <td>150000</td>\n",
       "      <td>petrol</td>\n",
       "      <td>volkswagen</td>\n",
       "      <td>135000</td>\n",
       "    </tr>\n",
       "    <tr>\n",
       "      <th>4</th>\n",
       "      <td>individual</td>\n",
       "      <td>2008</td>\n",
       "      <td>manual</td>\n",
       "      <td>90000</td>\n",
       "      <td>diesel</td>\n",
       "      <td>skoda</td>\n",
       "      <td>324000</td>\n",
       "    </tr>\n",
       "    <tr>\n",
       "      <th>...</th>\n",
       "      <td>...</td>\n",
       "      <td>...</td>\n",
       "      <td>...</td>\n",
       "      <td>...</td>\n",
       "      <td>...</td>\n",
       "      <td>...</td>\n",
       "      <td>...</td>\n",
       "    </tr>\n",
       "    <tr>\n",
       "      <th>379424</th>\n",
       "      <td>individual</td>\n",
       "      <td>2013</td>\n",
       "      <td>manual</td>\n",
       "      <td>110000</td>\n",
       "      <td>petrol</td>\n",
       "      <td>hyundai</td>\n",
       "      <td>320000</td>\n",
       "    </tr>\n",
       "    <tr>\n",
       "      <th>379425</th>\n",
       "      <td>individual</td>\n",
       "      <td>2007</td>\n",
       "      <td>manual</td>\n",
       "      <td>119000</td>\n",
       "      <td>diesel</td>\n",
       "      <td>hyundai</td>\n",
       "      <td>135000</td>\n",
       "    </tr>\n",
       "    <tr>\n",
       "      <th>379426</th>\n",
       "      <td>individual</td>\n",
       "      <td>2009</td>\n",
       "      <td>manual</td>\n",
       "      <td>120000</td>\n",
       "      <td>diesel</td>\n",
       "      <td>maruti</td>\n",
       "      <td>382000</td>\n",
       "    </tr>\n",
       "    <tr>\n",
       "      <th>379427</th>\n",
       "      <td>individual</td>\n",
       "      <td>2013</td>\n",
       "      <td>manual</td>\n",
       "      <td>25000</td>\n",
       "      <td>diesel</td>\n",
       "      <td>tata</td>\n",
       "      <td>290000</td>\n",
       "    </tr>\n",
       "    <tr>\n",
       "      <th>379428</th>\n",
       "      <td>individual</td>\n",
       "      <td>2013</td>\n",
       "      <td>manual</td>\n",
       "      <td>25000</td>\n",
       "      <td>diesel</td>\n",
       "      <td>tata</td>\n",
       "      <td>290000</td>\n",
       "    </tr>\n",
       "  </tbody>\n",
       "</table>\n",
       "<p>379429 rows × 7 columns</p>\n",
       "</div>"
      ],
      "text/plain": [
       "       seller_type  year transmission  km_driven    fuel       brand  \\\n",
       "0       individual  1993       manual     150000  petrol  volkswagen   \n",
       "1       individual  2011       manual     125000  diesel        audi   \n",
       "2       individual  2004    automatic     125000  diesel        jeep   \n",
       "3       individual  2001       manual     150000  petrol  volkswagen   \n",
       "4       individual  2008       manual      90000  diesel       skoda   \n",
       "...            ...   ...          ...        ...     ...         ...   \n",
       "379424  individual  2013       manual     110000  petrol     hyundai   \n",
       "379425  individual  2007       manual     119000  diesel     hyundai   \n",
       "379426  individual  2009       manual     120000  diesel      maruti   \n",
       "379427  individual  2013       manual      25000  diesel        tata   \n",
       "379428  individual  2013       manual      25000  diesel        tata   \n",
       "\n",
       "        selling_price  \n",
       "0               43200  \n",
       "1             1647000  \n",
       "2              882000  \n",
       "3              135000  \n",
       "4              324000  \n",
       "...               ...  \n",
       "379424         320000  \n",
       "379425         135000  \n",
       "379426         382000  \n",
       "379427         290000  \n",
       "379428         290000  \n",
       "\n",
       "[379429 rows x 7 columns]"
      ]
     },
     "execution_count": 3,
     "metadata": {},
     "output_type": "execute_result"
    }
   ],
   "source": [
    "df"
   ]
  },
  {
   "cell_type": "code",
   "execution_count": 4,
   "metadata": {},
   "outputs": [
    {
     "data": {
      "text/plain": [
       "seller_type      0\n",
       "year             0\n",
       "transmission     0\n",
       "km_driven        0\n",
       "fuel             0\n",
       "brand            0\n",
       "selling_price    0\n",
       "dtype: int64"
      ]
     },
     "execution_count": 4,
     "metadata": {},
     "output_type": "execute_result"
    }
   ],
   "source": [
    "df.isna().sum()"
   ]
  },
  {
   "cell_type": "code",
   "execution_count": 5,
   "metadata": {},
   "outputs": [
    {
     "data": {
      "text/plain": [
       "(379429, 7)"
      ]
     },
     "execution_count": 5,
     "metadata": {},
     "output_type": "execute_result"
    }
   ],
   "source": [
    "df.shape"
   ]
  },
  {
   "cell_type": "code",
   "execution_count": 6,
   "metadata": {},
   "outputs": [
    {
     "data": {
      "text/plain": [
       "seller_type      object\n",
       "year              int64\n",
       "transmission     object\n",
       "km_driven         int64\n",
       "fuel             object\n",
       "brand            object\n",
       "selling_price     int64\n",
       "dtype: object"
      ]
     },
     "execution_count": 6,
     "metadata": {},
     "output_type": "execute_result"
    }
   ],
   "source": [
    "df.dtypes"
   ]
  },
  {
   "cell_type": "code",
   "execution_count": 7,
   "metadata": {},
   "outputs": [
    {
     "data": {
      "text/plain": [
       "array([1993, 2011, 2004, 2001, 2008, 1995, 1980, 2014, 1998, 2005, 1910,\n",
       "       2016, 2007, 2009, 2002, 2018, 1997, 1990, 2017, 1981, 2003, 1994,\n",
       "       1991, 1984, 2006, 1999, 2012, 2010, 2000, 1992, 2013, 1996, 1985,\n",
       "       1989, 2015, 1968, 1982, 1976, 1983, 1959, 1973, 1111, 1969, 1971,\n",
       "       1987, 1986, 1988, 1967, 1970, 1965, 1945, 1925, 1974, 1979, 1955,\n",
       "       1978, 1972, 1977, 1961, 1963, 1964, 1960, 1966, 1975, 1937, 1936,\n",
       "       5000, 1954, 1958, 9999, 1956, 3200, 1000, 1933, 1941, 1962, 8888,\n",
       "       1500, 2200, 4100, 1929, 1951, 1957, 1940, 3000, 2066, 1949, 2019,\n",
       "       1800, 1953, 1935, 1234, 8000, 5300, 9000, 2900, 6000, 5900, 5911,\n",
       "       1400, 1950, 4000, 1948, 1952, 1200, 8500, 1932, 1255, 1927, 1923,\n",
       "       1931, 3700, 3800, 4800, 1942, 7000, 1911, 6500, 2290, 2500, 1930,\n",
       "       1001, 6200, 9450, 1944, 1943, 1947, 1934, 1938, 1688, 2800, 1253,\n",
       "       1928, 7500, 1919, 5555, 7777, 5600, 1600, 1939, 2222, 1039, 9996,\n",
       "       1300, 8455, 1915, 4500, 1920, 1602, 7800, 9229, 1946, 7100, 8200,\n",
       "       3500, 2020])"
      ]
     },
     "execution_count": 7,
     "metadata": {},
     "output_type": "execute_result"
    }
   ],
   "source": [
    "df['year'].unique()"
   ]
  },
  {
   "cell_type": "code",
   "execution_count": 8,
   "metadata": {},
   "outputs": [
    {
     "data": {
      "text/plain": [
       "array([1993, 2011, 2004, 2001, 2008, 1995, 1980, 2014, 1998, 2005, 1910,\n",
       "       2016, 2007, 2009, 2002, 2018, 1997, 1990, 2017, 1981, 2003, 1994,\n",
       "       1991, 1984, 2006, 1999, 2012, 2010, 2000, 1992, 2013, 1996, 1985,\n",
       "       1989, 2015, 1968, 1982, 1976, 1983, 1959, 1973, 1969, 1971, 1987,\n",
       "       1986, 1988, 1967, 1970, 1965, 1945, 1925, 1974, 1979, 1955, 1978,\n",
       "       1972, 1977, 1961, 1963, 1964, 1960, 1966, 1975, 1937, 1936, 1954,\n",
       "       1958, 1956, 1933, 1941, 1962, 1929, 1951, 1957, 1940, 1949, 2019,\n",
       "       1953, 1935, 1950, 1948, 1952, 1932, 1927, 1923, 1931, 1942, 1911,\n",
       "       1930, 1944, 1943, 1947, 1934, 1938, 1928, 1919, 1939, 1915, 1920,\n",
       "       1946, 2020])"
      ]
     },
     "execution_count": 8,
     "metadata": {},
     "output_type": "execute_result"
    }
   ],
   "source": [
    "df[(df['year']>=1900) & (df['year']<=2023)]['year'].unique()"
   ]
  },
  {
   "cell_type": "code",
   "execution_count": 9,
   "metadata": {},
   "outputs": [],
   "source": [
    "clrdf = df[(df['year']>=1900) & (df['year']<=2023)]"
   ]
  },
  {
   "cell_type": "code",
   "execution_count": 10,
   "metadata": {},
   "outputs": [
    {
     "data": {
      "text/html": [
       "<div>\n",
       "<style scoped>\n",
       "    .dataframe tbody tr th:only-of-type {\n",
       "        vertical-align: middle;\n",
       "    }\n",
       "\n",
       "    .dataframe tbody tr th {\n",
       "        vertical-align: top;\n",
       "    }\n",
       "\n",
       "    .dataframe thead th {\n",
       "        text-align: right;\n",
       "    }\n",
       "</style>\n",
       "<table border=\"1\" class=\"dataframe\">\n",
       "  <thead>\n",
       "    <tr style=\"text-align: right;\">\n",
       "      <th></th>\n",
       "      <th>seller_type</th>\n",
       "      <th>year</th>\n",
       "      <th>transmission</th>\n",
       "      <th>km_driven</th>\n",
       "      <th>fuel</th>\n",
       "      <th>brand</th>\n",
       "      <th>selling_price</th>\n",
       "    </tr>\n",
       "  </thead>\n",
       "  <tbody>\n",
       "    <tr>\n",
       "      <th>0</th>\n",
       "      <td>individual</td>\n",
       "      <td>1993</td>\n",
       "      <td>manual</td>\n",
       "      <td>150000</td>\n",
       "      <td>petrol</td>\n",
       "      <td>volkswagen</td>\n",
       "      <td>43200</td>\n",
       "    </tr>\n",
       "    <tr>\n",
       "      <th>1</th>\n",
       "      <td>individual</td>\n",
       "      <td>2011</td>\n",
       "      <td>manual</td>\n",
       "      <td>125000</td>\n",
       "      <td>diesel</td>\n",
       "      <td>audi</td>\n",
       "      <td>1647000</td>\n",
       "    </tr>\n",
       "    <tr>\n",
       "      <th>2</th>\n",
       "      <td>individual</td>\n",
       "      <td>2004</td>\n",
       "      <td>automatic</td>\n",
       "      <td>125000</td>\n",
       "      <td>diesel</td>\n",
       "      <td>jeep</td>\n",
       "      <td>882000</td>\n",
       "    </tr>\n",
       "    <tr>\n",
       "      <th>3</th>\n",
       "      <td>individual</td>\n",
       "      <td>2001</td>\n",
       "      <td>manual</td>\n",
       "      <td>150000</td>\n",
       "      <td>petrol</td>\n",
       "      <td>volkswagen</td>\n",
       "      <td>135000</td>\n",
       "    </tr>\n",
       "    <tr>\n",
       "      <th>4</th>\n",
       "      <td>individual</td>\n",
       "      <td>2008</td>\n",
       "      <td>manual</td>\n",
       "      <td>90000</td>\n",
       "      <td>diesel</td>\n",
       "      <td>skoda</td>\n",
       "      <td>324000</td>\n",
       "    </tr>\n",
       "    <tr>\n",
       "      <th>...</th>\n",
       "      <td>...</td>\n",
       "      <td>...</td>\n",
       "      <td>...</td>\n",
       "      <td>...</td>\n",
       "      <td>...</td>\n",
       "      <td>...</td>\n",
       "      <td>...</td>\n",
       "    </tr>\n",
       "    <tr>\n",
       "      <th>379424</th>\n",
       "      <td>individual</td>\n",
       "      <td>2013</td>\n",
       "      <td>manual</td>\n",
       "      <td>110000</td>\n",
       "      <td>petrol</td>\n",
       "      <td>hyundai</td>\n",
       "      <td>320000</td>\n",
       "    </tr>\n",
       "    <tr>\n",
       "      <th>379425</th>\n",
       "      <td>individual</td>\n",
       "      <td>2007</td>\n",
       "      <td>manual</td>\n",
       "      <td>119000</td>\n",
       "      <td>diesel</td>\n",
       "      <td>hyundai</td>\n",
       "      <td>135000</td>\n",
       "    </tr>\n",
       "    <tr>\n",
       "      <th>379426</th>\n",
       "      <td>individual</td>\n",
       "      <td>2009</td>\n",
       "      <td>manual</td>\n",
       "      <td>120000</td>\n",
       "      <td>diesel</td>\n",
       "      <td>maruti</td>\n",
       "      <td>382000</td>\n",
       "    </tr>\n",
       "    <tr>\n",
       "      <th>379427</th>\n",
       "      <td>individual</td>\n",
       "      <td>2013</td>\n",
       "      <td>manual</td>\n",
       "      <td>25000</td>\n",
       "      <td>diesel</td>\n",
       "      <td>tata</td>\n",
       "      <td>290000</td>\n",
       "    </tr>\n",
       "    <tr>\n",
       "      <th>379428</th>\n",
       "      <td>individual</td>\n",
       "      <td>2013</td>\n",
       "      <td>manual</td>\n",
       "      <td>25000</td>\n",
       "      <td>diesel</td>\n",
       "      <td>tata</td>\n",
       "      <td>290000</td>\n",
       "    </tr>\n",
       "  </tbody>\n",
       "</table>\n",
       "<p>379247 rows × 7 columns</p>\n",
       "</div>"
      ],
      "text/plain": [
       "       seller_type  year transmission  km_driven    fuel       brand  \\\n",
       "0       individual  1993       manual     150000  petrol  volkswagen   \n",
       "1       individual  2011       manual     125000  diesel        audi   \n",
       "2       individual  2004    automatic     125000  diesel        jeep   \n",
       "3       individual  2001       manual     150000  petrol  volkswagen   \n",
       "4       individual  2008       manual      90000  diesel       skoda   \n",
       "...            ...   ...          ...        ...     ...         ...   \n",
       "379424  individual  2013       manual     110000  petrol     hyundai   \n",
       "379425  individual  2007       manual     119000  diesel     hyundai   \n",
       "379426  individual  2009       manual     120000  diesel      maruti   \n",
       "379427  individual  2013       manual      25000  diesel        tata   \n",
       "379428  individual  2013       manual      25000  diesel        tata   \n",
       "\n",
       "        selling_price  \n",
       "0               43200  \n",
       "1             1647000  \n",
       "2              882000  \n",
       "3              135000  \n",
       "4              324000  \n",
       "...               ...  \n",
       "379424         320000  \n",
       "379425         135000  \n",
       "379426         382000  \n",
       "379427         290000  \n",
       "379428         290000  \n",
       "\n",
       "[379247 rows x 7 columns]"
      ]
     },
     "execution_count": 10,
     "metadata": {},
     "output_type": "execute_result"
    }
   ],
   "source": [
    "clrdf"
   ]
  },
  {
   "cell_type": "code",
   "execution_count": 11,
   "metadata": {},
   "outputs": [
    {
     "data": {
      "text/plain": [
       "array(['volkswagen', 'audi', 'jeep', 'skoda', 'bmw', 'peugeot', 'ford',\n",
       "       'mazda', 'nissan', 'renault', 'mercedesbenz', 'opel', 'seat',\n",
       "       'citroen', 'honda', 'fiat', 'mini', 'smart', 'hyundai',\n",
       "       'sonstigeautos', 'alfaromeo', 'subaru', 'volvo', 'mitsubishi',\n",
       "       'kia', 'suzuki', 'lancia', 'porsche', 'toyota', 'chevrolet',\n",
       "       'dacia', 'daihatsu', 'trabant', 'saab', 'chrysler', 'jaguar',\n",
       "       'daewoo', 'rover', 'landrover', 'lada', 'maruti', 'mahindra',\n",
       "       'tata', 'datsun', 'mercedes', 'lexus', 'land', 'mg', 'force',\n",
       "       'ambassador', 'ashok', 'isuzu'], dtype=object)"
      ]
     },
     "execution_count": 11,
     "metadata": {},
     "output_type": "execute_result"
    }
   ],
   "source": [
    "clrdf['brand'].unique()"
   ]
  },
  {
   "cell_type": "code",
   "execution_count": 12,
   "metadata": {},
   "outputs": [],
   "source": [
    "data = clrdf.copy()"
   ]
  },
  {
   "cell_type": "code",
   "execution_count": 13,
   "metadata": {},
   "outputs": [],
   "source": [
    "data['brand'] =data['brand'].replace({'mercedes':'mercedesbenz', 'rover':'landrover', 'land':'landrover'})"
   ]
  },
  {
   "cell_type": "code",
   "execution_count": 14,
   "metadata": {},
   "outputs": [
    {
     "data": {
      "text/plain": [
       "array(['volkswagen', 'audi', 'jeep', 'skoda', 'bmw', 'peugeot', 'ford',\n",
       "       'mazda', 'nissan', 'renault', 'mercedesbenz', 'opel', 'seat',\n",
       "       'citroen', 'honda', 'fiat', 'mini', 'smart', 'hyundai',\n",
       "       'sonstigeautos', 'alfaromeo', 'subaru', 'volvo', 'mitsubishi',\n",
       "       'kia', 'suzuki', 'lancia', 'porsche', 'toyota', 'chevrolet',\n",
       "       'dacia', 'daihatsu', 'trabant', 'saab', 'chrysler', 'jaguar',\n",
       "       'daewoo', 'landrover', 'lada', 'maruti', 'mahindra', 'tata',\n",
       "       'datsun', 'lexus', 'mg', 'force', 'ambassador', 'ashok', 'isuzu'],\n",
       "      dtype=object)"
      ]
     },
     "execution_count": 14,
     "metadata": {},
     "output_type": "execute_result"
    }
   ],
   "source": [
    "data['brand'].unique()"
   ]
  },
  {
   "cell_type": "code",
   "execution_count": 15,
   "metadata": {},
   "outputs": [
    {
     "data": {
      "text/plain": [
       "seller_type      0\n",
       "year             0\n",
       "transmission     0\n",
       "km_driven        0\n",
       "fuel             0\n",
       "brand            0\n",
       "selling_price    0\n",
       "dtype: int64"
      ]
     },
     "execution_count": 15,
     "metadata": {},
     "output_type": "execute_result"
    }
   ],
   "source": [
    "data.isna().sum()"
   ]
  },
  {
   "cell_type": "code",
   "execution_count": 18,
   "metadata": {},
   "outputs": [
    {
     "data": {
      "text/plain": [
       "52"
      ]
     },
     "execution_count": 18,
     "metadata": {},
     "output_type": "execute_result"
    }
   ],
   "source": [
    "len(clrdf['brand'].unique())"
   ]
  },
  {
   "cell_type": "code",
   "execution_count": 19,
   "metadata": {},
   "outputs": [
    {
     "data": {
      "text/plain": [
       "49"
      ]
     },
     "execution_count": 19,
     "metadata": {},
     "output_type": "execute_result"
    }
   ],
   "source": [
    "len(data['brand'].unique())"
   ]
  },
  {
   "cell_type": "code",
   "execution_count": 16,
   "metadata": {},
   "outputs": [],
   "source": [
    "pickle.dump(data, open('/home/anuraaga/Documents/DataCodes/Projects/pricePredictor/dataset/dataset_car/autos_v6.pkl', 'wb'))"
   ]
  }
 ],
 "metadata": {
  "kernelspec": {
   "display_name": "pricePredictor",
   "language": "python",
   "name": "python3"
  },
  "language_info": {
   "codemirror_mode": {
    "name": "ipython",
    "version": 3
   },
   "file_extension": ".py",
   "mimetype": "text/x-python",
   "name": "python",
   "nbconvert_exporter": "python",
   "pygments_lexer": "ipython3",
   "version": "3.11.6"
  }
 },
 "nbformat": 4,
 "nbformat_minor": 2
}
