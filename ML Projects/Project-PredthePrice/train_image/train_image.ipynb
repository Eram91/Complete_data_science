{
 "cells": [
  {
   "cell_type": "code",
   "execution_count": 1,
   "metadata": {},
   "outputs": [],
   "source": [
    "import pandas as pd \n",
    "from sklearn.linear_model import LogisticRegression, Perceptron\n",
    "from lazypredict.Supervised import LazyClassifier\n",
    "from sklearn.model_selection import train_test_split, GridSearchCV\n",
    "from PIL import Image\n",
    "import numpy as np\n",
    "from sklearn.metrics import accuracy_score, confusion_matrix\n",
    "import matplotlib.pyplot as plt\n",
    "from lightgbm import LGBMClassifier\n",
    "from sklearn.decomposition import PCA\n",
    "from sklearn.ensemble import RandomForestClassifier"
   ]
  },
  {
   "cell_type": "code",
   "execution_count": 3,
   "metadata": {},
   "outputs": [
    {
     "data": {
      "text/html": [
       "<div>\n",
       "<style scoped>\n",
       "    .dataframe tbody tr th:only-of-type {\n",
       "        vertical-align: middle;\n",
       "    }\n",
       "\n",
       "    .dataframe tbody tr th {\n",
       "        vertical-align: top;\n",
       "    }\n",
       "\n",
       "    .dataframe thead th {\n",
       "        text-align: right;\n",
       "    }\n",
       "</style>\n",
       "<table border=\"1\" class=\"dataframe\">\n",
       "  <thead>\n",
       "    <tr style=\"text-align: right;\">\n",
       "      <th></th>\n",
       "      <th>pixel_0</th>\n",
       "      <th>pixel_1</th>\n",
       "      <th>pixel_2</th>\n",
       "      <th>pixel_3</th>\n",
       "      <th>pixel_4</th>\n",
       "      <th>pixel_5</th>\n",
       "      <th>pixel_6</th>\n",
       "      <th>pixel_7</th>\n",
       "      <th>pixel_8</th>\n",
       "      <th>pixel_9</th>\n",
       "      <th>...</th>\n",
       "      <th>pixel_1287</th>\n",
       "      <th>pixel_1288</th>\n",
       "      <th>pixel_1289</th>\n",
       "      <th>pixel_1290</th>\n",
       "      <th>pixel_1291</th>\n",
       "      <th>pixel_1292</th>\n",
       "      <th>pixel_1293</th>\n",
       "      <th>pixel_1294</th>\n",
       "      <th>pixel_1295</th>\n",
       "      <th>label</th>\n",
       "    </tr>\n",
       "  </thead>\n",
       "  <tbody>\n",
       "    <tr>\n",
       "      <th>0</th>\n",
       "      <td>0.6588235294117647</td>\n",
       "      <td>0.3803921568627451</td>\n",
       "      <td>0.3254901960784314</td>\n",
       "      <td>0.5843137254901961</td>\n",
       "      <td>0.6745098039215687</td>\n",
       "      <td>0.7372549019607844</td>\n",
       "      <td>0.7607843137254902</td>\n",
       "      <td>0.7411764705882353</td>\n",
       "      <td>0.807843137254902</td>\n",
       "      <td>0.8941176470588236</td>\n",
       "      <td>...</td>\n",
       "      <td>0.0392156862745098</td>\n",
       "      <td>0.12941176470588237</td>\n",
       "      <td>0.1803921568627451</td>\n",
       "      <td>0.24705882352941178</td>\n",
       "      <td>0.0784313725490196</td>\n",
       "      <td>0.058823529411764705</td>\n",
       "      <td>0.047058823529411764</td>\n",
       "      <td>0.4117647058823529</td>\n",
       "      <td>0.592156862745098</td>\n",
       "      <td>Hatchback</td>\n",
       "    </tr>\n",
       "    <tr>\n",
       "      <th>1</th>\n",
       "      <td>0.5607843137254902</td>\n",
       "      <td>0.24705882352941178</td>\n",
       "      <td>0.22745098039215686</td>\n",
       "      <td>0.21176470588235294</td>\n",
       "      <td>0.42745098039215684</td>\n",
       "      <td>0.5882352941176471</td>\n",
       "      <td>0.5607843137254902</td>\n",
       "      <td>0.5254901960784314</td>\n",
       "      <td>0.5254901960784314</td>\n",
       "      <td>0.5333333333333333</td>\n",
       "      <td>...</td>\n",
       "      <td>0.054901960784313725</td>\n",
       "      <td>0.054901960784313725</td>\n",
       "      <td>0.047058823529411764</td>\n",
       "      <td>0.058823529411764705</td>\n",
       "      <td>0.4235294117647059</td>\n",
       "      <td>0.48627450980392156</td>\n",
       "      <td>0.03137254901960784</td>\n",
       "      <td>0.08235294117647059</td>\n",
       "      <td>0.11372549019607843</td>\n",
       "      <td>Hatchback</td>\n",
       "    </tr>\n",
       "    <tr>\n",
       "      <th>2</th>\n",
       "      <td>0.2784313725490196</td>\n",
       "      <td>0.2823529411764706</td>\n",
       "      <td>0.27450980392156865</td>\n",
       "      <td>0.38823529411764707</td>\n",
       "      <td>0.7450980392156863</td>\n",
       "      <td>0.7411764705882353</td>\n",
       "      <td>0.7803921568627451</td>\n",
       "      <td>0.5686274509803921</td>\n",
       "      <td>0.4980392156862745</td>\n",
       "      <td>0.5529411764705883</td>\n",
       "      <td>...</td>\n",
       "      <td>0.058823529411764705</td>\n",
       "      <td>0.058823529411764705</td>\n",
       "      <td>0.06666666666666667</td>\n",
       "      <td>0.06666666666666667</td>\n",
       "      <td>0.08235294117647059</td>\n",
       "      <td>0.09411764705882353</td>\n",
       "      <td>0.1450980392156863</td>\n",
       "      <td>0.38823529411764707</td>\n",
       "      <td>0.5019607843137255</td>\n",
       "      <td>Hatchback</td>\n",
       "    </tr>\n",
       "    <tr>\n",
       "      <th>3</th>\n",
       "      <td>0.8666666666666667</td>\n",
       "      <td>0.7764705882352941</td>\n",
       "      <td>0.8274509803921568</td>\n",
       "      <td>0.8784313725490196</td>\n",
       "      <td>0.9254901960784314</td>\n",
       "      <td>0.9568627450980393</td>\n",
       "      <td>0.8823529411764706</td>\n",
       "      <td>0.792156862745098</td>\n",
       "      <td>0.7843137254901961</td>\n",
       "      <td>0.796078431372549</td>\n",
       "      <td>...</td>\n",
       "      <td>0.9019607843137255</td>\n",
       "      <td>0.8745098039215686</td>\n",
       "      <td>0.8941176470588236</td>\n",
       "      <td>0.8313725490196079</td>\n",
       "      <td>0.7490196078431373</td>\n",
       "      <td>0.7803921568627451</td>\n",
       "      <td>0.8</td>\n",
       "      <td>0.7647058823529411</td>\n",
       "      <td>0.7647058823529411</td>\n",
       "      <td>Hatchback</td>\n",
       "    </tr>\n",
       "    <tr>\n",
       "      <th>4</th>\n",
       "      <td>0.6823529411764706</td>\n",
       "      <td>0.7294117647058823</td>\n",
       "      <td>0.4745098039215686</td>\n",
       "      <td>0.6</td>\n",
       "      <td>0.7333333333333333</td>\n",
       "      <td>0.6901960784313725</td>\n",
       "      <td>0.6941176470588235</td>\n",
       "      <td>0.7647058823529411</td>\n",
       "      <td>0.7686274509803922</td>\n",
       "      <td>0.792156862745098</td>\n",
       "      <td>...</td>\n",
       "      <td>0.1843137254901961</td>\n",
       "      <td>0.21176470588235294</td>\n",
       "      <td>0.21568627450980393</td>\n",
       "      <td>0.23137254901960785</td>\n",
       "      <td>0.2549019607843137</td>\n",
       "      <td>0.2627450980392157</td>\n",
       "      <td>0.2784313725490196</td>\n",
       "      <td>0.29411764705882354</td>\n",
       "      <td>0.35294117647058826</td>\n",
       "      <td>Hatchback</td>\n",
       "    </tr>\n",
       "  </tbody>\n",
       "</table>\n",
       "<p>5 rows × 1297 columns</p>\n",
       "</div>"
      ],
      "text/plain": [
       "              pixel_0              pixel_1              pixel_2  \\\n",
       "0  0.6588235294117647   0.3803921568627451   0.3254901960784314   \n",
       "1  0.5607843137254902  0.24705882352941178  0.22745098039215686   \n",
       "2  0.2784313725490196   0.2823529411764706  0.27450980392156865   \n",
       "3  0.8666666666666667   0.7764705882352941   0.8274509803921568   \n",
       "4  0.6823529411764706   0.7294117647058823   0.4745098039215686   \n",
       "\n",
       "               pixel_3              pixel_4             pixel_5  \\\n",
       "0   0.5843137254901961   0.6745098039215687  0.7372549019607844   \n",
       "1  0.21176470588235294  0.42745098039215684  0.5882352941176471   \n",
       "2  0.38823529411764707   0.7450980392156863  0.7411764705882353   \n",
       "3   0.8784313725490196   0.9254901960784314  0.9568627450980393   \n",
       "4                  0.6   0.7333333333333333  0.6901960784313725   \n",
       "\n",
       "              pixel_6             pixel_7             pixel_8  \\\n",
       "0  0.7607843137254902  0.7411764705882353   0.807843137254902   \n",
       "1  0.5607843137254902  0.5254901960784314  0.5254901960784314   \n",
       "2  0.7803921568627451  0.5686274509803921  0.4980392156862745   \n",
       "3  0.8823529411764706   0.792156862745098  0.7843137254901961   \n",
       "4  0.6941176470588235  0.7647058823529411  0.7686274509803922   \n",
       "\n",
       "              pixel_9  ...            pixel_1287            pixel_1288  \\\n",
       "0  0.8941176470588236  ...    0.0392156862745098   0.12941176470588237   \n",
       "1  0.5333333333333333  ...  0.054901960784313725  0.054901960784313725   \n",
       "2  0.5529411764705883  ...  0.058823529411764705  0.058823529411764705   \n",
       "3   0.796078431372549  ...    0.9019607843137255    0.8745098039215686   \n",
       "4   0.792156862745098  ...    0.1843137254901961   0.21176470588235294   \n",
       "\n",
       "             pixel_1289            pixel_1290           pixel_1291  \\\n",
       "0    0.1803921568627451   0.24705882352941178   0.0784313725490196   \n",
       "1  0.047058823529411764  0.058823529411764705   0.4235294117647059   \n",
       "2   0.06666666666666667   0.06666666666666667  0.08235294117647059   \n",
       "3    0.8941176470588236    0.8313725490196079   0.7490196078431373   \n",
       "4   0.21568627450980393   0.23137254901960785   0.2549019607843137   \n",
       "\n",
       "             pixel_1292            pixel_1293           pixel_1294  \\\n",
       "0  0.058823529411764705  0.047058823529411764   0.4117647058823529   \n",
       "1   0.48627450980392156   0.03137254901960784  0.08235294117647059   \n",
       "2   0.09411764705882353    0.1450980392156863  0.38823529411764707   \n",
       "3    0.7803921568627451                   0.8   0.7647058823529411   \n",
       "4    0.2627450980392157    0.2784313725490196  0.29411764705882354   \n",
       "\n",
       "            pixel_1295      label  \n",
       "0    0.592156862745098  Hatchback  \n",
       "1  0.11372549019607843  Hatchback  \n",
       "2   0.5019607843137255  Hatchback  \n",
       "3   0.7647058823529411  Hatchback  \n",
       "4  0.35294117647058826  Hatchback  \n",
       "\n",
       "[5 rows x 1297 columns]"
      ]
     },
     "execution_count": 3,
     "metadata": {},
     "output_type": "execute_result"
    }
   ],
   "source": [
    "columns = [f'pixel_{i}' for i in range(1296)]\n",
    "columns.append('label')\n",
    "df = pd.DataFrame(columns=columns)\n",
    "\n",
    "car_types = ['Hatchback', 'Pickup', 'Seden', 'SUV']\n",
    "for cartype in car_types:\n",
    "    path = f'./test_image/{cartype}/'\n",
    "    for i in range(1500):\n",
    "        try:\n",
    "            image = f'PHOTO_{i}.jpg'\n",
    "            image_path = path + image\n",
    "\n",
    "            image = Image.open(image_path).convert(\"L\")\n",
    "            image = image.resize((36, 36), Image.ADAPTIVE)\n",
    "            pixel_values = np.array(image).reshape(-1)\n",
    "            normalized_pixel_values = pixel_values / 255\n",
    "            row_data = np.concatenate([normalized_pixel_values, [cartype]])\n",
    "            ndf = pd.DataFrame([row_data], columns=columns)\n",
    "            df = pd.concat([df, ndf], ignore_index=True)   \n",
    "        except FileNotFoundError as e:\n",
    "            continue\n",
    "    \n",
    "    \n",
    "\n",
    "df.head()"
   ]
  },
  {
   "cell_type": "code",
   "execution_count": 4,
   "metadata": {},
   "outputs": [
    {
     "data": {
      "text/plain": [
       "<matplotlib.image.AxesImage at 0x7f85b0aa3090>"
      ]
     },
     "execution_count": 4,
     "metadata": {},
     "output_type": "execute_result"
    },
    {
     "data": {
      "image/png": "[encoded data removed]",
      "text/plain": [
       "<Figure size 640x480 with 1 Axes>"
      ]
     },
     "metadata": {},
     "output_type": "display_data"
    }
   ],
   "source": [
    "\n",
    "imagepath = 'test_image/Hatchback/PHOTO_0.jpg'\n",
    "image = Image.open(imagepath).convert(\"L\")\n",
    "resized_image = image.resize((36,36), Image.ADAPTIVE)\n",
    "pixel_values = np.array(resized_image)\n",
    "plt.imshow(pixel_values, cmap='gray')"
   ]
  },
  {
   "cell_type": "code",
   "execution_count": 5,
   "metadata": {},
   "outputs": [
    {
     "data": {
      "text/html": [
       "<div>\n",
       "<style scoped>\n",
       "    .dataframe tbody tr th:only-of-type {\n",
       "        vertical-align: middle;\n",
       "    }\n",
       "\n",
       "    .dataframe tbody tr th {\n",
       "        vertical-align: top;\n",
       "    }\n",
       "\n",
       "    .dataframe thead th {\n",
       "        text-align: right;\n",
       "    }\n",
       "</style>\n",
       "<table border=\"1\" class=\"dataframe\">\n",
       "  <thead>\n",
       "    <tr style=\"text-align: right;\">\n",
       "      <th></th>\n",
       "      <th>pixel_0</th>\n",
       "      <th>pixel_1</th>\n",
       "      <th>pixel_2</th>\n",
       "      <th>pixel_3</th>\n",
       "      <th>pixel_4</th>\n",
       "      <th>pixel_5</th>\n",
       "      <th>pixel_6</th>\n",
       "      <th>pixel_7</th>\n",
       "      <th>pixel_8</th>\n",
       "      <th>pixel_9</th>\n",
       "      <th>...</th>\n",
       "      <th>pixel_1287</th>\n",
       "      <th>pixel_1288</th>\n",
       "      <th>pixel_1289</th>\n",
       "      <th>pixel_1290</th>\n",
       "      <th>pixel_1291</th>\n",
       "      <th>pixel_1292</th>\n",
       "      <th>pixel_1293</th>\n",
       "      <th>pixel_1294</th>\n",
       "      <th>pixel_1295</th>\n",
       "      <th>label</th>\n",
       "    </tr>\n",
       "  </thead>\n",
       "  <tbody>\n",
       "    <tr>\n",
       "      <th>0</th>\n",
       "      <td>0.6588235294117647</td>\n",
       "      <td>0.3803921568627451</td>\n",
       "      <td>0.3254901960784314</td>\n",
       "      <td>0.5843137254901961</td>\n",
       "      <td>0.6745098039215687</td>\n",
       "      <td>0.7372549019607844</td>\n",
       "      <td>0.7607843137254902</td>\n",
       "      <td>0.7411764705882353</td>\n",
       "      <td>0.807843137254902</td>\n",
       "      <td>0.8941176470588236</td>\n",
       "      <td>...</td>\n",
       "      <td>0.0392156862745098</td>\n",
       "      <td>0.12941176470588237</td>\n",
       "      <td>0.1803921568627451</td>\n",
       "      <td>0.24705882352941178</td>\n",
       "      <td>0.0784313725490196</td>\n",
       "      <td>0.058823529411764705</td>\n",
       "      <td>0.047058823529411764</td>\n",
       "      <td>0.4117647058823529</td>\n",
       "      <td>0.592156862745098</td>\n",
       "      <td>Hatchback</td>\n",
       "    </tr>\n",
       "    <tr>\n",
       "      <th>1</th>\n",
       "      <td>0.5607843137254902</td>\n",
       "      <td>0.24705882352941178</td>\n",
       "      <td>0.22745098039215686</td>\n",
       "      <td>0.21176470588235294</td>\n",
       "      <td>0.42745098039215684</td>\n",
       "      <td>0.5882352941176471</td>\n",
       "      <td>0.5607843137254902</td>\n",
       "      <td>0.5254901960784314</td>\n",
       "      <td>0.5254901960784314</td>\n",
       "      <td>0.5333333333333333</td>\n",
       "      <td>...</td>\n",
       "      <td>0.054901960784313725</td>\n",
       "      <td>0.054901960784313725</td>\n",
       "      <td>0.047058823529411764</td>\n",
       "      <td>0.058823529411764705</td>\n",
       "      <td>0.4235294117647059</td>\n",
       "      <td>0.48627450980392156</td>\n",
       "      <td>0.03137254901960784</td>\n",
       "      <td>0.08235294117647059</td>\n",
       "      <td>0.11372549019607843</td>\n",
       "      <td>Hatchback</td>\n",
       "    </tr>\n",
       "    <tr>\n",
       "      <th>2</th>\n",
       "      <td>0.2784313725490196</td>\n",
       "      <td>0.2823529411764706</td>\n",
       "      <td>0.27450980392156865</td>\n",
       "      <td>0.38823529411764707</td>\n",
       "      <td>0.7450980392156863</td>\n",
       "      <td>0.7411764705882353</td>\n",
       "      <td>0.7803921568627451</td>\n",
       "      <td>0.5686274509803921</td>\n",
       "      <td>0.4980392156862745</td>\n",
       "      <td>0.5529411764705883</td>\n",
       "      <td>...</td>\n",
       "      <td>0.058823529411764705</td>\n",
       "      <td>0.058823529411764705</td>\n",
       "      <td>0.06666666666666667</td>\n",
       "      <td>0.06666666666666667</td>\n",
       "      <td>0.08235294117647059</td>\n",
       "      <td>0.09411764705882353</td>\n",
       "      <td>0.1450980392156863</td>\n",
       "      <td>0.38823529411764707</td>\n",
       "      <td>0.5019607843137255</td>\n",
       "      <td>Hatchback</td>\n",
       "    </tr>\n",
       "    <tr>\n",
       "      <th>3</th>\n",
       "      <td>0.8666666666666667</td>\n",
       "      <td>0.7764705882352941</td>\n",
       "      <td>0.8274509803921568</td>\n",
       "      <td>0.8784313725490196</td>\n",
       "      <td>0.9254901960784314</td>\n",
       "      <td>0.9568627450980393</td>\n",
       "      <td>0.8823529411764706</td>\n",
       "      <td>0.792156862745098</td>\n",
       "      <td>0.7843137254901961</td>\n",
       "      <td>0.796078431372549</td>\n",
       "      <td>...</td>\n",
       "      <td>0.9019607843137255</td>\n",
       "      <td>0.8745098039215686</td>\n",
       "      <td>0.8941176470588236</td>\n",
       "      <td>0.8313725490196079</td>\n",
       "      <td>0.7490196078431373</td>\n",
       "      <td>0.7803921568627451</td>\n",
       "      <td>0.8</td>\n",
       "      <td>0.7647058823529411</td>\n",
       "      <td>0.7647058823529411</td>\n",
       "      <td>Hatchback</td>\n",
       "    </tr>\n",
       "    <tr>\n",
       "      <th>4</th>\n",
       "      <td>0.6823529411764706</td>\n",
       "      <td>0.7294117647058823</td>\n",
       "      <td>0.4745098039215686</td>\n",
       "      <td>0.6</td>\n",
       "      <td>0.7333333333333333</td>\n",
       "      <td>0.6901960784313725</td>\n",
       "      <td>0.6941176470588235</td>\n",
       "      <td>0.7647058823529411</td>\n",
       "      <td>0.7686274509803922</td>\n",
       "      <td>0.792156862745098</td>\n",
       "      <td>...</td>\n",
       "      <td>0.1843137254901961</td>\n",
       "      <td>0.21176470588235294</td>\n",
       "      <td>0.21568627450980393</td>\n",
       "      <td>0.23137254901960785</td>\n",
       "      <td>0.2549019607843137</td>\n",
       "      <td>0.2627450980392157</td>\n",
       "      <td>0.2784313725490196</td>\n",
       "      <td>0.29411764705882354</td>\n",
       "      <td>0.35294117647058826</td>\n",
       "      <td>Hatchback</td>\n",
       "    </tr>\n",
       "    <tr>\n",
       "      <th>...</th>\n",
       "      <td>...</td>\n",
       "      <td>...</td>\n",
       "      <td>...</td>\n",
       "      <td>...</td>\n",
       "      <td>...</td>\n",
       "      <td>...</td>\n",
       "      <td>...</td>\n",
       "      <td>...</td>\n",
       "      <td>...</td>\n",
       "      <td>...</td>\n",
       "      <td>...</td>\n",
       "      <td>...</td>\n",
       "      <td>...</td>\n",
       "      <td>...</td>\n",
       "      <td>...</td>\n",
       "      <td>...</td>\n",
       "      <td>...</td>\n",
       "      <td>...</td>\n",
       "      <td>...</td>\n",
       "      <td>...</td>\n",
       "      <td>...</td>\n",
       "    </tr>\n",
       "    <tr>\n",
       "      <th>3657</th>\n",
       "      <td>0.6078431372549019</td>\n",
       "      <td>0.6</td>\n",
       "      <td>0.5725490196078431</td>\n",
       "      <td>0.5333333333333333</td>\n",
       "      <td>0.5137254901960784</td>\n",
       "      <td>0.4980392156862745</td>\n",
       "      <td>0.4588235294117647</td>\n",
       "      <td>0.2980392156862745</td>\n",
       "      <td>0.23529411764705882</td>\n",
       "      <td>0.37254901960784315</td>\n",
       "      <td>...</td>\n",
       "      <td>0.22745098039215686</td>\n",
       "      <td>0.25882352941176473</td>\n",
       "      <td>0.27450980392156865</td>\n",
       "      <td>0.3058823529411765</td>\n",
       "      <td>0.3607843137254902</td>\n",
       "      <td>0.40784313725490196</td>\n",
       "      <td>0.4549019607843137</td>\n",
       "      <td>0.49411764705882355</td>\n",
       "      <td>0.5137254901960784</td>\n",
       "      <td>SUV</td>\n",
       "    </tr>\n",
       "    <tr>\n",
       "      <th>3658</th>\n",
       "      <td>0.9686274509803922</td>\n",
       "      <td>0.984313725490196</td>\n",
       "      <td>0.9019607843137255</td>\n",
       "      <td>0.6980392156862745</td>\n",
       "      <td>0.49411764705882355</td>\n",
       "      <td>0.3843137254901961</td>\n",
       "      <td>0.40784313725490196</td>\n",
       "      <td>0.611764705882353</td>\n",
       "      <td>0.7607843137254902</td>\n",
       "      <td>0.8588235294117647</td>\n",
       "      <td>...</td>\n",
       "      <td>0.15294117647058825</td>\n",
       "      <td>0.19607843137254902</td>\n",
       "      <td>0.16862745098039217</td>\n",
       "      <td>0.1843137254901961</td>\n",
       "      <td>0.23137254901960785</td>\n",
       "      <td>0.2980392156862745</td>\n",
       "      <td>0.37254901960784315</td>\n",
       "      <td>0.403921568627451</td>\n",
       "      <td>0.4588235294117647</td>\n",
       "      <td>SUV</td>\n",
       "    </tr>\n",
       "    <tr>\n",
       "      <th>3659</th>\n",
       "      <td>0.6235294117647059</td>\n",
       "      <td>0.6078431372549019</td>\n",
       "      <td>0.6078431372549019</td>\n",
       "      <td>0.5764705882352941</td>\n",
       "      <td>0.5411764705882353</td>\n",
       "      <td>0.5176470588235295</td>\n",
       "      <td>0.47843137254901963</td>\n",
       "      <td>0.47058823529411764</td>\n",
       "      <td>0.3058823529411765</td>\n",
       "      <td>0.26666666666666666</td>\n",
       "      <td>...</td>\n",
       "      <td>0.16470588235294117</td>\n",
       "      <td>0.1843137254901961</td>\n",
       "      <td>0.21176470588235294</td>\n",
       "      <td>0.25098039215686274</td>\n",
       "      <td>0.29411764705882354</td>\n",
       "      <td>0.3411764705882353</td>\n",
       "      <td>0.41568627450980394</td>\n",
       "      <td>0.49411764705882355</td>\n",
       "      <td>0.5294117647058824</td>\n",
       "      <td>SUV</td>\n",
       "    </tr>\n",
       "    <tr>\n",
       "      <th>3660</th>\n",
       "      <td>0.7450980392156863</td>\n",
       "      <td>0.792156862745098</td>\n",
       "      <td>0.8235294117647058</td>\n",
       "      <td>0.8431372549019608</td>\n",
       "      <td>0.8901960784313725</td>\n",
       "      <td>0.9137254901960784</td>\n",
       "      <td>0.9019607843137255</td>\n",
       "      <td>0.8901960784313725</td>\n",
       "      <td>0.9058823529411765</td>\n",
       "      <td>0.8313725490196079</td>\n",
       "      <td>...</td>\n",
       "      <td>0.13333333333333333</td>\n",
       "      <td>0.1607843137254902</td>\n",
       "      <td>0.17647058823529413</td>\n",
       "      <td>0.19215686274509805</td>\n",
       "      <td>0.22745098039215686</td>\n",
       "      <td>0.24705882352941178</td>\n",
       "      <td>0.2823529411764706</td>\n",
       "      <td>0.3254901960784314</td>\n",
       "      <td>0.34901960784313724</td>\n",
       "      <td>SUV</td>\n",
       "    </tr>\n",
       "    <tr>\n",
       "      <th>3661</th>\n",
       "      <td>0.8549019607843137</td>\n",
       "      <td>0.9215686274509803</td>\n",
       "      <td>0.8352941176470589</td>\n",
       "      <td>0.8745098039215686</td>\n",
       "      <td>0.7333333333333333</td>\n",
       "      <td>0.5058823529411764</td>\n",
       "      <td>0.5333333333333333</td>\n",
       "      <td>0.5803921568627451</td>\n",
       "      <td>0.5803921568627451</td>\n",
       "      <td>0.5647058823529412</td>\n",
       "      <td>...</td>\n",
       "      <td>0.1607843137254902</td>\n",
       "      <td>0.23137254901960785</td>\n",
       "      <td>0.28627450980392155</td>\n",
       "      <td>0.39215686274509803</td>\n",
       "      <td>0.25882352941176473</td>\n",
       "      <td>0.03137254901960784</td>\n",
       "      <td>0.03137254901960784</td>\n",
       "      <td>0.13725490196078433</td>\n",
       "      <td>0.4823529411764706</td>\n",
       "      <td>SUV</td>\n",
       "    </tr>\n",
       "  </tbody>\n",
       "</table>\n",
       "<p>3662 rows × 1297 columns</p>\n",
       "</div>"
      ],
      "text/plain": [
       "                 pixel_0              pixel_1              pixel_2  \\\n",
       "0     0.6588235294117647   0.3803921568627451   0.3254901960784314   \n",
       "1     0.5607843137254902  0.24705882352941178  0.22745098039215686   \n",
       "2     0.2784313725490196   0.2823529411764706  0.27450980392156865   \n",
       "3     0.8666666666666667   0.7764705882352941   0.8274509803921568   \n",
       "4     0.6823529411764706   0.7294117647058823   0.4745098039215686   \n",
       "...                  ...                  ...                  ...   \n",
       "3657  0.6078431372549019                  0.6   0.5725490196078431   \n",
       "3658  0.9686274509803922    0.984313725490196   0.9019607843137255   \n",
       "3659  0.6235294117647059   0.6078431372549019   0.6078431372549019   \n",
       "3660  0.7450980392156863    0.792156862745098   0.8235294117647058   \n",
       "3661  0.8549019607843137   0.9215686274509803   0.8352941176470589   \n",
       "\n",
       "                  pixel_3              pixel_4             pixel_5  \\\n",
       "0      0.5843137254901961   0.6745098039215687  0.7372549019607844   \n",
       "1     0.21176470588235294  0.42745098039215684  0.5882352941176471   \n",
       "2     0.38823529411764707   0.7450980392156863  0.7411764705882353   \n",
       "3      0.8784313725490196   0.9254901960784314  0.9568627450980393   \n",
       "4                     0.6   0.7333333333333333  0.6901960784313725   \n",
       "...                   ...                  ...                 ...   \n",
       "3657   0.5333333333333333   0.5137254901960784  0.4980392156862745   \n",
       "3658   0.6980392156862745  0.49411764705882355  0.3843137254901961   \n",
       "3659   0.5764705882352941   0.5411764705882353  0.5176470588235295   \n",
       "3660   0.8431372549019608   0.8901960784313725  0.9137254901960784   \n",
       "3661   0.8745098039215686   0.7333333333333333  0.5058823529411764   \n",
       "\n",
       "                  pixel_6              pixel_7              pixel_8  \\\n",
       "0      0.7607843137254902   0.7411764705882353    0.807843137254902   \n",
       "1      0.5607843137254902   0.5254901960784314   0.5254901960784314   \n",
       "2      0.7803921568627451   0.5686274509803921   0.4980392156862745   \n",
       "3      0.8823529411764706    0.792156862745098   0.7843137254901961   \n",
       "4      0.6941176470588235   0.7647058823529411   0.7686274509803922   \n",
       "...                   ...                  ...                  ...   \n",
       "3657   0.4588235294117647   0.2980392156862745  0.23529411764705882   \n",
       "3658  0.40784313725490196    0.611764705882353   0.7607843137254902   \n",
       "3659  0.47843137254901963  0.47058823529411764   0.3058823529411765   \n",
       "3660   0.9019607843137255   0.8901960784313725   0.9058823529411765   \n",
       "3661   0.5333333333333333   0.5803921568627451   0.5803921568627451   \n",
       "\n",
       "                  pixel_9  ...            pixel_1287            pixel_1288  \\\n",
       "0      0.8941176470588236  ...    0.0392156862745098   0.12941176470588237   \n",
       "1      0.5333333333333333  ...  0.054901960784313725  0.054901960784313725   \n",
       "2      0.5529411764705883  ...  0.058823529411764705  0.058823529411764705   \n",
       "3       0.796078431372549  ...    0.9019607843137255    0.8745098039215686   \n",
       "4       0.792156862745098  ...    0.1843137254901961   0.21176470588235294   \n",
       "...                   ...  ...                   ...                   ...   \n",
       "3657  0.37254901960784315  ...   0.22745098039215686   0.25882352941176473   \n",
       "3658   0.8588235294117647  ...   0.15294117647058825   0.19607843137254902   \n",
       "3659  0.26666666666666666  ...   0.16470588235294117    0.1843137254901961   \n",
       "3660   0.8313725490196079  ...   0.13333333333333333    0.1607843137254902   \n",
       "3661   0.5647058823529412  ...    0.1607843137254902   0.23137254901960785   \n",
       "\n",
       "                pixel_1289            pixel_1290           pixel_1291  \\\n",
       "0       0.1803921568627451   0.24705882352941178   0.0784313725490196   \n",
       "1     0.047058823529411764  0.058823529411764705   0.4235294117647059   \n",
       "2      0.06666666666666667   0.06666666666666667  0.08235294117647059   \n",
       "3       0.8941176470588236    0.8313725490196079   0.7490196078431373   \n",
       "4      0.21568627450980393   0.23137254901960785   0.2549019607843137   \n",
       "...                    ...                   ...                  ...   \n",
       "3657   0.27450980392156865    0.3058823529411765   0.3607843137254902   \n",
       "3658   0.16862745098039217    0.1843137254901961  0.23137254901960785   \n",
       "3659   0.21176470588235294   0.25098039215686274  0.29411764705882354   \n",
       "3660   0.17647058823529413   0.19215686274509805  0.22745098039215686   \n",
       "3661   0.28627450980392155   0.39215686274509803  0.25882352941176473   \n",
       "\n",
       "                pixel_1292            pixel_1293           pixel_1294  \\\n",
       "0     0.058823529411764705  0.047058823529411764   0.4117647058823529   \n",
       "1      0.48627450980392156   0.03137254901960784  0.08235294117647059   \n",
       "2      0.09411764705882353    0.1450980392156863  0.38823529411764707   \n",
       "3       0.7803921568627451                   0.8   0.7647058823529411   \n",
       "4       0.2627450980392157    0.2784313725490196  0.29411764705882354   \n",
       "...                    ...                   ...                  ...   \n",
       "3657   0.40784313725490196    0.4549019607843137  0.49411764705882355   \n",
       "3658    0.2980392156862745   0.37254901960784315    0.403921568627451   \n",
       "3659    0.3411764705882353   0.41568627450980394  0.49411764705882355   \n",
       "3660   0.24705882352941178    0.2823529411764706   0.3254901960784314   \n",
       "3661   0.03137254901960784   0.03137254901960784  0.13725490196078433   \n",
       "\n",
       "               pixel_1295      label  \n",
       "0       0.592156862745098  Hatchback  \n",
       "1     0.11372549019607843  Hatchback  \n",
       "2      0.5019607843137255  Hatchback  \n",
       "3      0.7647058823529411  Hatchback  \n",
       "4     0.35294117647058826  Hatchback  \n",
       "...                   ...        ...  \n",
       "3657   0.5137254901960784        SUV  \n",
       "3658   0.4588235294117647        SUV  \n",
       "3659   0.5294117647058824        SUV  \n",
       "3660  0.34901960784313724        SUV  \n",
       "3661   0.4823529411764706        SUV  \n",
       "\n",
       "[3662 rows x 1297 columns]"
      ]
     },
     "execution_count": 5,
     "metadata": {},
     "output_type": "execute_result"
    }
   ],
   "source": [
    "df"
   ]
  },
  {
   "cell_type": "code",
   "execution_count": 6,
   "metadata": {},
   "outputs": [],
   "source": [
    "df.to_csv('new_image_dataset_36pixels.csv', index=False)"
   ]
  },
  {
   "cell_type": "code",
   "execution_count": 2,
   "metadata": {},
   "outputs": [],
   "source": [
    "df = pd.read_csv('new_image_dataset_36pixels.csv')"
   ]
  },
  {
   "cell_type": "code",
   "execution_count": 5,
   "metadata": {},
   "outputs": [],
   "source": [
    "newdf = df.copy()\n",
    "newdf['label'] = newdf['label'].replace({'Hatchback':0, 'Pickup':1, 'Seden':2, 'SUV':3})"
   ]
  },
  {
   "cell_type": "code",
   "execution_count": 6,
   "metadata": {},
   "outputs": [],
   "source": [
    "X = newdf.drop('label', axis=1)\n",
    "y = newdf['label']\n",
    "X_train, X_test, y_train, y_test = train_test_split(X, y, test_size=0.3, random_state=42)"
   ]
  },
  {
   "cell_type": "code",
   "execution_count": 44,
   "metadata": {},
   "outputs": [],
   "source": [
    "# lc = LazyClassifier()\n",
    "# models, predictions = lc.fit(X_train, X_test, y_train, y_test)\n",
    "# models"
   ]
  },
  {
   "cell_type": "code",
   "execution_count": 4,
   "metadata": {},
   "outputs": [
    {
     "data": {
      "text/html": [
       "<div>\n",
       "<style scoped>\n",
       "    .dataframe tbody tr th:only-of-type {\n",
       "        vertical-align: middle;\n",
       "    }\n",
       "\n",
       "    .dataframe tbody tr th {\n",
       "        vertical-align: top;\n",
       "    }\n",
       "\n",
       "    .dataframe thead th {\n",
       "        text-align: right;\n",
       "    }\n",
       "</style>\n",
       "<table border=\"1\" class=\"dataframe\">\n",
       "  <thead>\n",
       "    <tr style=\"text-align: right;\">\n",
       "      <th></th>\n",
       "      <th>Model</th>\n",
       "      <th>Accuracy</th>\n",
       "      <th>Balanced Accuracy</th>\n",
       "      <th>ROC AUC</th>\n",
       "      <th>F1 Score</th>\n",
       "      <th>Time Taken</th>\n",
       "    </tr>\n",
       "  </thead>\n",
       "  <tbody>\n",
       "    <tr>\n",
       "      <th>0</th>\n",
       "      <td>RandomForestClassifier</td>\n",
       "      <td>0.99</td>\n",
       "      <td>0.98</td>\n",
       "      <td>NaN</td>\n",
       "      <td>0.99</td>\n",
       "      <td>3.56</td>\n",
       "    </tr>\n",
       "    <tr>\n",
       "      <th>1</th>\n",
       "      <td>SVC</td>\n",
       "      <td>0.99</td>\n",
       "      <td>0.98</td>\n",
       "      <td>NaN</td>\n",
       "      <td>0.99</td>\n",
       "      <td>3.75</td>\n",
       "    </tr>\n",
       "    <tr>\n",
       "      <th>2</th>\n",
       "      <td>XGBClassifier</td>\n",
       "      <td>0.99</td>\n",
       "      <td>0.98</td>\n",
       "      <td>NaN</td>\n",
       "      <td>0.99</td>\n",
       "      <td>26.10</td>\n",
       "    </tr>\n",
       "    <tr>\n",
       "      <th>3</th>\n",
       "      <td>ExtraTreesClassifier</td>\n",
       "      <td>0.98</td>\n",
       "      <td>0.98</td>\n",
       "      <td>NaN</td>\n",
       "      <td>0.98</td>\n",
       "      <td>1.10</td>\n",
       "    </tr>\n",
       "    <tr>\n",
       "      <th>4</th>\n",
       "      <td>LGBMClassifier</td>\n",
       "      <td>0.98</td>\n",
       "      <td>0.98</td>\n",
       "      <td>NaN</td>\n",
       "      <td>0.98</td>\n",
       "      <td>23.72</td>\n",
       "    </tr>\n",
       "    <tr>\n",
       "      <th>5</th>\n",
       "      <td>Perceptron</td>\n",
       "      <td>0.98</td>\n",
       "      <td>0.98</td>\n",
       "      <td>NaN</td>\n",
       "      <td>0.98</td>\n",
       "      <td>0.53</td>\n",
       "    </tr>\n",
       "    <tr>\n",
       "      <th>6</th>\n",
       "      <td>LogisticRegression</td>\n",
       "      <td>0.98</td>\n",
       "      <td>0.98</td>\n",
       "      <td>NaN</td>\n",
       "      <td>0.98</td>\n",
       "      <td>1.42</td>\n",
       "    </tr>\n",
       "    <tr>\n",
       "      <th>7</th>\n",
       "      <td>CalibratedClassifierCV</td>\n",
       "      <td>0.97</td>\n",
       "      <td>0.97</td>\n",
       "      <td>NaN</td>\n",
       "      <td>0.97</td>\n",
       "      <td>212.53</td>\n",
       "    </tr>\n",
       "    <tr>\n",
       "      <th>8</th>\n",
       "      <td>PassiveAggressiveClassifier</td>\n",
       "      <td>0.97</td>\n",
       "      <td>0.97</td>\n",
       "      <td>NaN</td>\n",
       "      <td>0.97</td>\n",
       "      <td>0.93</td>\n",
       "    </tr>\n",
       "    <tr>\n",
       "      <th>9</th>\n",
       "      <td>LinearSVC</td>\n",
       "      <td>0.97</td>\n",
       "      <td>0.97</td>\n",
       "      <td>NaN</td>\n",
       "      <td>0.97</td>\n",
       "      <td>8.25</td>\n",
       "    </tr>\n",
       "    <tr>\n",
       "      <th>10</th>\n",
       "      <td>BaggingClassifier</td>\n",
       "      <td>0.96</td>\n",
       "      <td>0.96</td>\n",
       "      <td>NaN</td>\n",
       "      <td>0.96</td>\n",
       "      <td>10.48</td>\n",
       "    </tr>\n",
       "    <tr>\n",
       "      <th>11</th>\n",
       "      <td>SGDClassifier</td>\n",
       "      <td>0.96</td>\n",
       "      <td>0.96</td>\n",
       "      <td>NaN</td>\n",
       "      <td>0.96</td>\n",
       "      <td>0.89</td>\n",
       "    </tr>\n",
       "    <tr>\n",
       "      <th>12</th>\n",
       "      <td>RidgeClassifierCV</td>\n",
       "      <td>0.95</td>\n",
       "      <td>0.95</td>\n",
       "      <td>NaN</td>\n",
       "      <td>0.95</td>\n",
       "      <td>2.24</td>\n",
       "    </tr>\n",
       "    <tr>\n",
       "      <th>13</th>\n",
       "      <td>DecisionTreeClassifier</td>\n",
       "      <td>0.94</td>\n",
       "      <td>0.94</td>\n",
       "      <td>NaN</td>\n",
       "      <td>0.94</td>\n",
       "      <td>1.67</td>\n",
       "    </tr>\n",
       "    <tr>\n",
       "      <th>14</th>\n",
       "      <td>RidgeClassifier</td>\n",
       "      <td>0.93</td>\n",
       "      <td>0.94</td>\n",
       "      <td>NaN</td>\n",
       "      <td>0.93</td>\n",
       "      <td>0.30</td>\n",
       "    </tr>\n",
       "    <tr>\n",
       "      <th>15</th>\n",
       "      <td>ExtraTreeClassifier</td>\n",
       "      <td>0.92</td>\n",
       "      <td>0.93</td>\n",
       "      <td>NaN</td>\n",
       "      <td>0.92</td>\n",
       "      <td>0.12</td>\n",
       "    </tr>\n",
       "    <tr>\n",
       "      <th>16</th>\n",
       "      <td>LinearDiscriminantAnalysis</td>\n",
       "      <td>0.91</td>\n",
       "      <td>0.92</td>\n",
       "      <td>NaN</td>\n",
       "      <td>0.91</td>\n",
       "      <td>2.03</td>\n",
       "    </tr>\n",
       "    <tr>\n",
       "      <th>17</th>\n",
       "      <td>KNeighborsClassifier</td>\n",
       "      <td>0.91</td>\n",
       "      <td>0.90</td>\n",
       "      <td>NaN</td>\n",
       "      <td>0.91</td>\n",
       "      <td>0.27</td>\n",
       "    </tr>\n",
       "    <tr>\n",
       "      <th>18</th>\n",
       "      <td>LabelPropagation</td>\n",
       "      <td>0.84</td>\n",
       "      <td>0.88</td>\n",
       "      <td>NaN</td>\n",
       "      <td>0.85</td>\n",
       "      <td>0.51</td>\n",
       "    </tr>\n",
       "    <tr>\n",
       "      <th>19</th>\n",
       "      <td>LabelSpreading</td>\n",
       "      <td>0.84</td>\n",
       "      <td>0.88</td>\n",
       "      <td>NaN</td>\n",
       "      <td>0.85</td>\n",
       "      <td>0.63</td>\n",
       "    </tr>\n",
       "    <tr>\n",
       "      <th>20</th>\n",
       "      <td>QuadraticDiscriminantAnalysis</td>\n",
       "      <td>0.85</td>\n",
       "      <td>0.86</td>\n",
       "      <td>NaN</td>\n",
       "      <td>0.85</td>\n",
       "      <td>1.74</td>\n",
       "    </tr>\n",
       "    <tr>\n",
       "      <th>21</th>\n",
       "      <td>NuSVC</td>\n",
       "      <td>0.86</td>\n",
       "      <td>0.83</td>\n",
       "      <td>NaN</td>\n",
       "      <td>0.85</td>\n",
       "      <td>6.54</td>\n",
       "    </tr>\n",
       "    <tr>\n",
       "      <th>22</th>\n",
       "      <td>AdaBoostClassifier</td>\n",
       "      <td>0.71</td>\n",
       "      <td>0.68</td>\n",
       "      <td>NaN</td>\n",
       "      <td>0.70</td>\n",
       "      <td>7.05</td>\n",
       "    </tr>\n",
       "    <tr>\n",
       "      <th>23</th>\n",
       "      <td>GaussianNB</td>\n",
       "      <td>0.53</td>\n",
       "      <td>0.52</td>\n",
       "      <td>NaN</td>\n",
       "      <td>0.53</td>\n",
       "      <td>0.18</td>\n",
       "    </tr>\n",
       "    <tr>\n",
       "      <th>24</th>\n",
       "      <td>BernoulliNB</td>\n",
       "      <td>0.52</td>\n",
       "      <td>0.49</td>\n",
       "      <td>NaN</td>\n",
       "      <td>0.53</td>\n",
       "      <td>0.16</td>\n",
       "    </tr>\n",
       "    <tr>\n",
       "      <th>25</th>\n",
       "      <td>NearestCentroid</td>\n",
       "      <td>0.48</td>\n",
       "      <td>0.46</td>\n",
       "      <td>NaN</td>\n",
       "      <td>0.49</td>\n",
       "      <td>0.16</td>\n",
       "    </tr>\n",
       "    <tr>\n",
       "      <th>26</th>\n",
       "      <td>DummyClassifier</td>\n",
       "      <td>0.33</td>\n",
       "      <td>0.25</td>\n",
       "      <td>NaN</td>\n",
       "      <td>0.16</td>\n",
       "      <td>0.11</td>\n",
       "    </tr>\n",
       "  </tbody>\n",
       "</table>\n",
       "</div>"
      ],
      "text/plain": [
       "                            Model  Accuracy  Balanced Accuracy  ROC AUC  \\\n",
       "0          RandomForestClassifier      0.99               0.98      NaN   \n",
       "1                             SVC      0.99               0.98      NaN   \n",
       "2                   XGBClassifier      0.99               0.98      NaN   \n",
       "3            ExtraTreesClassifier      0.98               0.98      NaN   \n",
       "4                  LGBMClassifier      0.98               0.98      NaN   \n",
       "5                      Perceptron      0.98               0.98      NaN   \n",
       "6              LogisticRegression      0.98               0.98      NaN   \n",
       "7          CalibratedClassifierCV      0.97               0.97      NaN   \n",
       "8     PassiveAggressiveClassifier      0.97               0.97      NaN   \n",
       "9                       LinearSVC      0.97               0.97      NaN   \n",
       "10              BaggingClassifier      0.96               0.96      NaN   \n",
       "11                  SGDClassifier      0.96               0.96      NaN   \n",
       "12              RidgeClassifierCV      0.95               0.95      NaN   \n",
       "13         DecisionTreeClassifier      0.94               0.94      NaN   \n",
       "14                RidgeClassifier      0.93               0.94      NaN   \n",
       "15            ExtraTreeClassifier      0.92               0.93      NaN   \n",
       "16     LinearDiscriminantAnalysis      0.91               0.92      NaN   \n",
       "17           KNeighborsClassifier      0.91               0.90      NaN   \n",
       "18               LabelPropagation      0.84               0.88      NaN   \n",
       "19                 LabelSpreading      0.84               0.88      NaN   \n",
       "20  QuadraticDiscriminantAnalysis      0.85               0.86      NaN   \n",
       "21                          NuSVC      0.86               0.83      NaN   \n",
       "22             AdaBoostClassifier      0.71               0.68      NaN   \n",
       "23                     GaussianNB      0.53               0.52      NaN   \n",
       "24                    BernoulliNB      0.52               0.49      NaN   \n",
       "25                NearestCentroid      0.48               0.46      NaN   \n",
       "26                DummyClassifier      0.33               0.25      NaN   \n",
       "\n",
       "    F1 Score  Time Taken  \n",
       "0       0.99        3.56  \n",
       "1       0.99        3.75  \n",
       "2       0.99       26.10  \n",
       "3       0.98        1.10  \n",
       "4       0.98       23.72  \n",
       "5       0.98        0.53  \n",
       "6       0.98        1.42  \n",
       "7       0.97      212.53  \n",
       "8       0.97        0.93  \n",
       "9       0.97        8.25  \n",
       "10      0.96       10.48  \n",
       "11      0.96        0.89  \n",
       "12      0.95        2.24  \n",
       "13      0.94        1.67  \n",
       "14      0.93        0.30  \n",
       "15      0.92        0.12  \n",
       "16      0.91        2.03  \n",
       "17      0.91        0.27  \n",
       "18      0.85        0.51  \n",
       "19      0.85        0.63  \n",
       "20      0.85        1.74  \n",
       "21      0.85        6.54  \n",
       "22      0.70        7.05  \n",
       "23      0.53        0.18  \n",
       "24      0.53        0.16  \n",
       "25      0.49        0.16  \n",
       "26      0.16        0.11  "
      ]
     },
     "execution_count": 4,
     "metadata": {},
     "output_type": "execute_result"
    }
   ],
   "source": [
    "models = pd.read_csv('newmodels_choice.csv')\n",
    "models"
   ]
  },
  {
   "cell_type": "code",
   "execution_count": 58,
   "metadata": {},
   "outputs": [
    {
     "data": {
      "text/plain": [
       "(0.9964884900507218, 0.9818016378525932)"
      ]
     },
     "execution_count": 58,
     "metadata": {},
     "output_type": "execute_result"
    }
   ],
   "source": [
    "from sklearn.svm import SVC\n",
    "clf = SVC(decision_function_shape='ovo')\n",
    "clf.fit(X_train, y_train)\n",
    "y_pred = clf.predict(X_test)\n",
    "clf.score(X_train, y_train), clf.score(X_test, y_test)"
   ]
  },
  {
   "cell_type": "code",
   "execution_count": 68,
   "metadata": {},
   "outputs": [
    {
     "data": {
      "text/plain": [
       "array([[194,   3,   5,   5],\n",
       "       [  0, 334,   0,   0],\n",
       "       [  0,   0, 364,   0],\n",
       "       [  0,   0,   0, 194]])"
      ]
     },
     "execution_count": 68,
     "metadata": {},
     "output_type": "execute_result"
    }
   ],
   "source": [
    "confusion_matrix(y_test, y_pred)"
   ]
  },
  {
   "cell_type": "code",
   "execution_count": 214,
   "metadata": {},
   "outputs": [],
   "source": [
    "# save model\n",
    "import skops.io as sio \n",
    "sio.dump(clf, 'car_detection_model_svc.skops')"
   ]
  },
  {
   "cell_type": "markdown",
   "metadata": {},
   "source": [
    "testing images"
   ]
  },
  {
   "cell_type": "code",
   "execution_count": 59,
   "metadata": {},
   "outputs": [
    {
     "data": {
      "text/plain": [
       "<matplotlib.image.AxesImage at 0x7fbfc9538e10>"
      ]
     },
     "execution_count": 59,
     "metadata": {},
     "output_type": "execute_result"
    },
    {
     "data": {
      "image/png": "[encoded data removed]",
      "text/plain": [
       "<Figure size 640x480 with 1 Axes>"
      ]
     },
     "metadata": {},
     "output_type": "display_data"
    }
   ],
   "source": [
    "imagepath = 'test_image/Hatchback/PHOTO_342.jpg'\n",
    "image = Image.open(imagepath).convert(\"L\")\n",
    "resized_image = image.resize((36,36), Image.ADAPTIVE)\n",
    "pixel_values = np.array(resized_image)\n",
    "plt.imshow(pixel_values, cmap='gray')"
   ]
  },
  {
   "cell_type": "code",
   "execution_count": 60,
   "metadata": {},
   "outputs": [],
   "source": [
    "columns = [f'pixel_{i}' for i in range(1296)]"
   ]
  },
  {
   "cell_type": "code",
   "execution_count": 61,
   "metadata": {},
   "outputs": [],
   "source": [
    "normalized_pixel_values = (pixel_values).reshape(-1) / 255\n",
    "ndf = pd.DataFrame([normalized_pixel_values], columns=columns)"
   ]
  },
  {
   "cell_type": "markdown",
   "metadata": {},
   "source": [
    "'Hatchback':0, 'Pickup':1, 'Seden':2, 'SUV':3"
   ]
  },
  {
   "cell_type": "code",
   "execution_count": 62,
   "metadata": {},
   "outputs": [
    {
     "data": {
      "text/plain": [
       "array([0])"
      ]
     },
     "execution_count": 62,
     "metadata": {},
     "output_type": "execute_result"
    }
   ],
   "source": [
    "clf.predict(ndf)"
   ]
  },
  {
   "cell_type": "code",
   "execution_count": 63,
   "metadata": {},
   "outputs": [
    {
     "data": {
      "text/plain": [
       "<matplotlib.image.AxesImage at 0x7fbfc9528990>"
      ]
     },
     "execution_count": 63,
     "metadata": {},
     "output_type": "execute_result"
    },
    {
     "data": {
      "image/png": "[encoded data removed]",
      "text/plain": [
       "<Figure size 640x480 with 1 Axes>"
      ]
     },
     "metadata": {},
     "output_type": "display_data"
    }
   ],
   "source": [
    "imagepath = 'test_image/Pickup/PHOTO_342.jpg'\n",
    "image = Image.open(imagepath).convert(\"L\")\n",
    "resized_image = image.resize((36,36), Image.ADAPTIVE)\n",
    "pixel_values = np.array(resized_image)\n",
    "plt.imshow(pixel_values, cmap='gray')"
   ]
  },
  {
   "cell_type": "code",
   "execution_count": 64,
   "metadata": {},
   "outputs": [],
   "source": [
    "normalized_pixel_values = (pixel_values).reshape(-1) / 255\n",
    "ndf = pd.DataFrame([normalized_pixel_values], columns=columns)"
   ]
  },
  {
   "cell_type": "markdown",
   "metadata": {},
   "source": [
    "'Hatchback':0, 'Pickup':1, 'Seden':2, 'SUV':3"
   ]
  },
  {
   "cell_type": "code",
   "execution_count": 65,
   "metadata": {},
   "outputs": [
    {
     "data": {
      "text/plain": [
       "array([1])"
      ]
     },
     "execution_count": 65,
     "metadata": {},
     "output_type": "execute_result"
    }
   ],
   "source": [
    "clf.predict(ndf)"
   ]
  },
  {
   "cell_type": "code",
   "execution_count": 66,
   "metadata": {},
   "outputs": [
    {
     "data": {
      "text/plain": [
       "<matplotlib.image.AxesImage at 0x7fbfc945f150>"
      ]
     },
     "execution_count": 66,
     "metadata": {},
     "output_type": "execute_result"
    },
    {
     "data": {
      "image/png": "[encoded data removed]",
      "text/plain": [
       "<Figure size 640x480 with 1 Axes>"
      ]
     },
     "metadata": {},
     "output_type": "display_data"
    }
   ],
   "source": [
    "imagepath = 'test_image/Seden/PHOTO_548.jpg'\n",
    "image = Image.open(imagepath).convert(\"L\")\n",
    "resized_image = image.resize((36,36), Image.ADAPTIVE)\n",
    "pixel_values = np.array(resized_image)\n",
    "plt.imshow(pixel_values, cmap='gray')"
   ]
  },
  {
   "cell_type": "code",
   "execution_count": 67,
   "metadata": {},
   "outputs": [],
   "source": [
    "normalized_pixel_values = (pixel_values).reshape(-1) / 255\n",
    "ndf = pd.DataFrame([normalized_pixel_values], columns=columns)"
   ]
  },
  {
   "cell_type": "markdown",
   "metadata": {},
   "source": [
    "'Hatchback':0, 'Pickup':1, 'Seden':2, 'SUV':3"
   ]
  },
  {
   "cell_type": "code",
   "execution_count": 68,
   "metadata": {},
   "outputs": [
    {
     "data": {
      "text/plain": [
       "array([2])"
      ]
     },
     "execution_count": 68,
     "metadata": {},
     "output_type": "execute_result"
    }
   ],
   "source": [
    "clf.predict(ndf)"
   ]
  },
  {
   "cell_type": "code",
   "execution_count": 69,
   "metadata": {},
   "outputs": [
    {
     "data": {
      "text/plain": [
       "<matplotlib.image.AxesImage at 0x7fbfc94a8b50>"
      ]
     },
     "execution_count": 69,
     "metadata": {},
     "output_type": "execute_result"
    },
    {
     "data": {
      "image/png": "[encoded data removed]",
      "text/plain": [
       "<Figure size 640x480 with 1 Axes>"
      ]
     },
     "metadata": {},
     "output_type": "display_data"
    }
   ],
   "source": [
    "imagepath = 'test_image/SUV/PHOTO_123.jpg'\n",
    "image = Image.open(imagepath).convert(\"L\")\n",
    "resized_image = image.resize((36,36), Image.ADAPTIVE)\n",
    "pixel_values = np.array(resized_image)\n",
    "plt.imshow(pixel_values, cmap='gray')"
   ]
  },
  {
   "cell_type": "code",
   "execution_count": 70,
   "metadata": {},
   "outputs": [],
   "source": [
    "normalized_pixel_values = (pixel_values).reshape(-1) / 255\n",
    "ndf = pd.DataFrame([normalized_pixel_values], columns=columns)"
   ]
  },
  {
   "cell_type": "code",
   "execution_count": 71,
   "metadata": {},
   "outputs": [
    {
     "data": {
      "text/plain": [
       "array([3])"
      ]
     },
     "execution_count": 71,
     "metadata": {},
     "output_type": "execute_result"
    }
   ],
   "source": [
    "clf.predict(ndf)"
   ]
  },
  {
   "cell_type": "code",
   "execution_count": 72,
   "metadata": {},
   "outputs": [
    {
     "data": {
      "text/plain": [
       "<matplotlib.image.AxesImage at 0x7fbfc931be10>"
      ]
     },
     "execution_count": 72,
     "metadata": {},
     "output_type": "execute_result"
    },
    {
     "data": {
      "image/png": "[encoded data removed]",
      "text/plain": [
       "<Figure size 640x480 with 1 Axes>"
      ]
     },
     "metadata": {},
     "output_type": "display_data"
    }
   ],
   "source": [
    "imagepath = 'pickup.jpg'\n",
    "image = Image.open(imagepath).convert(\"L\")\n",
    "resized_image = image.resize((36,36), Image.ADAPTIVE)\n",
    "pixel_values = np.array(resized_image)\n",
    "plt.imshow(pixel_values, cmap='gray')"
   ]
  },
  {
   "cell_type": "code",
   "execution_count": 73,
   "metadata": {},
   "outputs": [],
   "source": [
    "normalized_pixel_values = (pixel_values).reshape(-1) / 255\n",
    "ndf = pd.DataFrame([normalized_pixel_values], columns=columns)"
   ]
  },
  {
   "cell_type": "markdown",
   "metadata": {},
   "source": [
    "'Hatchback':0, 'Pickup':1, 'Seden':2, 'SUV':3"
   ]
  },
  {
   "cell_type": "code",
   "execution_count": 74,
   "metadata": {},
   "outputs": [
    {
     "data": {
      "text/plain": [
       "array([1])"
      ]
     },
     "execution_count": 74,
     "metadata": {},
     "output_type": "execute_result"
    }
   ],
   "source": [
    "clf.predict(ndf)"
   ]
  },
  {
   "cell_type": "code",
   "execution_count": 75,
   "metadata": {},
   "outputs": [
    {
     "data": {
      "text/plain": [
       "<matplotlib.image.AxesImage at 0x7fbfc9388650>"
      ]
     },
     "execution_count": 75,
     "metadata": {},
     "output_type": "execute_result"
    },
    {
     "data": {
      "image/png": "[encoded data removed]",
      "text/plain": [
       "<Figure size 640x480 with 1 Axes>"
      ]
     },
     "metadata": {},
     "output_type": "display_data"
    }
   ],
   "source": [
    "imagepath = 'pickup2.jpg'\n",
    "image = Image.open(imagepath).convert(\"L\")\n",
    "resized_image = image.resize((36,36), Image.ADAPTIVE)\n",
    "pixel_values = np.array(resized_image)\n",
    "plt.imshow(pixel_values, cmap='gray')"
   ]
  },
  {
   "cell_type": "code",
   "execution_count": 76,
   "metadata": {},
   "outputs": [],
   "source": [
    "normalized_pixel_values = (pixel_values).reshape(-1) / 255\n",
    "ndf = pd.DataFrame([normalized_pixel_values], columns=columns)"
   ]
  },
  {
   "cell_type": "markdown",
   "metadata": {},
   "source": [
    "'Hatchback':0, 'Pickup':1, 'Seden':2, 'SUV':3"
   ]
  },
  {
   "cell_type": "code",
   "execution_count": 77,
   "metadata": {},
   "outputs": [
    {
     "data": {
      "text/plain": [
       "array([1])"
      ]
     },
     "execution_count": 77,
     "metadata": {},
     "output_type": "execute_result"
    }
   ],
   "source": [
    "clf.predict(ndf)"
   ]
  },
  {
   "cell_type": "code",
   "execution_count": 106,
   "metadata": {},
   "outputs": [
    {
     "data": {
      "text/plain": [
       "<matplotlib.image.AxesImage at 0x7fbfc8d7f650>"
      ]
     },
     "execution_count": 106,
     "metadata": {},
     "output_type": "execute_result"
    },
    {
     "data": {
      "image/png": "[encoded data removed]",
      "text/plain": [
       "<Figure size 640x480 with 1 Axes>"
      ]
     },
     "metadata": {},
     "output_type": "display_data"
    }
   ],
   "source": [
    "imagepath = 'sedan.jpg'\n",
    "image = Image.open(imagepath).convert(\"L\")\n",
    "resized_image = image.resize((36,36), Image.ADAPTIVE)\n",
    "pixel_values = np.array(resized_image)\n",
    "plt.imshow(pixel_values, cmap='gray')"
   ]
  },
  {
   "cell_type": "code",
   "execution_count": 107,
   "metadata": {},
   "outputs": [],
   "source": [
    "normalized_pixel_values = (pixel_values).reshape(-1) / 255\n",
    "ndf = pd.DataFrame([normalized_pixel_values], columns=columns)"
   ]
  },
  {
   "cell_type": "markdown",
   "metadata": {},
   "source": [
    "'Hatchback':0, 'Pickup':1, 'Seden':2, 'SUV':3"
   ]
  },
  {
   "cell_type": "code",
   "execution_count": 108,
   "metadata": {},
   "outputs": [
    {
     "data": {
      "text/plain": [
       "array([2])"
      ]
     },
     "execution_count": 108,
     "metadata": {},
     "output_type": "execute_result"
    }
   ],
   "source": [
    "clf.predict(ndf)"
   ]
  },
  {
   "cell_type": "code",
   "execution_count": 140,
   "metadata": {},
   "outputs": [
    {
     "data": {
      "text/plain": [
       "<matplotlib.image.AxesImage at 0x7fbfc84f64d0>"
      ]
     },
     "execution_count": 140,
     "metadata": {},
     "output_type": "execute_result"
    },
    {
     "data": {
      "image/png": "[encoded data removed]",
      "text/plain": [
       "<Figure size 640x480 with 1 Axes>"
      ]
     },
     "metadata": {},
     "output_type": "display_data"
    }
   ],
   "source": [
    "imagepath = 'sedan2.jpg'\n",
    "image = Image.open(imagepath).convert(\"L\")\n",
    "resized_image = image.resize((36,36), Image.ADAPTIVE)\n",
    "pixel_values = np.array(resized_image)\n",
    "plt.imshow(pixel_values, cmap='gray')"
   ]
  },
  {
   "cell_type": "code",
   "execution_count": 141,
   "metadata": {},
   "outputs": [],
   "source": [
    "normalized_pixel_values = (pixel_values).reshape(-1) / 255\n",
    "ndf = pd.DataFrame([normalized_pixel_values], columns=columns)"
   ]
  },
  {
   "cell_type": "markdown",
   "metadata": {},
   "source": [
    "'Hatchback':0, 'Pickup':1, 'Seden':2, 'SUV':3"
   ]
  },
  {
   "cell_type": "code",
   "execution_count": 142,
   "metadata": {},
   "outputs": [
    {
     "data": {
      "text/plain": [
       "array([2])"
      ]
     },
     "execution_count": 142,
     "metadata": {},
     "output_type": "execute_result"
    }
   ],
   "source": [
    "clf.predict(ndf)"
   ]
  },
  {
   "cell_type": "code",
   "execution_count": 165,
   "metadata": {},
   "outputs": [
    {
     "data": {
      "text/plain": [
       "<matplotlib.image.AxesImage at 0x7fbfc8827990>"
      ]
     },
     "execution_count": 165,
     "metadata": {},
     "output_type": "execute_result"
    },
    {
     "data": {
      "image/png": "[encoded data removed]",
      "text/plain": [
       "<Figure size 640x480 with 1 Axes>"
      ]
     },
     "metadata": {},
     "output_type": "display_data"
    }
   ],
   "source": [
    "imagepath = 'suv.jpg'\n",
    "image = Image.open(imagepath).convert(\"L\")\n",
    "resized_image = image.resize((36,36), Image.ADAPTIVE)\n",
    "pixel_values = np.array(resized_image)\n",
    "plt.imshow(pixel_values, cmap='gray')"
   ]
  },
  {
   "cell_type": "code",
   "execution_count": 166,
   "metadata": {},
   "outputs": [],
   "source": [
    "normalized_pixel_values = (pixel_values).reshape(-1) / 255\n",
    "ndf = pd.DataFrame([normalized_pixel_values], columns=columns)"
   ]
  },
  {
   "cell_type": "markdown",
   "metadata": {},
   "source": [
    "'Hatchback':0, 'Pickup':1, 'Seden':2, 'SUV':3"
   ]
  },
  {
   "cell_type": "code",
   "execution_count": 167,
   "metadata": {},
   "outputs": [
    {
     "data": {
      "text/plain": [
       "array([3])"
      ]
     },
     "execution_count": 167,
     "metadata": {},
     "output_type": "execute_result"
    }
   ],
   "source": [
    "clf.predict(ndf)"
   ]
  },
  {
   "cell_type": "code",
   "execution_count": 168,
   "metadata": {},
   "outputs": [
    {
     "data": {
      "text/plain": [
       "<matplotlib.image.AxesImage at 0x7fbfc884b1d0>"
      ]
     },
     "execution_count": 168,
     "metadata": {},
     "output_type": "execute_result"
    },
    {
     "data": {
      "image/png": "[encoded data removed]",
      "text/plain": [
       "<Figure size 640x480 with 1 Axes>"
      ]
     },
     "metadata": {},
     "output_type": "display_data"
    }
   ],
   "source": [
    "imagepath = 'unknown.jpg'\n",
    "image = Image.open(imagepath).convert(\"L\")\n",
    "resized_image = image.resize((36,36), Image.ADAPTIVE)\n",
    "pixel_values = np.array(resized_image)\n",
    "plt.imshow(pixel_values, cmap='gray')"
   ]
  },
  {
   "cell_type": "code",
   "execution_count": 169,
   "metadata": {},
   "outputs": [],
   "source": [
    "normalized_pixel_values = (pixel_values).reshape(-1) / 255\n",
    "ndf = pd.DataFrame([normalized_pixel_values], columns=columns)"
   ]
  },
  {
   "cell_type": "markdown",
   "metadata": {},
   "source": [
    "'Hatchback':0, 'Pickup':1, 'Seden':2, 'SUV':3"
   ]
  },
  {
   "cell_type": "code",
   "execution_count": 170,
   "metadata": {},
   "outputs": [
    {
     "data": {
      "text/plain": [
       "array([2])"
      ]
     },
     "execution_count": 170,
     "metadata": {},
     "output_type": "execute_result"
    }
   ],
   "source": [
    "clf.predict(ndf)"
   ]
  },
  {
   "cell_type": "code",
   "execution_count": 171,
   "metadata": {},
   "outputs": [],
   "source": [
    "import skops.io as sio \n",
    "from PIL import Image\n",
    "import numpy as np \n",
    "import matplotlib.pyplot as plt \n",
    "import pandas as pd\n",
    "columns = [f'pixel_{i}' for i in range(1296)]\n",
    "clf = sio.load('car_detection_model.skops', trusted=True)"
   ]
  },
  {
   "cell_type": "code",
   "execution_count": 172,
   "metadata": {},
   "outputs": [
    {
     "data": {
      "text/plain": [
       "<matplotlib.image.AxesImage at 0x7fbfc1c57f50>"
      ]
     },
     "execution_count": 172,
     "metadata": {},
     "output_type": "execute_result"
    },
    {
     "data": {
      "image/png": "[encoded data removed]",
      "text/plain": [
       "<Figure size 640x480 with 1 Axes>"
      ]
     },
     "metadata": {},
     "output_type": "display_data"
    }
   ],
   "source": [
    "imagepath = 'sedan3.jpg'\n",
    "image = Image.open(imagepath).convert(\"L\")\n",
    "resized_image = image.resize((36,36), Image.ADAPTIVE)\n",
    "pixel_values = np.array(resized_image)\n",
    "plt.imshow(pixel_values, cmap='gray')"
   ]
  },
  {
   "cell_type": "code",
   "execution_count": 173,
   "metadata": {},
   "outputs": [],
   "source": [
    "normalized_pixel_values = (pixel_values).reshape(-1) / 255\n",
    "ndf = pd.DataFrame([normalized_pixel_values], columns=columns)"
   ]
  },
  {
   "cell_type": "markdown",
   "metadata": {},
   "source": [
    "'Hatchback':0, 'Pickup':1, 'Seden':2, 'SUV':3"
   ]
  },
  {
   "cell_type": "code",
   "execution_count": 174,
   "metadata": {},
   "outputs": [
    {
     "data": {
      "text/plain": [
       "array([2])"
      ]
     },
     "execution_count": 174,
     "metadata": {},
     "output_type": "execute_result"
    }
   ],
   "source": [
    "clf.predict(ndf)"
   ]
  },
  {
   "cell_type": "code",
   "execution_count": 175,
   "metadata": {},
   "outputs": [
    {
     "data": {
      "text/plain": [
       "<matplotlib.image.AxesImage at 0x7fbfc1dd7310>"
      ]
     },
     "execution_count": 175,
     "metadata": {},
     "output_type": "execute_result"
    },
    {
     "data": {
      "image/png": "[encoded data removed]",
      "text/plain": [
       "<Figure size 640x480 with 1 Axes>"
      ]
     },
     "metadata": {},
     "output_type": "display_data"
    }
   ],
   "source": [
    "imagepath = 'unknown2.jpg'\n",
    "image = Image.open(imagepath).convert(\"L\")\n",
    "resized_image = image.resize((36,36), Image.ADAPTIVE)\n",
    "pixel_values = np.array(resized_image)\n",
    "plt.imshow(pixel_values, cmap='gray')"
   ]
  },
  {
   "cell_type": "code",
   "execution_count": 176,
   "metadata": {},
   "outputs": [],
   "source": [
    "normalized_pixel_values = (pixel_values).reshape(-1) / 255\n",
    "ndf = pd.DataFrame([normalized_pixel_values], columns=columns)"
   ]
  },
  {
   "cell_type": "markdown",
   "metadata": {},
   "source": [
    "'Hatchback':0, 'Pickup':1, 'Seden':2, 'SUV':3"
   ]
  },
  {
   "cell_type": "code",
   "execution_count": 177,
   "metadata": {},
   "outputs": [
    {
     "data": {
      "text/plain": [
       "array([2])"
      ]
     },
     "execution_count": 177,
     "metadata": {},
     "output_type": "execute_result"
    }
   ],
   "source": [
    "clf.predict(ndf)"
   ]
  },
  {
   "cell_type": "code",
   "execution_count": 178,
   "metadata": {},
   "outputs": [
    {
     "data": {
      "text/plain": [
       "<matplotlib.image.AxesImage at 0x7fbfc8280e90>"
      ]
     },
     "execution_count": 178,
     "metadata": {},
     "output_type": "execute_result"
    },
    {
     "data": {
      "image/png": "[encoded data removed]",
      "text/plain": [
       "<Figure size 640x480 with 1 Axes>"
      ]
     },
     "metadata": {},
     "output_type": "display_data"
    }
   ],
   "source": [
    "imagepath = 'unknown3.jpg'\n",
    "image = Image.open(imagepath).convert(\"L\")\n",
    "resized_image = image.resize((36,36), Image.ADAPTIVE)\n",
    "pixel_values = np.array(resized_image)\n",
    "plt.imshow(pixel_values, cmap='gray')"
   ]
  },
  {
   "cell_type": "code",
   "execution_count": 179,
   "metadata": {},
   "outputs": [],
   "source": [
    "normalized_pixel_values = (pixel_values).reshape(-1) / 255\n",
    "ndf = pd.DataFrame([normalized_pixel_values], columns=columns)"
   ]
  },
  {
   "cell_type": "markdown",
   "metadata": {},
   "source": [
    "'Hatchback':0, 'Pickup':1, 'Seden':2, 'SUV':3"
   ]
  },
  {
   "cell_type": "code",
   "execution_count": 180,
   "metadata": {},
   "outputs": [
    {
     "data": {
      "text/plain": [
       "array([1])"
      ]
     },
     "execution_count": 180,
     "metadata": {},
     "output_type": "execute_result"
    }
   ],
   "source": [
    "clf.predict(ndf)"
   ]
  },
  {
   "cell_type": "code",
   "execution_count": 181,
   "metadata": {},
   "outputs": [
    {
     "data": {
      "text/plain": [
       "<matplotlib.image.AxesImage at 0x7fbfc8203850>"
      ]
     },
     "execution_count": 181,
     "metadata": {},
     "output_type": "execute_result"
    },
    {
     "data": {
      "image/png": "[encoded data removed]",
      "text/plain": [
       "<Figure size 640x480 with 1 Axes>"
      ]
     },
     "metadata": {},
     "output_type": "display_data"
    }
   ],
   "source": [
    "imagepath = 'unknown4.jpg'\n",
    "image = Image.open(imagepath).convert(\"L\")\n",
    "resized_image = image.resize((36,36), Image.ADAPTIVE)\n",
    "pixel_values = np.array(resized_image)\n",
    "plt.imshow(pixel_values, cmap='gray')"
   ]
  },
  {
   "cell_type": "code",
   "execution_count": 182,
   "metadata": {},
   "outputs": [],
   "source": [
    "normalized_pixel_values = (pixel_values).reshape(-1) / 255\n",
    "ndf = pd.DataFrame([normalized_pixel_values], columns=columns)"
   ]
  },
  {
   "cell_type": "markdown",
   "metadata": {},
   "source": [
    "'Hatchback':0, 'Pickup':1, 'Seden':2, 'SUV':3"
   ]
  },
  {
   "cell_type": "code",
   "execution_count": 183,
   "metadata": {},
   "outputs": [
    {
     "data": {
      "text/plain": [
       "array([2])"
      ]
     },
     "execution_count": 183,
     "metadata": {},
     "output_type": "execute_result"
    }
   ],
   "source": [
    "clf.predict(ndf)"
   ]
  },
  {
   "cell_type": "code",
   "execution_count": 184,
   "metadata": {},
   "outputs": [
    {
     "data": {
      "text/plain": [
       "<matplotlib.image.AxesImage at 0x7fbfc81e7b90>"
      ]
     },
     "execution_count": 184,
     "metadata": {},
     "output_type": "execute_result"
    },
    {
     "data": {
      "image/png": "[encoded data removed]",
      "text/plain": [
       "<Figure size 640x480 with 1 Axes>"
      ]
     },
     "metadata": {},
     "output_type": "display_data"
    }
   ],
   "source": [
    "imagepath = 'unknown6.jpg'\n",
    "image = Image.open(imagepath).convert(\"L\")\n",
    "resized_image = image.resize((36,36), Image.ADAPTIVE)\n",
    "pixel_values = np.array(resized_image)\n",
    "plt.imshow(pixel_values, cmap='gray')"
   ]
  },
  {
   "cell_type": "code",
   "execution_count": 185,
   "metadata": {},
   "outputs": [],
   "source": [
    "normalized_pixel_values = (pixel_values).reshape(-1) / 255\n",
    "ndf = pd.DataFrame([normalized_pixel_values], columns=columns)"
   ]
  },
  {
   "cell_type": "markdown",
   "metadata": {},
   "source": [
    "'Hatchback':0, 'Pickup':1, 'Seden':2, 'SUV':3"
   ]
  },
  {
   "cell_type": "code",
   "execution_count": 186,
   "metadata": {},
   "outputs": [
    {
     "data": {
      "text/plain": [
       "array([1])"
      ]
     },
     "execution_count": 186,
     "metadata": {},
     "output_type": "execute_result"
    }
   ],
   "source": [
    "clf.predict(ndf)"
   ]
  }
 ],
 "metadata": {
  "kernelspec": {
   "display_name": "train_image",
   "language": "python",
   "name": "python3"
  },
  "language_info": {
   "codemirror_mode": {
    "name": "ipython",
    "version": 3
   },
   "file_extension": ".py",
   "mimetype": "text/x-python",
   "name": "python",
   "nbconvert_exporter": "python",
   "pygments_lexer": "ipython3",
   "version": "3.11.6"
  }
 },
 "nbformat": 4,
 "nbformat_minor": 2
}
