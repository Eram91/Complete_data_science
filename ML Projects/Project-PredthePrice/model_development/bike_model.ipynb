{
 "cells": [
  {
   "cell_type": "code",
   "execution_count": 2,
   "metadata": {},
   "outputs": [],
   "source": [
    "import pandas as pd\n",
    "import numpy as np\n",
    "from modelprocessing.functions import *\n",
    "from sklearn.model_selection import train_test_split, GridSearchCV\n",
    "from sklearn.compose import make_column_transformer\n",
    "from sklearn.pipeline import make_pipeline\n",
    "import matplotlib.pyplot as plt\n",
    "import seaborn as sns\n",
    "from sklearn.preprocessing import OneHotEncoder\n",
    "from xgboost import XGBRegressor"
   ]
  },
  {
   "cell_type": "code",
   "execution_count": 2,
   "metadata": {},
   "outputs": [],
   "source": [
    "df = pd.read_pickle('/home/anuraaga/Documents/DataCodes/Projects/pricePredictor/dataset/dataset_bike/bikes_v3.pkl')"
   ]
  },
  {
   "cell_type": "code",
   "execution_count": 3,
   "metadata": {},
   "outputs": [
    {
     "data": {
      "text/html": [
       "<div>\n",
       "<style scoped>\n",
       "    .dataframe tbody tr th:only-of-type {\n",
       "        vertical-align: middle;\n",
       "    }\n",
       "\n",
       "    .dataframe tbody tr th {\n",
       "        vertical-align: top;\n",
       "    }\n",
       "\n",
       "    .dataframe thead th {\n",
       "        text-align: right;\n",
       "    }\n",
       "</style>\n",
       "<table border=\"1\" class=\"dataframe\">\n",
       "  <thead>\n",
       "    <tr style=\"text-align: right;\">\n",
       "      <th></th>\n",
       "      <th>model_year</th>\n",
       "      <th>owner</th>\n",
       "      <th>price</th>\n",
       "      <th>name</th>\n",
       "      <th>model</th>\n",
       "      <th>km_driven</th>\n",
       "      <th>mileage(kmpl)</th>\n",
       "    </tr>\n",
       "  </thead>\n",
       "  <tbody>\n",
       "    <tr>\n",
       "      <th>0</th>\n",
       "      <td>2017</td>\n",
       "      <td>first owner</td>\n",
       "      <td>63500</td>\n",
       "      <td>Bajaj Avenger Cruise 220</td>\n",
       "      <td>Bajaj</td>\n",
       "      <td>17000</td>\n",
       "      <td>35</td>\n",
       "    </tr>\n",
       "    <tr>\n",
       "      <th>1</th>\n",
       "      <td>2016</td>\n",
       "      <td>first owner</td>\n",
       "      <td>115000</td>\n",
       "      <td>Royal Enfield Classic 350cc</td>\n",
       "      <td>Royal</td>\n",
       "      <td>50000</td>\n",
       "      <td>35</td>\n",
       "    </tr>\n",
       "    <tr>\n",
       "      <th>2</th>\n",
       "      <td>2012</td>\n",
       "      <td>first owner</td>\n",
       "      <td>300000</td>\n",
       "      <td>Hyosung GT250R</td>\n",
       "      <td>Hyosung</td>\n",
       "      <td>14795</td>\n",
       "      <td>30</td>\n",
       "    </tr>\n",
       "    <tr>\n",
       "      <th>3</th>\n",
       "      <td>2017</td>\n",
       "      <td>first owner</td>\n",
       "      <td>100000</td>\n",
       "      <td>Bajaj Dominar 400 ABS</td>\n",
       "      <td>Bajaj</td>\n",
       "      <td>28</td>\n",
       "      <td>28</td>\n",
       "    </tr>\n",
       "    <tr>\n",
       "      <th>5</th>\n",
       "      <td>2012</td>\n",
       "      <td>third owner</td>\n",
       "      <td>63400</td>\n",
       "      <td>KTM Duke 200cc</td>\n",
       "      <td>KTM</td>\n",
       "      <td>24561</td>\n",
       "      <td>35</td>\n",
       "    </tr>\n",
       "    <tr>\n",
       "      <th>...</th>\n",
       "      <td>...</td>\n",
       "      <td>...</td>\n",
       "      <td>...</td>\n",
       "      <td>...</td>\n",
       "      <td>...</td>\n",
       "      <td>...</td>\n",
       "      <td>...</td>\n",
       "    </tr>\n",
       "    <tr>\n",
       "      <th>7849</th>\n",
       "      <td>2011</td>\n",
       "      <td>first owner</td>\n",
       "      <td>55000</td>\n",
       "      <td>Yamaha YZF-R15 150cc</td>\n",
       "      <td>Yamaha</td>\n",
       "      <td>7000</td>\n",
       "      <td>42</td>\n",
       "    </tr>\n",
       "    <tr>\n",
       "      <th>7850</th>\n",
       "      <td>2015</td>\n",
       "      <td>first owner</td>\n",
       "      <td>28000</td>\n",
       "      <td>Bajaj Discover 100cc</td>\n",
       "      <td>Bajaj</td>\n",
       "      <td>80</td>\n",
       "      <td>80</td>\n",
       "    </tr>\n",
       "    <tr>\n",
       "      <th>7851</th>\n",
       "      <td>2016</td>\n",
       "      <td>first owner</td>\n",
       "      <td>61740</td>\n",
       "      <td>Bajaj Pulsar 180cc</td>\n",
       "      <td>Bajaj</td>\n",
       "      <td>6407</td>\n",
       "      <td>65</td>\n",
       "    </tr>\n",
       "    <tr>\n",
       "      <th>7852</th>\n",
       "      <td>2016</td>\n",
       "      <td>first owner</td>\n",
       "      <td>49000</td>\n",
       "      <td>Bajaj V15 150cc</td>\n",
       "      <td>Bajaj</td>\n",
       "      <td>7524</td>\n",
       "      <td>57</td>\n",
       "    </tr>\n",
       "    <tr>\n",
       "      <th>7853</th>\n",
       "      <td>2016</td>\n",
       "      <td>first owner</td>\n",
       "      <td>65000</td>\n",
       "      <td>Bajaj Pulsar 220cc</td>\n",
       "      <td>Bajaj</td>\n",
       "      <td>15000</td>\n",
       "      <td>38</td>\n",
       "    </tr>\n",
       "  </tbody>\n",
       "</table>\n",
       "<p>7080 rows × 7 columns</p>\n",
       "</div>"
      ],
      "text/plain": [
       "      model_year        owner   price                         name    model  \\\n",
       "0           2017  first owner   63500     Bajaj Avenger Cruise 220    Bajaj   \n",
       "1           2016  first owner  115000  Royal Enfield Classic 350cc    Royal   \n",
       "2           2012  first owner  300000               Hyosung GT250R  Hyosung   \n",
       "3           2017  first owner  100000        Bajaj Dominar 400 ABS    Bajaj   \n",
       "5           2012  third owner   63400               KTM Duke 200cc      KTM   \n",
       "...          ...          ...     ...                          ...      ...   \n",
       "7849        2011  first owner   55000         Yamaha YZF-R15 150cc   Yamaha   \n",
       "7850        2015  first owner   28000         Bajaj Discover 100cc    Bajaj   \n",
       "7851        2016  first owner   61740           Bajaj Pulsar 180cc    Bajaj   \n",
       "7852        2016  first owner   49000              Bajaj V15 150cc    Bajaj   \n",
       "7853        2016  first owner   65000           Bajaj Pulsar 220cc    Bajaj   \n",
       "\n",
       "      km_driven  mileage(kmpl)  \n",
       "0         17000             35  \n",
       "1         50000             35  \n",
       "2         14795             30  \n",
       "3            28             28  \n",
       "5         24561             35  \n",
       "...         ...            ...  \n",
       "7849       7000             42  \n",
       "7850         80             80  \n",
       "7851       6407             65  \n",
       "7852       7524             57  \n",
       "7853      15000             38  \n",
       "\n",
       "[7080 rows x 7 columns]"
      ]
     },
     "execution_count": 3,
     "metadata": {},
     "output_type": "execute_result"
    }
   ],
   "source": [
    "df"
   ]
  },
  {
   "cell_type": "code",
   "execution_count": 4,
   "metadata": {},
   "outputs": [
    {
     "data": {
      "text/plain": [
       "model_year       0\n",
       "owner            0\n",
       "price            0\n",
       "name             0\n",
       "model            0\n",
       "km_driven        0\n",
       "mileage(kmpl)    0\n",
       "dtype: int64"
      ]
     },
     "execution_count": 4,
     "metadata": {},
     "output_type": "execute_result"
    }
   ],
   "source": [
    "df.isna().sum()"
   ]
  },
  {
   "cell_type": "code",
   "execution_count": 5,
   "metadata": {},
   "outputs": [
    {
     "data": {
      "text/plain": [
       "model_year        int64\n",
       "owner            object\n",
       "price             int64\n",
       "name             object\n",
       "model            object\n",
       "km_driven         int64\n",
       "mileage(kmpl)     int64\n",
       "dtype: object"
      ]
     },
     "execution_count": 5,
     "metadata": {},
     "output_type": "execute_result"
    }
   ],
   "source": [
    "df.dtypes"
   ]
  },
  {
   "cell_type": "code",
   "execution_count": 6,
   "metadata": {},
   "outputs": [
    {
     "data": {
      "text/html": [
       "<div>\n",
       "<style scoped>\n",
       "    .dataframe tbody tr th:only-of-type {\n",
       "        vertical-align: middle;\n",
       "    }\n",
       "\n",
       "    .dataframe tbody tr th {\n",
       "        vertical-align: top;\n",
       "    }\n",
       "\n",
       "    .dataframe thead th {\n",
       "        text-align: right;\n",
       "    }\n",
       "</style>\n",
       "<table border=\"1\" class=\"dataframe\">\n",
       "  <thead>\n",
       "    <tr style=\"text-align: right;\">\n",
       "      <th></th>\n",
       "      <th>model_year</th>\n",
       "      <th>price</th>\n",
       "      <th>km_driven</th>\n",
       "      <th>mileage(kmpl)</th>\n",
       "    </tr>\n",
       "  </thead>\n",
       "  <tbody>\n",
       "    <tr>\n",
       "      <th>count</th>\n",
       "      <td>7080.000000</td>\n",
       "      <td>7.080000e+03</td>\n",
       "      <td>7080.000000</td>\n",
       "      <td>7080.000000</td>\n",
       "    </tr>\n",
       "    <tr>\n",
       "      <th>mean</th>\n",
       "      <td>2015.099011</td>\n",
       "      <td>1.029241e+05</td>\n",
       "      <td>17347.076695</td>\n",
       "      <td>44.161441</td>\n",
       "    </tr>\n",
       "    <tr>\n",
       "      <th>std</th>\n",
       "      <td>3.832294</td>\n",
       "      <td>1.343467e+05</td>\n",
       "      <td>27220.405167</td>\n",
       "      <td>16.530411</td>\n",
       "    </tr>\n",
       "    <tr>\n",
       "      <th>min</th>\n",
       "      <td>1950.000000</td>\n",
       "      <td>0.000000e+00</td>\n",
       "      <td>0.000000</td>\n",
       "      <td>5.000000</td>\n",
       "    </tr>\n",
       "    <tr>\n",
       "      <th>25%</th>\n",
       "      <td>2014.000000</td>\n",
       "      <td>4.000000e+04</td>\n",
       "      <td>65.000000</td>\n",
       "      <td>35.000000</td>\n",
       "    </tr>\n",
       "    <tr>\n",
       "      <th>50%</th>\n",
       "      <td>2016.000000</td>\n",
       "      <td>7.000000e+04</td>\n",
       "      <td>11500.000000</td>\n",
       "      <td>40.000000</td>\n",
       "    </tr>\n",
       "    <tr>\n",
       "      <th>75%</th>\n",
       "      <td>2018.000000</td>\n",
       "      <td>1.200000e+05</td>\n",
       "      <td>25000.000000</td>\n",
       "      <td>57.000000</td>\n",
       "    </tr>\n",
       "    <tr>\n",
       "      <th>max</th>\n",
       "      <td>2021.000000</td>\n",
       "      <td>1.900000e+06</td>\n",
       "      <td>1000000.000000</td>\n",
       "      <td>96.000000</td>\n",
       "    </tr>\n",
       "  </tbody>\n",
       "</table>\n",
       "</div>"
      ],
      "text/plain": [
       "        model_year         price       km_driven  mileage(kmpl)\n",
       "count  7080.000000  7.080000e+03     7080.000000    7080.000000\n",
       "mean   2015.099011  1.029241e+05    17347.076695      44.161441\n",
       "std       3.832294  1.343467e+05    27220.405167      16.530411\n",
       "min    1950.000000  0.000000e+00        0.000000       5.000000\n",
       "25%    2014.000000  4.000000e+04       65.000000      35.000000\n",
       "50%    2016.000000  7.000000e+04    11500.000000      40.000000\n",
       "75%    2018.000000  1.200000e+05    25000.000000      57.000000\n",
       "max    2021.000000  1.900000e+06  1000000.000000      96.000000"
      ]
     },
     "execution_count": 6,
     "metadata": {},
     "output_type": "execute_result"
    }
   ],
   "source": [
    "df.describe()"
   ]
  },
  {
   "cell_type": "code",
   "execution_count": 4,
   "metadata": {},
   "outputs": [
    {
     "data": {
      "text/plain": [
       "array(['Bajaj', 'Royal', 'Hyosung', 'KTM', 'TVS', 'Yamaha', 'Honda', 'UM',\n",
       "       'Hero', 'Suzuki', 'Husqvarna', 'Mahindra', 'Harley-Davidson',\n",
       "       'Kawasaki', 'Triumph', 'Ducati', 'Benelli', 'BenelliImperiale',\n",
       "       'Moto', 'Indian', 'Aprilia', 'MV'], dtype=object)"
      ]
     },
     "execution_count": 4,
     "metadata": {},
     "output_type": "execute_result"
    }
   ],
   "source": [
    "df['model'].unique()"
   ]
  },
  {
   "cell_type": "code",
   "execution_count": 8,
   "metadata": {},
   "outputs": [
    {
     "data": {
      "text/plain": [
       "(7080, 7)"
      ]
     },
     "execution_count": 8,
     "metadata": {},
     "output_type": "execute_result"
    }
   ],
   "source": [
    "df.shape"
   ]
  },
  {
   "cell_type": "code",
   "execution_count": 9,
   "metadata": {},
   "outputs": [],
   "source": [
    "df.drop_duplicates(inplace=True)"
   ]
  },
  {
   "cell_type": "code",
   "execution_count": null,
   "metadata": {},
   "outputs": [],
   "source": [
    "df = df.reset_index()\n",
    "cldf = df.drop('index', axis=1)"
   ]
  },
  {
   "cell_type": "code",
   "execution_count": 21,
   "metadata": {},
   "outputs": [
    {
     "data": {
      "text/html": [
       "<div>\n",
       "<style scoped>\n",
       "    .dataframe tbody tr th:only-of-type {\n",
       "        vertical-align: middle;\n",
       "    }\n",
       "\n",
       "    .dataframe tbody tr th {\n",
       "        vertical-align: top;\n",
       "    }\n",
       "\n",
       "    .dataframe thead th {\n",
       "        text-align: right;\n",
       "    }\n",
       "</style>\n",
       "<table border=\"1\" class=\"dataframe\">\n",
       "  <thead>\n",
       "    <tr style=\"text-align: right;\">\n",
       "      <th></th>\n",
       "      <th>model_year</th>\n",
       "      <th>owner</th>\n",
       "      <th>price</th>\n",
       "      <th>name</th>\n",
       "      <th>model</th>\n",
       "      <th>km_driven</th>\n",
       "      <th>mileage(kmpl)</th>\n",
       "    </tr>\n",
       "  </thead>\n",
       "  <tbody>\n",
       "    <tr>\n",
       "      <th>0</th>\n",
       "      <td>2017</td>\n",
       "      <td>first owner</td>\n",
       "      <td>63500</td>\n",
       "      <td>Bajaj Avenger Cruise 220</td>\n",
       "      <td>Bajaj</td>\n",
       "      <td>17000</td>\n",
       "      <td>35</td>\n",
       "    </tr>\n",
       "    <tr>\n",
       "      <th>1</th>\n",
       "      <td>2016</td>\n",
       "      <td>first owner</td>\n",
       "      <td>115000</td>\n",
       "      <td>Royal Enfield Classic 350cc</td>\n",
       "      <td>Royal</td>\n",
       "      <td>50000</td>\n",
       "      <td>35</td>\n",
       "    </tr>\n",
       "    <tr>\n",
       "      <th>2</th>\n",
       "      <td>2012</td>\n",
       "      <td>first owner</td>\n",
       "      <td>300000</td>\n",
       "      <td>Hyosung GT250R</td>\n",
       "      <td>Hyosung</td>\n",
       "      <td>14795</td>\n",
       "      <td>30</td>\n",
       "    </tr>\n",
       "    <tr>\n",
       "      <th>3</th>\n",
       "      <td>2017</td>\n",
       "      <td>first owner</td>\n",
       "      <td>100000</td>\n",
       "      <td>Bajaj Dominar 400 ABS</td>\n",
       "      <td>Bajaj</td>\n",
       "      <td>28</td>\n",
       "      <td>28</td>\n",
       "    </tr>\n",
       "    <tr>\n",
       "      <th>4</th>\n",
       "      <td>2012</td>\n",
       "      <td>third owner</td>\n",
       "      <td>63400</td>\n",
       "      <td>KTM Duke 200cc</td>\n",
       "      <td>KTM</td>\n",
       "      <td>24561</td>\n",
       "      <td>35</td>\n",
       "    </tr>\n",
       "    <tr>\n",
       "      <th>...</th>\n",
       "      <td>...</td>\n",
       "      <td>...</td>\n",
       "      <td>...</td>\n",
       "      <td>...</td>\n",
       "      <td>...</td>\n",
       "      <td>...</td>\n",
       "      <td>...</td>\n",
       "    </tr>\n",
       "    <tr>\n",
       "      <th>6881</th>\n",
       "      <td>2011</td>\n",
       "      <td>first owner</td>\n",
       "      <td>39899</td>\n",
       "      <td>Hero Karizma ZMR 223cc</td>\n",
       "      <td>Hero</td>\n",
       "      <td>66780</td>\n",
       "      <td>48</td>\n",
       "    </tr>\n",
       "    <tr>\n",
       "      <th>6882</th>\n",
       "      <td>2011</td>\n",
       "      <td>first owner</td>\n",
       "      <td>55000</td>\n",
       "      <td>Yamaha YZF-R15 150cc</td>\n",
       "      <td>Yamaha</td>\n",
       "      <td>7000</td>\n",
       "      <td>42</td>\n",
       "    </tr>\n",
       "    <tr>\n",
       "      <th>6883</th>\n",
       "      <td>2016</td>\n",
       "      <td>first owner</td>\n",
       "      <td>61740</td>\n",
       "      <td>Bajaj Pulsar 180cc</td>\n",
       "      <td>Bajaj</td>\n",
       "      <td>6407</td>\n",
       "      <td>65</td>\n",
       "    </tr>\n",
       "    <tr>\n",
       "      <th>6884</th>\n",
       "      <td>2016</td>\n",
       "      <td>first owner</td>\n",
       "      <td>49000</td>\n",
       "      <td>Bajaj V15 150cc</td>\n",
       "      <td>Bajaj</td>\n",
       "      <td>7524</td>\n",
       "      <td>57</td>\n",
       "    </tr>\n",
       "    <tr>\n",
       "      <th>6885</th>\n",
       "      <td>2016</td>\n",
       "      <td>first owner</td>\n",
       "      <td>65000</td>\n",
       "      <td>Bajaj Pulsar 220cc</td>\n",
       "      <td>Bajaj</td>\n",
       "      <td>15000</td>\n",
       "      <td>38</td>\n",
       "    </tr>\n",
       "  </tbody>\n",
       "</table>\n",
       "<p>6886 rows × 7 columns</p>\n",
       "</div>"
      ],
      "text/plain": [
       "      model_year        owner   price                         name    model  \\\n",
       "0           2017  first owner   63500     Bajaj Avenger Cruise 220    Bajaj   \n",
       "1           2016  first owner  115000  Royal Enfield Classic 350cc    Royal   \n",
       "2           2012  first owner  300000               Hyosung GT250R  Hyosung   \n",
       "3           2017  first owner  100000        Bajaj Dominar 400 ABS    Bajaj   \n",
       "4           2012  third owner   63400               KTM Duke 200cc      KTM   \n",
       "...          ...          ...     ...                          ...      ...   \n",
       "6881        2011  first owner   39899       Hero Karizma ZMR 223cc     Hero   \n",
       "6882        2011  first owner   55000         Yamaha YZF-R15 150cc   Yamaha   \n",
       "6883        2016  first owner   61740           Bajaj Pulsar 180cc    Bajaj   \n",
       "6884        2016  first owner   49000              Bajaj V15 150cc    Bajaj   \n",
       "6885        2016  first owner   65000           Bajaj Pulsar 220cc    Bajaj   \n",
       "\n",
       "      km_driven  mileage(kmpl)  \n",
       "0         17000             35  \n",
       "1         50000             35  \n",
       "2         14795             30  \n",
       "3            28             28  \n",
       "4         24561             35  \n",
       "...         ...            ...  \n",
       "6881      66780             48  \n",
       "6882       7000             42  \n",
       "6883       6407             65  \n",
       "6884       7524             57  \n",
       "6885      15000             38  \n",
       "\n",
       "[6886 rows x 7 columns]"
      ]
     },
     "execution_count": 21,
     "metadata": {},
     "output_type": "execute_result"
    }
   ],
   "source": [
    "cldf"
   ]
  },
  {
   "cell_type": "code",
   "execution_count": null,
   "metadata": {},
   "outputs": [],
   "source": [
    "import pickle\n",
    "pickle.dump(cldf, open('/home/anuraaga/Documents/DataCodes/Projects/pricePredictor/dataset/dataset_bike/bikes_v4.pkl', 'wb'))"
   ]
  },
  {
   "cell_type": "code",
   "execution_count": null,
   "metadata": {},
   "outputs": [],
   "source": [
    "cldf = pd.read_pickle('/home/anuraaga/Documents/Projects/pricePredictor/dataset/dataset_bike/bikes_v4.pkl')"
   ]
  },
  {
   "cell_type": "code",
   "execution_count": null,
   "metadata": {},
   "outputs": [],
   "source": [
    "cldf.to_csv('/home/anuraaga/Documents/Projects/pricePredictor/dataset/dataset_car/motorbike.csv')"
   ]
  },
  {
   "cell_type": "code",
   "execution_count": 127,
   "metadata": {},
   "outputs": [
    {
     "name": "stdout",
     "output_type": "stream",
     "text": [
      "<class 'pandas.core.frame.DataFrame'>\n",
      "RangeIndex: 6886 entries, 0 to 6885\n",
      "Data columns (total 7 columns):\n",
      " #   Column         Non-Null Count  Dtype \n",
      "---  ------         --------------  ----- \n",
      " 0   model_year     6886 non-null   int64 \n",
      " 1   owner          6886 non-null   object\n",
      " 2   price          6886 non-null   int64 \n",
      " 3   name           6886 non-null   object\n",
      " 4   model          6886 non-null   object\n",
      " 5   km_driven      6886 non-null   int64 \n",
      " 6   mileage(kmpl)  6886 non-null   int64 \n",
      "dtypes: int64(4), object(3)\n",
      "memory usage: 376.7+ KB\n"
     ]
    }
   ],
   "source": [
    "cldf.info()"
   ]
  },
  {
   "cell_type": "code",
   "execution_count": 165,
   "metadata": {},
   "outputs": [
    {
     "data": {
      "text/html": [
       "<div>\n",
       "<style scoped>\n",
       "    .dataframe tbody tr th:only-of-type {\n",
       "        vertical-align: middle;\n",
       "    }\n",
       "\n",
       "    .dataframe tbody tr th {\n",
       "        vertical-align: top;\n",
       "    }\n",
       "\n",
       "    .dataframe thead th {\n",
       "        text-align: right;\n",
       "    }\n",
       "</style>\n",
       "<table border=\"1\" class=\"dataframe\">\n",
       "  <thead>\n",
       "    <tr style=\"text-align: right;\">\n",
       "      <th></th>\n",
       "      <th>model_year</th>\n",
       "      <th>owner</th>\n",
       "      <th>price</th>\n",
       "      <th>name</th>\n",
       "      <th>model</th>\n",
       "      <th>km_driven</th>\n",
       "      <th>mileage(kmpl)</th>\n",
       "    </tr>\n",
       "  </thead>\n",
       "  <tbody>\n",
       "    <tr>\n",
       "      <th>0</th>\n",
       "      <td>2017</td>\n",
       "      <td>first owner</td>\n",
       "      <td>63500</td>\n",
       "      <td>Bajaj Avenger Cruise 220</td>\n",
       "      <td>Bajaj</td>\n",
       "      <td>17000</td>\n",
       "      <td>35</td>\n",
       "    </tr>\n",
       "    <tr>\n",
       "      <th>1</th>\n",
       "      <td>2016</td>\n",
       "      <td>first owner</td>\n",
       "      <td>115000</td>\n",
       "      <td>Royal Enfield Classic 350cc</td>\n",
       "      <td>Royal</td>\n",
       "      <td>50000</td>\n",
       "      <td>35</td>\n",
       "    </tr>\n",
       "    <tr>\n",
       "      <th>2</th>\n",
       "      <td>2012</td>\n",
       "      <td>first owner</td>\n",
       "      <td>300000</td>\n",
       "      <td>Hyosung GT250R</td>\n",
       "      <td>Hyosung</td>\n",
       "      <td>14795</td>\n",
       "      <td>30</td>\n",
       "    </tr>\n",
       "    <tr>\n",
       "      <th>3</th>\n",
       "      <td>2017</td>\n",
       "      <td>first owner</td>\n",
       "      <td>100000</td>\n",
       "      <td>Bajaj Dominar 400 ABS</td>\n",
       "      <td>Bajaj</td>\n",
       "      <td>28</td>\n",
       "      <td>28</td>\n",
       "    </tr>\n",
       "    <tr>\n",
       "      <th>4</th>\n",
       "      <td>2012</td>\n",
       "      <td>third owner</td>\n",
       "      <td>63400</td>\n",
       "      <td>KTM Duke 200cc</td>\n",
       "      <td>KTM</td>\n",
       "      <td>24561</td>\n",
       "      <td>35</td>\n",
       "    </tr>\n",
       "    <tr>\n",
       "      <th>...</th>\n",
       "      <td>...</td>\n",
       "      <td>...</td>\n",
       "      <td>...</td>\n",
       "      <td>...</td>\n",
       "      <td>...</td>\n",
       "      <td>...</td>\n",
       "      <td>...</td>\n",
       "    </tr>\n",
       "    <tr>\n",
       "      <th>6881</th>\n",
       "      <td>2011</td>\n",
       "      <td>first owner</td>\n",
       "      <td>39899</td>\n",
       "      <td>Hero Karizma ZMR 223cc</td>\n",
       "      <td>Hero</td>\n",
       "      <td>66780</td>\n",
       "      <td>48</td>\n",
       "    </tr>\n",
       "    <tr>\n",
       "      <th>6882</th>\n",
       "      <td>2011</td>\n",
       "      <td>first owner</td>\n",
       "      <td>55000</td>\n",
       "      <td>Yamaha YZF-R15 150cc</td>\n",
       "      <td>Yamaha</td>\n",
       "      <td>7000</td>\n",
       "      <td>42</td>\n",
       "    </tr>\n",
       "    <tr>\n",
       "      <th>6883</th>\n",
       "      <td>2016</td>\n",
       "      <td>first owner</td>\n",
       "      <td>61740</td>\n",
       "      <td>Bajaj Pulsar 180cc</td>\n",
       "      <td>Bajaj</td>\n",
       "      <td>6407</td>\n",
       "      <td>65</td>\n",
       "    </tr>\n",
       "    <tr>\n",
       "      <th>6884</th>\n",
       "      <td>2016</td>\n",
       "      <td>first owner</td>\n",
       "      <td>49000</td>\n",
       "      <td>Bajaj V15 150cc</td>\n",
       "      <td>Bajaj</td>\n",
       "      <td>7524</td>\n",
       "      <td>57</td>\n",
       "    </tr>\n",
       "    <tr>\n",
       "      <th>6885</th>\n",
       "      <td>2016</td>\n",
       "      <td>first owner</td>\n",
       "      <td>65000</td>\n",
       "      <td>Bajaj Pulsar 220cc</td>\n",
       "      <td>Bajaj</td>\n",
       "      <td>15000</td>\n",
       "      <td>38</td>\n",
       "    </tr>\n",
       "  </tbody>\n",
       "</table>\n",
       "<p>6886 rows × 7 columns</p>\n",
       "</div>"
      ],
      "text/plain": [
       "      model_year        owner   price                         name    model  \\\n",
       "0           2017  first owner   63500     Bajaj Avenger Cruise 220    Bajaj   \n",
       "1           2016  first owner  115000  Royal Enfield Classic 350cc    Royal   \n",
       "2           2012  first owner  300000               Hyosung GT250R  Hyosung   \n",
       "3           2017  first owner  100000        Bajaj Dominar 400 ABS    Bajaj   \n",
       "4           2012  third owner   63400               KTM Duke 200cc      KTM   \n",
       "...          ...          ...     ...                          ...      ...   \n",
       "6881        2011  first owner   39899       Hero Karizma ZMR 223cc     Hero   \n",
       "6882        2011  first owner   55000         Yamaha YZF-R15 150cc   Yamaha   \n",
       "6883        2016  first owner   61740           Bajaj Pulsar 180cc    Bajaj   \n",
       "6884        2016  first owner   49000              Bajaj V15 150cc    Bajaj   \n",
       "6885        2016  first owner   65000           Bajaj Pulsar 220cc    Bajaj   \n",
       "\n",
       "      km_driven  mileage(kmpl)  \n",
       "0         17000             35  \n",
       "1         50000             35  \n",
       "2         14795             30  \n",
       "3            28             28  \n",
       "4         24561             35  \n",
       "...         ...            ...  \n",
       "6881      66780             48  \n",
       "6882       7000             42  \n",
       "6883       6407             65  \n",
       "6884       7524             57  \n",
       "6885      15000             38  \n",
       "\n",
       "[6886 rows x 7 columns]"
      ]
     },
     "execution_count": 165,
     "metadata": {},
     "output_type": "execute_result"
    }
   ],
   "source": [
    "cldf"
   ]
  },
  {
   "cell_type": "code",
   "execution_count": 5,
   "metadata": {},
   "outputs": [
    {
     "data": {
      "text/plain": [
       "model_year       0\n",
       "owner            0\n",
       "price            0\n",
       "name             0\n",
       "model            0\n",
       "km_driven        0\n",
       "mileage(kmpl)    0\n",
       "dtype: int64"
      ]
     },
     "execution_count": 5,
     "metadata": {},
     "output_type": "execute_result"
    }
   ],
   "source": [
    "cldf.isna().sum()"
   ]
  },
  {
   "cell_type": "code",
   "execution_count": 28,
   "metadata": {},
   "outputs": [
    {
     "data": {
      "image/png": "[encoded data removed]",
      "text/plain": [
       "<Figure size 640x480 with 1 Axes>"
      ]
     },
     "metadata": {},
     "output_type": "display_data"
    }
   ],
   "source": [
    "plt.boxplot(cldf['price']);"
   ]
  },
  {
   "cell_type": "code",
   "execution_count": 7,
   "metadata": {},
   "outputs": [
    {
     "data": {
      "text/plain": [
       "['first owner', 'third owner', 'second owner', 'fourth owner or more']"
      ]
     },
     "execution_count": 7,
     "metadata": {},
     "output_type": "execute_result"
    }
   ],
   "source": [
    "cldf[cldf['model']=='Bajaj']['owner'].unique().tolist()"
   ]
  },
  {
   "cell_type": "code",
   "execution_count": 166,
   "metadata": {},
   "outputs": [],
   "source": [
    "import math\n",
    "X = cldf.drop('price', axis=1)\n",
    "y = cldf['price']\n",
    "y = y.apply(lambda y: math.sqrt(y))"
   ]
  },
  {
   "cell_type": "code",
   "execution_count": 167,
   "metadata": {},
   "outputs": [
    {
     "data": {
      "text/html": [
       "<style>#sk-container-id-21 {color: black;}#sk-container-id-21 pre{padding: 0;}#sk-container-id-21 div.sk-toggleable {background-color: white;}#sk-container-id-21 label.sk-toggleable__label {cursor: pointer;display: block;width: 100%;margin-bottom: 0;padding: 0.3em;box-sizing: border-box;text-align: center;}#sk-container-id-21 label.sk-toggleable__label-arrow:before {content: \"▸\";float: left;margin-right: 0.25em;color: #696969;}#sk-container-id-21 label.sk-toggleable__label-arrow:hover:before {color: black;}#sk-container-id-21 div.sk-estimator:hover label.sk-toggleable__label-arrow:before {color: black;}#sk-container-id-21 div.sk-toggleable__content {max-height: 0;max-width: 0;overflow: hidden;text-align: left;background-color: #f0f8ff;}#sk-container-id-21 div.sk-toggleable__content pre {margin: 0.2em;color: black;border-radius: 0.25em;background-color: #f0f8ff;}#sk-container-id-21 input.sk-toggleable__control:checked~div.sk-toggleable__content {max-height: 200px;max-width: 100%;overflow: auto;}#sk-container-id-21 input.sk-toggleable__control:checked~label.sk-toggleable__label-arrow:before {content: \"▾\";}#sk-container-id-21 div.sk-estimator input.sk-toggleable__control:checked~label.sk-toggleable__label {background-color: #d4ebff;}#sk-container-id-21 div.sk-label input.sk-toggleable__control:checked~label.sk-toggleable__label {background-color: #d4ebff;}#sk-container-id-21 input.sk-hidden--visually {border: 0;clip: rect(1px 1px 1px 1px);clip: rect(1px, 1px, 1px, 1px);height: 1px;margin: -1px;overflow: hidden;padding: 0;position: absolute;width: 1px;}#sk-container-id-21 div.sk-estimator {font-family: monospace;background-color: #f0f8ff;border: 1px dotted black;border-radius: 0.25em;box-sizing: border-box;margin-bottom: 0.5em;}#sk-container-id-21 div.sk-estimator:hover {background-color: #d4ebff;}#sk-container-id-21 div.sk-parallel-item::after {content: \"\";width: 100%;border-bottom: 1px solid gray;flex-grow: 1;}#sk-container-id-21 div.sk-label:hover label.sk-toggleable__label {background-color: #d4ebff;}#sk-container-id-21 div.sk-serial::before {content: \"\";position: absolute;border-left: 1px solid gray;box-sizing: border-box;top: 0;bottom: 0;left: 50%;z-index: 0;}#sk-container-id-21 div.sk-serial {display: flex;flex-direction: column;align-items: center;background-color: white;padding-right: 0.2em;padding-left: 0.2em;position: relative;}#sk-container-id-21 div.sk-item {position: relative;z-index: 1;}#sk-container-id-21 div.sk-parallel {display: flex;align-items: stretch;justify-content: center;background-color: white;position: relative;}#sk-container-id-21 div.sk-item::before, #sk-container-id-21 div.sk-parallel-item::before {content: \"\";position: absolute;border-left: 1px solid gray;box-sizing: border-box;top: 0;bottom: 0;left: 50%;z-index: -1;}#sk-container-id-21 div.sk-parallel-item {display: flex;flex-direction: column;z-index: 1;position: relative;background-color: white;}#sk-container-id-21 div.sk-parallel-item:first-child::after {align-self: flex-end;width: 50%;}#sk-container-id-21 div.sk-parallel-item:last-child::after {align-self: flex-start;width: 50%;}#sk-container-id-21 div.sk-parallel-item:only-child::after {width: 0;}#sk-container-id-21 div.sk-dashed-wrapped {border: 1px dashed gray;margin: 0 0.4em 0.5em 0.4em;box-sizing: border-box;padding-bottom: 0.4em;background-color: white;}#sk-container-id-21 div.sk-label label {font-family: monospace;font-weight: bold;display: inline-block;line-height: 1.2em;}#sk-container-id-21 div.sk-label-container {text-align: center;}#sk-container-id-21 div.sk-container {/* jupyter's `normalize.less` sets `[hidden] { display: none; }` but bootstrap.min.css set `[hidden] { display: none !important; }` so we also need the `!important` here to be able to override the default hidden behavior on the sphinx rendered scikit-learn.org. See: https://github.com/scikit-learn/scikit-learn/issues/21755 */display: inline-block !important;position: relative;}#sk-container-id-21 div.sk-text-repr-fallback {display: none;}</style><div id=\"sk-container-id-21\" class=\"sk-top-container\"><div class=\"sk-text-repr-fallback\"><pre>OneHotEncoder(drop=&#x27;first&#x27;, dtype=&lt;class &#x27;numpy.int32&#x27;&gt;, sparse_output=False)</pre><b>In a Jupyter environment, please rerun this cell to show the HTML representation or trust the notebook. <br />On GitHub, the HTML representation is unable to render, please try loading this page with nbviewer.org.</b></div><div class=\"sk-container\" hidden><div class=\"sk-item\"><div class=\"sk-estimator sk-toggleable\"><input class=\"sk-toggleable__control sk-hidden--visually\" id=\"sk-estimator-id-87\" type=\"checkbox\" checked><label for=\"sk-estimator-id-87\" class=\"sk-toggleable__label sk-toggleable__label-arrow\">OneHotEncoder</label><div class=\"sk-toggleable__content\"><pre>OneHotEncoder(drop=&#x27;first&#x27;, dtype=&lt;class &#x27;numpy.int32&#x27;&gt;, sparse_output=False)</pre></div></div></div></div></div>"
      ],
      "text/plain": [
       "OneHotEncoder(drop='first', dtype=<class 'numpy.int32'>, sparse_output=False)"
      ]
     },
     "execution_count": 167,
     "metadata": {},
     "output_type": "execute_result"
    }
   ],
   "source": [
    "ohe = OneHotEncoder(sparse_output=False, drop='first', dtype=np.int32)\n",
    "ohe.fit(X[['owner', 'name', 'model']])"
   ]
  },
  {
   "cell_type": "code",
   "execution_count": 168,
   "metadata": {
    "notebookRunGroups": {
     "groupValue": "1"
    }
   },
   "outputs": [],
   "source": [
    "X_train, X_test, y_train, y_test = train_test_split(X, y, test_size=0.2, random_state=8)"
   ]
  },
  {
   "cell_type": "code",
   "execution_count": 169,
   "metadata": {
    "notebookRunGroups": {
     "groupValue": "1"
    }
   },
   "outputs": [],
   "source": [
    "column_transformer = make_column_transformer((OneHotEncoder(categories=ohe.categories_), ['owner', 'name', 'model']),\n",
    "                                             remainder='passthrough')"
   ]
  },
  {
   "cell_type": "code",
   "execution_count": null,
   "metadata": {},
   "outputs": [],
   "source": [
    "# getBestState(X, y, 0.33, column_transformer)"
   ]
  },
  {
   "cell_type": "code",
   "execution_count": null,
   "metadata": {
    "notebookRunGroups": {
     "groupValue": ""
    }
   },
   "outputs": [],
   "source": [
    "# getBestModel(X_train, X_test, y_train, y_test, column_transformer)"
   ]
  },
  {
   "cell_type": "code",
   "execution_count": null,
   "metadata": {},
   "outputs": [],
   "source": [
    "# run the following codes in google colab\n",
    "\n",
    "# xg = XGBRegressor(tree_method='gpu_hist', predictor='gpu_predictor', device='cuda', verbosity=0)\n",
    "# param_grid = {\n",
    "#     'booster': ['gbtree', 'gblinear', 'dart'],\n",
    "#     'max_depth': [3, 5, 7],\n",
    "#     'learning_rate': [0.01, 0.1, 0.2]\n",
    "# }\n",
    "# grid = GridSearchCV(xg, param_grid=param_grid, scoring='neg_mean_squared_error', cv=10)\n",
    "# pipetest = make_pipeline(column_transformer,  grid)\n",
    "# pipetest.fit(X_train, y_train)\n",
    "# pipetest.named_steps['gridsearchcv'].best_params_\n"
   ]
  },
  {
   "cell_type": "code",
   "execution_count": 141,
   "metadata": {},
   "outputs": [
    {
     "data": {
      "text/html": [
       "<style>#sk-container-id-20 {color: black;}#sk-container-id-20 pre{padding: 0;}#sk-container-id-20 div.sk-toggleable {background-color: white;}#sk-container-id-20 label.sk-toggleable__label {cursor: pointer;display: block;width: 100%;margin-bottom: 0;padding: 0.3em;box-sizing: border-box;text-align: center;}#sk-container-id-20 label.sk-toggleable__label-arrow:before {content: \"▸\";float: left;margin-right: 0.25em;color: #696969;}#sk-container-id-20 label.sk-toggleable__label-arrow:hover:before {color: black;}#sk-container-id-20 div.sk-estimator:hover label.sk-toggleable__label-arrow:before {color: black;}#sk-container-id-20 div.sk-toggleable__content {max-height: 0;max-width: 0;overflow: hidden;text-align: left;background-color: #f0f8ff;}#sk-container-id-20 div.sk-toggleable__content pre {margin: 0.2em;color: black;border-radius: 0.25em;background-color: #f0f8ff;}#sk-container-id-20 input.sk-toggleable__control:checked~div.sk-toggleable__content {max-height: 200px;max-width: 100%;overflow: auto;}#sk-container-id-20 input.sk-toggleable__control:checked~label.sk-toggleable__label-arrow:before {content: \"▾\";}#sk-container-id-20 div.sk-estimator input.sk-toggleable__control:checked~label.sk-toggleable__label {background-color: #d4ebff;}#sk-container-id-20 div.sk-label input.sk-toggleable__control:checked~label.sk-toggleable__label {background-color: #d4ebff;}#sk-container-id-20 input.sk-hidden--visually {border: 0;clip: rect(1px 1px 1px 1px);clip: rect(1px, 1px, 1px, 1px);height: 1px;margin: -1px;overflow: hidden;padding: 0;position: absolute;width: 1px;}#sk-container-id-20 div.sk-estimator {font-family: monospace;background-color: #f0f8ff;border: 1px dotted black;border-radius: 0.25em;box-sizing: border-box;margin-bottom: 0.5em;}#sk-container-id-20 div.sk-estimator:hover {background-color: #d4ebff;}#sk-container-id-20 div.sk-parallel-item::after {content: \"\";width: 100%;border-bottom: 1px solid gray;flex-grow: 1;}#sk-container-id-20 div.sk-label:hover label.sk-toggleable__label {background-color: #d4ebff;}#sk-container-id-20 div.sk-serial::before {content: \"\";position: absolute;border-left: 1px solid gray;box-sizing: border-box;top: 0;bottom: 0;left: 50%;z-index: 0;}#sk-container-id-20 div.sk-serial {display: flex;flex-direction: column;align-items: center;background-color: white;padding-right: 0.2em;padding-left: 0.2em;position: relative;}#sk-container-id-20 div.sk-item {position: relative;z-index: 1;}#sk-container-id-20 div.sk-parallel {display: flex;align-items: stretch;justify-content: center;background-color: white;position: relative;}#sk-container-id-20 div.sk-item::before, #sk-container-id-20 div.sk-parallel-item::before {content: \"\";position: absolute;border-left: 1px solid gray;box-sizing: border-box;top: 0;bottom: 0;left: 50%;z-index: -1;}#sk-container-id-20 div.sk-parallel-item {display: flex;flex-direction: column;z-index: 1;position: relative;background-color: white;}#sk-container-id-20 div.sk-parallel-item:first-child::after {align-self: flex-end;width: 50%;}#sk-container-id-20 div.sk-parallel-item:last-child::after {align-self: flex-start;width: 50%;}#sk-container-id-20 div.sk-parallel-item:only-child::after {width: 0;}#sk-container-id-20 div.sk-dashed-wrapped {border: 1px dashed gray;margin: 0 0.4em 0.5em 0.4em;box-sizing: border-box;padding-bottom: 0.4em;background-color: white;}#sk-container-id-20 div.sk-label label {font-family: monospace;font-weight: bold;display: inline-block;line-height: 1.2em;}#sk-container-id-20 div.sk-label-container {text-align: center;}#sk-container-id-20 div.sk-container {/* jupyter's `normalize.less` sets `[hidden] { display: none; }` but bootstrap.min.css set `[hidden] { display: none !important; }` so we also need the `!important` here to be able to override the default hidden behavior on the sphinx rendered scikit-learn.org. See: https://github.com/scikit-learn/scikit-learn/issues/21755 */display: inline-block !important;position: relative;}#sk-container-id-20 div.sk-text-repr-fallback {display: none;}</style><div id=\"sk-container-id-20\" class=\"sk-top-container\"><div class=\"sk-text-repr-fallback\"><pre>Pipeline(steps=[(&#x27;columntransformer&#x27;,\n",
       "                 ColumnTransformer(remainder=&#x27;passthrough&#x27;,\n",
       "                                   transformers=[(&#x27;onehotencoder&#x27;,\n",
       "                                                  OneHotEncoder(categories=[array([&#x27;first owner&#x27;, &#x27;fourth owner or more&#x27;, &#x27;second owner&#x27;,\n",
       "       &#x27;third owner&#x27;], dtype=object),\n",
       "                                                                            array([&#x27;Aprilia RSV4 R APRC 1000cc&#x27;, &#x27;Bajaj 4S champion 100cc&#x27;,\n",
       "       &#x27;Bajaj Avenger 180cc&#x27;, &#x27;Bajaj Avenger 200cc&#x27;,\n",
       "       &#x27;Bajaj Avenger 220cc&#x27;, &#x27;Bajaj Avenger Crui...\n",
       "                              feature_types=None, gamma=None, grow_policy=None,\n",
       "                              importance_type=None,\n",
       "                              interaction_constraints=None, learning_rate=0.2,\n",
       "                              max_bin=None, max_cat_threshold=None,\n",
       "                              max_cat_to_onehot=None, max_delta_step=None,\n",
       "                              max_depth=5, max_leaves=None,\n",
       "                              min_child_weight=None, missing=nan,\n",
       "                              monotone_constraints=None, multi_strategy=None,\n",
       "                              n_estimators=None, n_jobs=None,\n",
       "                              num_parallel_tree=None, random_state=None, ...))])</pre><b>In a Jupyter environment, please rerun this cell to show the HTML representation or trust the notebook. <br />On GitHub, the HTML representation is unable to render, please try loading this page with nbviewer.org.</b></div><div class=\"sk-container\" hidden><div class=\"sk-item sk-dashed-wrapped\"><div class=\"sk-label-container\"><div class=\"sk-label sk-toggleable\"><input class=\"sk-toggleable__control sk-hidden--visually\" id=\"sk-estimator-id-80\" type=\"checkbox\" ><label for=\"sk-estimator-id-80\" class=\"sk-toggleable__label sk-toggleable__label-arrow\">Pipeline</label><div class=\"sk-toggleable__content\"><pre>Pipeline(steps=[(&#x27;columntransformer&#x27;,\n",
       "                 ColumnTransformer(remainder=&#x27;passthrough&#x27;,\n",
       "                                   transformers=[(&#x27;onehotencoder&#x27;,\n",
       "                                                  OneHotEncoder(categories=[array([&#x27;first owner&#x27;, &#x27;fourth owner or more&#x27;, &#x27;second owner&#x27;,\n",
       "       &#x27;third owner&#x27;], dtype=object),\n",
       "                                                                            array([&#x27;Aprilia RSV4 R APRC 1000cc&#x27;, &#x27;Bajaj 4S champion 100cc&#x27;,\n",
       "       &#x27;Bajaj Avenger 180cc&#x27;, &#x27;Bajaj Avenger 200cc&#x27;,\n",
       "       &#x27;Bajaj Avenger 220cc&#x27;, &#x27;Bajaj Avenger Crui...\n",
       "                              feature_types=None, gamma=None, grow_policy=None,\n",
       "                              importance_type=None,\n",
       "                              interaction_constraints=None, learning_rate=0.2,\n",
       "                              max_bin=None, max_cat_threshold=None,\n",
       "                              max_cat_to_onehot=None, max_delta_step=None,\n",
       "                              max_depth=5, max_leaves=None,\n",
       "                              min_child_weight=None, missing=nan,\n",
       "                              monotone_constraints=None, multi_strategy=None,\n",
       "                              n_estimators=None, n_jobs=None,\n",
       "                              num_parallel_tree=None, random_state=None, ...))])</pre></div></div></div><div class=\"sk-serial\"><div class=\"sk-item sk-dashed-wrapped\"><div class=\"sk-label-container\"><div class=\"sk-label sk-toggleable\"><input class=\"sk-toggleable__control sk-hidden--visually\" id=\"sk-estimator-id-81\" type=\"checkbox\" ><label for=\"sk-estimator-id-81\" class=\"sk-toggleable__label sk-toggleable__label-arrow\">columntransformer: ColumnTransformer</label><div class=\"sk-toggleable__content\"><pre>ColumnTransformer(remainder=&#x27;passthrough&#x27;,\n",
       "                  transformers=[(&#x27;onehotencoder&#x27;,\n",
       "                                 OneHotEncoder(categories=[array([&#x27;first owner&#x27;, &#x27;fourth owner or more&#x27;, &#x27;second owner&#x27;,\n",
       "       &#x27;third owner&#x27;], dtype=object),\n",
       "                                                           array([&#x27;Aprilia RSV4 R APRC 1000cc&#x27;, &#x27;Bajaj 4S champion 100cc&#x27;,\n",
       "       &#x27;Bajaj Avenger 180cc&#x27;, &#x27;Bajaj Avenger 200cc&#x27;,\n",
       "       &#x27;Bajaj Avenger 220cc&#x27;, &#x27;Bajaj Avenger Cruise 220&#x27;,\n",
       "       &#x27;Bajaj Avenger Cruise 220 ABS&#x27;,\n",
       "       &#x27;Ba...\n",
       "       &#x27;Yamaha YZF-R1M 1000cc&#x27;, &#x27;Yamaha YZF-R3 320cc&#x27;,\n",
       "       &#x27;Yamaha YZF-R3 320cc ABS&#x27;, &#x27;Yamaha YZFR15 2.0 150&#x27;], dtype=object),\n",
       "                                                           array([&#x27;Aprilia&#x27;, &#x27;Bajaj&#x27;, &#x27;Benelli&#x27;, &#x27;BenelliImperiale&#x27;, &#x27;Ducati&#x27;,\n",
       "       &#x27;Harley-Davidson&#x27;, &#x27;Hero&#x27;, &#x27;Honda&#x27;, &#x27;Husqvarna&#x27;, &#x27;Hyosung&#x27;,\n",
       "       &#x27;Indian&#x27;, &#x27;KTM&#x27;, &#x27;Kawasaki&#x27;, &#x27;MV&#x27;, &#x27;Mahindra&#x27;, &#x27;Moto&#x27;, &#x27;Royal&#x27;,\n",
       "       &#x27;Suzuki&#x27;, &#x27;TVS&#x27;, &#x27;Triumph&#x27;, &#x27;UM&#x27;, &#x27;Yamaha&#x27;], dtype=object)]),\n",
       "                                 [&#x27;owner&#x27;, &#x27;name&#x27;, &#x27;model&#x27;])])</pre></div></div></div><div class=\"sk-parallel\"><div class=\"sk-parallel-item\"><div class=\"sk-item\"><div class=\"sk-label-container\"><div class=\"sk-label sk-toggleable\"><input class=\"sk-toggleable__control sk-hidden--visually\" id=\"sk-estimator-id-82\" type=\"checkbox\" ><label for=\"sk-estimator-id-82\" class=\"sk-toggleable__label sk-toggleable__label-arrow\">onehotencoder</label><div class=\"sk-toggleable__content\"><pre>[&#x27;owner&#x27;, &#x27;name&#x27;, &#x27;model&#x27;]</pre></div></div></div><div class=\"sk-serial\"><div class=\"sk-item\"><div class=\"sk-estimator sk-toggleable\"><input class=\"sk-toggleable__control sk-hidden--visually\" id=\"sk-estimator-id-83\" type=\"checkbox\" ><label for=\"sk-estimator-id-83\" class=\"sk-toggleable__label sk-toggleable__label-arrow\">OneHotEncoder</label><div class=\"sk-toggleable__content\"><pre>OneHotEncoder(categories=[array([&#x27;first owner&#x27;, &#x27;fourth owner or more&#x27;, &#x27;second owner&#x27;,\n",
       "       &#x27;third owner&#x27;], dtype=object),\n",
       "                          array([&#x27;Aprilia RSV4 R APRC 1000cc&#x27;, &#x27;Bajaj 4S champion 100cc&#x27;,\n",
       "       &#x27;Bajaj Avenger 180cc&#x27;, &#x27;Bajaj Avenger 200cc&#x27;,\n",
       "       &#x27;Bajaj Avenger 220cc&#x27;, &#x27;Bajaj Avenger Cruise 220&#x27;,\n",
       "       &#x27;Bajaj Avenger Cruise 220 ABS&#x27;,\n",
       "       &#x27;Bajaj Avenger Cruise 220 ABS FI BS6&#x27;, &#x27;Bajaj Avenger Street 150&#x27;,\n",
       "       &#x27;Bajaj Avenger Street 1...\n",
       "       &#x27;Yamaha YZF-R15 V3 150cc Darknight edition BS6&#x27;,\n",
       "       &#x27;Yamaha YZF-R1M 1000cc&#x27;, &#x27;Yamaha YZF-R3 320cc&#x27;,\n",
       "       &#x27;Yamaha YZF-R3 320cc ABS&#x27;, &#x27;Yamaha YZFR15 2.0 150&#x27;], dtype=object),\n",
       "                          array([&#x27;Aprilia&#x27;, &#x27;Bajaj&#x27;, &#x27;Benelli&#x27;, &#x27;BenelliImperiale&#x27;, &#x27;Ducati&#x27;,\n",
       "       &#x27;Harley-Davidson&#x27;, &#x27;Hero&#x27;, &#x27;Honda&#x27;, &#x27;Husqvarna&#x27;, &#x27;Hyosung&#x27;,\n",
       "       &#x27;Indian&#x27;, &#x27;KTM&#x27;, &#x27;Kawasaki&#x27;, &#x27;MV&#x27;, &#x27;Mahindra&#x27;, &#x27;Moto&#x27;, &#x27;Royal&#x27;,\n",
       "       &#x27;Suzuki&#x27;, &#x27;TVS&#x27;, &#x27;Triumph&#x27;, &#x27;UM&#x27;, &#x27;Yamaha&#x27;], dtype=object)])</pre></div></div></div></div></div></div><div class=\"sk-parallel-item\"><div class=\"sk-item\"><div class=\"sk-label-container\"><div class=\"sk-label sk-toggleable\"><input class=\"sk-toggleable__control sk-hidden--visually\" id=\"sk-estimator-id-84\" type=\"checkbox\" ><label for=\"sk-estimator-id-84\" class=\"sk-toggleable__label sk-toggleable__label-arrow\">remainder</label><div class=\"sk-toggleable__content\"><pre>[&#x27;model_year&#x27;, &#x27;km_driven&#x27;, &#x27;mileage(kmpl)&#x27;]</pre></div></div></div><div class=\"sk-serial\"><div class=\"sk-item\"><div class=\"sk-estimator sk-toggleable\"><input class=\"sk-toggleable__control sk-hidden--visually\" id=\"sk-estimator-id-85\" type=\"checkbox\" ><label for=\"sk-estimator-id-85\" class=\"sk-toggleable__label sk-toggleable__label-arrow\">passthrough</label><div class=\"sk-toggleable__content\"><pre>passthrough</pre></div></div></div></div></div></div></div></div><div class=\"sk-item\"><div class=\"sk-estimator sk-toggleable\"><input class=\"sk-toggleable__control sk-hidden--visually\" id=\"sk-estimator-id-86\" type=\"checkbox\" ><label for=\"sk-estimator-id-86\" class=\"sk-toggleable__label sk-toggleable__label-arrow\">XGBRegressor</label><div class=\"sk-toggleable__content\"><pre>XGBRegressor(base_score=None, booster=&#x27;dart&#x27;, callbacks=None,\n",
       "             colsample_bylevel=None, colsample_bynode=None,\n",
       "             colsample_bytree=None, device=None, early_stopping_rounds=None,\n",
       "             enable_categorical=False, eval_metric=None, feature_types=None,\n",
       "             gamma=None, grow_policy=None, importance_type=None,\n",
       "             interaction_constraints=None, learning_rate=0.2, max_bin=None,\n",
       "             max_cat_threshold=None, max_cat_to_onehot=None,\n",
       "             max_delta_step=None, max_depth=5, max_leaves=None,\n",
       "             min_child_weight=None, missing=nan, monotone_constraints=None,\n",
       "             multi_strategy=None, n_estimators=None, n_jobs=None,\n",
       "             num_parallel_tree=None, random_state=None, ...)</pre></div></div></div></div></div></div></div>"
      ],
      "text/plain": [
       "Pipeline(steps=[('columntransformer',\n",
       "                 ColumnTransformer(remainder='passthrough',\n",
       "                                   transformers=[('onehotencoder',\n",
       "                                                  OneHotEncoder(categories=[array(['first owner', 'fourth owner or more', 'second owner',\n",
       "       'third owner'], dtype=object),\n",
       "                                                                            array(['Aprilia RSV4 R APRC 1000cc', 'Bajaj 4S champion 100cc',\n",
       "       'Bajaj Avenger 180cc', 'Bajaj Avenger 200cc',\n",
       "       'Bajaj Avenger 220cc', 'Bajaj Avenger Crui...\n",
       "                              feature_types=None, gamma=None, grow_policy=None,\n",
       "                              importance_type=None,\n",
       "                              interaction_constraints=None, learning_rate=0.2,\n",
       "                              max_bin=None, max_cat_threshold=None,\n",
       "                              max_cat_to_onehot=None, max_delta_step=None,\n",
       "                              max_depth=5, max_leaves=None,\n",
       "                              min_child_weight=None, missing=nan,\n",
       "                              monotone_constraints=None, multi_strategy=None,\n",
       "                              n_estimators=None, n_jobs=None,\n",
       "                              num_parallel_tree=None, random_state=None, ...))])"
      ]
     },
     "execution_count": 141,
     "metadata": {},
     "output_type": "execute_result"
    }
   ],
   "source": [
    "xg = XGBRegressor(booster= 'dart',\n",
    "                  learning_rate= 0.2,\n",
    "                  max_depth= 5,\n",
    "                  verbosity=0)\n",
    "pipe = make_pipeline(column_transformer, xg)\n",
    "pipe.fit(X_train, y_train)"
   ]
  },
  {
   "cell_type": "code",
   "execution_count": 149,
   "metadata": {},
   "outputs": [],
   "source": [
    "import skops.io as sio \n",
    "sio.dump(pipe, '/home/anuraaga/Documents/DataCodes/Projects/pricePredictor/model_development/models/indianbikemodel_pipeline.skops')"
   ]
  },
  {
   "cell_type": "code",
   "execution_count": 154,
   "metadata": {},
   "outputs": [],
   "source": [
    "import skops.io as sio \n",
    "pipe = sio.load('/home/anuraaga/Documents/DataCodes/Projects/pricePredictor/model_development/models/indianbikemodel_pipeline.skops', trusted=True)"
   ]
  },
  {
   "cell_type": "code",
   "execution_count": 70,
   "metadata": {},
   "outputs": [
    {
     "data": {
      "text/plain": [
       "[2006, 'first owner', 'Hero Super Splendor 125cc', 'Hero', 19000, 75]"
      ]
     },
     "execution_count": 70,
     "metadata": {},
     "output_type": "execute_result"
    }
   ],
   "source": [
    "X_test.iloc[0,:].tolist()"
   ]
  },
  {
   "cell_type": "code",
   "execution_count": 155,
   "metadata": {},
   "outputs": [
    {
     "data": {
      "text/plain": [
       "0.9417211316796248"
      ]
     },
     "execution_count": 155,
     "metadata": {},
     "output_type": "execute_result"
    }
   ],
   "source": [
    "pipe.score(X_train, y_train)\n"
   ]
  },
  {
   "cell_type": "code",
   "execution_count": 156,
   "metadata": {},
   "outputs": [
    {
     "data": {
      "text/plain": [
       "0.9121203428340261"
      ]
     },
     "execution_count": 156,
     "metadata": {},
     "output_type": "execute_result"
    }
   ],
   "source": [
    "pipe.score(X_test, y_test)"
   ]
  },
  {
   "cell_type": "code",
   "execution_count": 157,
   "metadata": {},
   "outputs": [
    {
     "data": {
      "text/plain": [
       "5730    147.986486\n",
       "3575    483.153185\n",
       "853     324.037035\n",
       "3746    911.043358\n",
       "5243    412.310563\n",
       "           ...    \n",
       "2181    197.484177\n",
       "2409    331.662479\n",
       "2033    212.132034\n",
       "1364    430.116263\n",
       "4547    213.307290\n",
       "Name: price, Length: 5508, dtype: float64"
      ]
     },
     "execution_count": 157,
     "metadata": {},
     "output_type": "execute_result"
    }
   ],
   "source": [
    "y_train"
   ]
  },
  {
   "cell_type": "code",
   "execution_count": 81,
   "metadata": {},
   "outputs": [
    {
     "data": {
      "text/html": [
       "<div>\n",
       "<style scoped>\n",
       "    .dataframe tbody tr th:only-of-type {\n",
       "        vertical-align: middle;\n",
       "    }\n",
       "\n",
       "    .dataframe tbody tr th {\n",
       "        vertical-align: top;\n",
       "    }\n",
       "\n",
       "    .dataframe thead th {\n",
       "        text-align: right;\n",
       "    }\n",
       "</style>\n",
       "<table border=\"1\" class=\"dataframe\">\n",
       "  <thead>\n",
       "    <tr style=\"text-align: right;\">\n",
       "      <th></th>\n",
       "      <th>model_year</th>\n",
       "      <th>owner</th>\n",
       "      <th>price</th>\n",
       "      <th>name</th>\n",
       "      <th>model</th>\n",
       "      <th>km_driven</th>\n",
       "      <th>mileage(kmpl)</th>\n",
       "    </tr>\n",
       "  </thead>\n",
       "  <tbody>\n",
       "    <tr>\n",
       "      <th>0</th>\n",
       "      <td>2017</td>\n",
       "      <td>first owner</td>\n",
       "      <td>63500</td>\n",
       "      <td>Bajaj Avenger Cruise 220</td>\n",
       "      <td>Bajaj</td>\n",
       "      <td>17000</td>\n",
       "      <td>35</td>\n",
       "    </tr>\n",
       "    <tr>\n",
       "      <th>1</th>\n",
       "      <td>2016</td>\n",
       "      <td>first owner</td>\n",
       "      <td>115000</td>\n",
       "      <td>Royal Enfield Classic 350cc</td>\n",
       "      <td>Royal</td>\n",
       "      <td>50000</td>\n",
       "      <td>35</td>\n",
       "    </tr>\n",
       "    <tr>\n",
       "      <th>2</th>\n",
       "      <td>2012</td>\n",
       "      <td>first owner</td>\n",
       "      <td>300000</td>\n",
       "      <td>Hyosung GT250R</td>\n",
       "      <td>Hyosung</td>\n",
       "      <td>14795</td>\n",
       "      <td>30</td>\n",
       "    </tr>\n",
       "    <tr>\n",
       "      <th>3</th>\n",
       "      <td>2017</td>\n",
       "      <td>first owner</td>\n",
       "      <td>100000</td>\n",
       "      <td>Bajaj Dominar 400 ABS</td>\n",
       "      <td>Bajaj</td>\n",
       "      <td>28</td>\n",
       "      <td>28</td>\n",
       "    </tr>\n",
       "    <tr>\n",
       "      <th>4</th>\n",
       "      <td>2012</td>\n",
       "      <td>third owner</td>\n",
       "      <td>63400</td>\n",
       "      <td>KTM Duke 200cc</td>\n",
       "      <td>KTM</td>\n",
       "      <td>24561</td>\n",
       "      <td>35</td>\n",
       "    </tr>\n",
       "    <tr>\n",
       "      <th>...</th>\n",
       "      <td>...</td>\n",
       "      <td>...</td>\n",
       "      <td>...</td>\n",
       "      <td>...</td>\n",
       "      <td>...</td>\n",
       "      <td>...</td>\n",
       "      <td>...</td>\n",
       "    </tr>\n",
       "    <tr>\n",
       "      <th>6881</th>\n",
       "      <td>2011</td>\n",
       "      <td>first owner</td>\n",
       "      <td>39899</td>\n",
       "      <td>Hero Karizma ZMR 223cc</td>\n",
       "      <td>Hero</td>\n",
       "      <td>66780</td>\n",
       "      <td>48</td>\n",
       "    </tr>\n",
       "    <tr>\n",
       "      <th>6882</th>\n",
       "      <td>2011</td>\n",
       "      <td>first owner</td>\n",
       "      <td>55000</td>\n",
       "      <td>Yamaha YZF-R15 150cc</td>\n",
       "      <td>Yamaha</td>\n",
       "      <td>7000</td>\n",
       "      <td>42</td>\n",
       "    </tr>\n",
       "    <tr>\n",
       "      <th>6883</th>\n",
       "      <td>2016</td>\n",
       "      <td>first owner</td>\n",
       "      <td>61740</td>\n",
       "      <td>Bajaj Pulsar 180cc</td>\n",
       "      <td>Bajaj</td>\n",
       "      <td>6407</td>\n",
       "      <td>65</td>\n",
       "    </tr>\n",
       "    <tr>\n",
       "      <th>6884</th>\n",
       "      <td>2016</td>\n",
       "      <td>first owner</td>\n",
       "      <td>49000</td>\n",
       "      <td>Bajaj V15 150cc</td>\n",
       "      <td>Bajaj</td>\n",
       "      <td>7524</td>\n",
       "      <td>57</td>\n",
       "    </tr>\n",
       "    <tr>\n",
       "      <th>6885</th>\n",
       "      <td>2016</td>\n",
       "      <td>first owner</td>\n",
       "      <td>65000</td>\n",
       "      <td>Bajaj Pulsar 220cc</td>\n",
       "      <td>Bajaj</td>\n",
       "      <td>15000</td>\n",
       "      <td>38</td>\n",
       "    </tr>\n",
       "  </tbody>\n",
       "</table>\n",
       "<p>6886 rows × 7 columns</p>\n",
       "</div>"
      ],
      "text/plain": [
       "      model_year        owner   price                         name    model  \\\n",
       "0           2017  first owner   63500     Bajaj Avenger Cruise 220    Bajaj   \n",
       "1           2016  first owner  115000  Royal Enfield Classic 350cc    Royal   \n",
       "2           2012  first owner  300000               Hyosung GT250R  Hyosung   \n",
       "3           2017  first owner  100000        Bajaj Dominar 400 ABS    Bajaj   \n",
       "4           2012  third owner   63400               KTM Duke 200cc      KTM   \n",
       "...          ...          ...     ...                          ...      ...   \n",
       "6881        2011  first owner   39899       Hero Karizma ZMR 223cc     Hero   \n",
       "6882        2011  first owner   55000         Yamaha YZF-R15 150cc   Yamaha   \n",
       "6883        2016  first owner   61740           Bajaj Pulsar 180cc    Bajaj   \n",
       "6884        2016  first owner   49000              Bajaj V15 150cc    Bajaj   \n",
       "6885        2016  first owner   65000           Bajaj Pulsar 220cc    Bajaj   \n",
       "\n",
       "      km_driven  mileage(kmpl)  \n",
       "0         17000             35  \n",
       "1         50000             35  \n",
       "2         14795             30  \n",
       "3            28             28  \n",
       "4         24561             35  \n",
       "...         ...            ...  \n",
       "6881      66780             48  \n",
       "6882       7000             42  \n",
       "6883       6407             65  \n",
       "6884       7524             57  \n",
       "6885      15000             38  \n",
       "\n",
       "[6886 rows x 7 columns]"
      ]
     },
     "execution_count": 81,
     "metadata": {},
     "output_type": "execute_result"
    }
   ],
   "source": [
    "cldf"
   ]
  },
  {
   "cell_type": "code",
   "execution_count": 93,
   "metadata": {
    "notebookRunGroups": {
     "groupValue": ""
    }
   },
   "outputs": [
    {
     "data": {
      "text/plain": [
       "array([23095.297], dtype=float32)"
      ]
     },
     "execution_count": 93,
     "metadata": {},
     "output_type": "execute_result"
    }
   ],
   "source": [
    "pipe.predict(pd.DataFrame([cldf.drop('price', axis=1).iloc[6881,:].tolist()], columns=['model_year', 'owner', 'name', 'model', 'km_driven', 'mileage(kmpl)']))"
   ]
  },
  {
   "cell_type": "code",
   "execution_count": 158,
   "metadata": {},
   "outputs": [],
   "source": [
    "y_pred = pipe.predict(X_test)"
   ]
  },
  {
   "cell_type": "code",
   "execution_count": 176,
   "metadata": {},
   "outputs": [
    {
     "data": {
      "text/plain": [
       "(1378,)"
      ]
     },
     "execution_count": 176,
     "metadata": {},
     "output_type": "execute_result"
    }
   ],
   "source": [
    "X_test.iloc[:, 0].shape"
   ]
  },
  {
   "cell_type": "code",
   "execution_count": 178,
   "metadata": {},
   "outputs": [
    {
     "data": {
      "text/plain": [
       "(1378,)"
      ]
     },
     "execution_count": 178,
     "metadata": {},
     "output_type": "execute_result"
    }
   ],
   "source": [
    "y_test.shape"
   ]
  },
  {
   "cell_type": "code",
   "execution_count": 110,
   "metadata": {},
   "outputs": [
    {
     "data": {
      "text/plain": [
       "(array([1083.,  129.,   21.,   16.,    8.,    6.,    2.,    6.,    2.,\n",
       "           2.]),\n",
       " array([  15567.625   ,  149422.515625,  283277.40625 ,  417132.28125 ,\n",
       "         550987.1875  ,  684842.0625  ,  818696.9375  ,  952551.8125  ,\n",
       "        1086406.75    , 1220261.625   , 1354116.5     ]),\n",
       " <BarContainer object of 10 artists>)"
      ]
     },
     "execution_count": 110,
     "metadata": {},
     "output_type": "execute_result"
    },
    {
     "data": {
      "image/png": "[encoded data removed]",
      "text/plain": [
       "<Figure size 640x480 with 1 Axes>"
      ]
     },
     "metadata": {},
     "output_type": "display_data"
    }
   ],
   "source": [
    "plt.hist(y_pred)"
   ]
  },
  {
   "cell_type": "code",
   "execution_count": 144,
   "metadata": {},
   "outputs": [
    {
     "data": {
      "text/html": [
       "<div>\n",
       "<style scoped>\n",
       "    .dataframe tbody tr th:only-of-type {\n",
       "        vertical-align: middle;\n",
       "    }\n",
       "\n",
       "    .dataframe tbody tr th {\n",
       "        vertical-align: top;\n",
       "    }\n",
       "\n",
       "    .dataframe thead th {\n",
       "        text-align: right;\n",
       "    }\n",
       "</style>\n",
       "<table border=\"1\" class=\"dataframe\">\n",
       "  <thead>\n",
       "    <tr style=\"text-align: right;\">\n",
       "      <th></th>\n",
       "      <th>model_year</th>\n",
       "      <th>owner</th>\n",
       "      <th>price</th>\n",
       "      <th>name</th>\n",
       "      <th>model</th>\n",
       "      <th>km_driven</th>\n",
       "      <th>mileage(kmpl)</th>\n",
       "    </tr>\n",
       "  </thead>\n",
       "  <tbody>\n",
       "    <tr>\n",
       "      <th>32</th>\n",
       "      <td>2019</td>\n",
       "      <td>first owner</td>\n",
       "      <td>48000</td>\n",
       "      <td>Hero Achiever 150cc</td>\n",
       "      <td>Hero</td>\n",
       "      <td>15000</td>\n",
       "      <td>45</td>\n",
       "    </tr>\n",
       "    <tr>\n",
       "      <th>2863</th>\n",
       "      <td>2012</td>\n",
       "      <td>second owner</td>\n",
       "      <td>15000</td>\n",
       "      <td>Hero Achiever 150cc</td>\n",
       "      <td>Hero</td>\n",
       "      <td>32000</td>\n",
       "      <td>45</td>\n",
       "    </tr>\n",
       "    <tr>\n",
       "      <th>3994</th>\n",
       "      <td>2017</td>\n",
       "      <td>first owner</td>\n",
       "      <td>35000</td>\n",
       "      <td>Hero Achiever 150cc</td>\n",
       "      <td>Hero</td>\n",
       "      <td>14999</td>\n",
       "      <td>45</td>\n",
       "    </tr>\n",
       "    <tr>\n",
       "      <th>4833</th>\n",
       "      <td>2018</td>\n",
       "      <td>first owner</td>\n",
       "      <td>42000</td>\n",
       "      <td>Hero Achiever 150cc</td>\n",
       "      <td>Hero</td>\n",
       "      <td>1999</td>\n",
       "      <td>45</td>\n",
       "    </tr>\n",
       "  </tbody>\n",
       "</table>\n",
       "</div>"
      ],
      "text/plain": [
       "      model_year         owner  price                 name model  km_driven  \\\n",
       "32          2019   first owner  48000  Hero Achiever 150cc  Hero      15000   \n",
       "2863        2012  second owner  15000  Hero Achiever 150cc  Hero      32000   \n",
       "3994        2017   first owner  35000  Hero Achiever 150cc  Hero      14999   \n",
       "4833        2018   first owner  42000  Hero Achiever 150cc  Hero       1999   \n",
       "\n",
       "      mileage(kmpl)  \n",
       "32               45  \n",
       "2863             45  \n",
       "3994             45  \n",
       "4833             45  "
      ]
     },
     "execution_count": 144,
     "metadata": {},
     "output_type": "execute_result"
    }
   ],
   "source": [
    "df[df['name']=='Hero Achiever 150cc']"
   ]
  },
  {
   "cell_type": "code",
   "execution_count": 148,
   "metadata": {},
   "outputs": [
    {
     "data": {
      "text/plain": [
       "array([51484.094], dtype=float32)"
      ]
     },
     "execution_count": 148,
     "metadata": {},
     "output_type": "execute_result"
    }
   ],
   "source": [
    "(pipe.predict(pd.DataFrame([[2017, 'first owner', 'Hero Achiever 150cc', 'Hero', 20000, 45]], columns=['model_year', 'owner', 'name', 'model', 'km_driven', 'mileage(kmpl)'])))**2"
   ]
  }
 ],
 "metadata": {
  "kernelspec": {
   "display_name": "pricePredictor",
   "language": "python",
   "name": "python3"
  },
  "language_info": {
   "codemirror_mode": {
    "name": "ipython",
    "version": 3
   },
   "file_extension": ".py",
   "mimetype": "text/x-python",
   "name": "python",
   "nbconvert_exporter": "python",
   "pygments_lexer": "ipython3",
   "version": "3.11.6"
  }
 },
 "nbformat": 4,
 "nbformat_minor": 2
}
