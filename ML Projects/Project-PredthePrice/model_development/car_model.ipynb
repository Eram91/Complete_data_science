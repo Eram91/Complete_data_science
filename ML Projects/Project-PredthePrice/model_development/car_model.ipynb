{
 "cells": [
  {
   "cell_type": "code",
   "execution_count": 3,
   "metadata": {},
   "outputs": [],
   "source": [
    "# imports\n",
    "import pandas as pd\n",
    "import seaborn as sns\n",
    "import matplotlib.pyplot as plt \n",
    "import numpy as np\n",
    "\n",
    "from modelprocessing.functions import getBestModel\n",
    "from sklearn.pipeline import make_pipeline\n",
    "from sklearn.compose import make_column_transformer\n",
    "from sklearn.preprocessing import OneHotEncoder\n",
    "from sklearn.model_selection import train_test_split\n",
    "import skops.io as sio"
   ]
  },
  {
   "cell_type": "code",
   "execution_count": 4,
   "metadata": {},
   "outputs": [],
   "source": [
    "df = pd.read_pickle('/home/anuraaga/Documents/Projects/pricePredictor/dataset/dataset_car/autos_v3.pkl')"
   ]
  },
  {
   "cell_type": "code",
   "execution_count": 5,
   "metadata": {},
   "outputs": [
    {
     "data": {
      "text/html": [
       "<div>\n",
       "<style scoped>\n",
       "    .dataframe tbody tr th:only-of-type {\n",
       "        vertical-align: middle;\n",
       "    }\n",
       "\n",
       "    .dataframe tbody tr th {\n",
       "        vertical-align: top;\n",
       "    }\n",
       "\n",
       "    .dataframe thead th {\n",
       "        text-align: right;\n",
       "    }\n",
       "</style>\n",
       "<table border=\"1\" class=\"dataframe\">\n",
       "  <thead>\n",
       "    <tr style=\"text-align: right;\">\n",
       "      <th></th>\n",
       "      <th>name</th>\n",
       "      <th>abtest</th>\n",
       "      <th>vehicleType</th>\n",
       "      <th>yearOfRegistration</th>\n",
       "      <th>gearbox</th>\n",
       "      <th>kilometer</th>\n",
       "      <th>monthOfRegistration</th>\n",
       "      <th>fuelType</th>\n",
       "      <th>brand</th>\n",
       "      <th>notRepairedDamage</th>\n",
       "      <th>price(inr)</th>\n",
       "    </tr>\n",
       "  </thead>\n",
       "  <tbody>\n",
       "    <tr>\n",
       "      <th>0</th>\n",
       "      <td>Golf 3 16</td>\n",
       "      <td>test</td>\n",
       "      <td>Others</td>\n",
       "      <td>1993</td>\n",
       "      <td>Manual</td>\n",
       "      <td>150000</td>\n",
       "      <td>0</td>\n",
       "      <td>Petrol</td>\n",
       "      <td>Volkswagen</td>\n",
       "      <td>False</td>\n",
       "      <td>43200</td>\n",
       "    </tr>\n",
       "    <tr>\n",
       "      <th>1</th>\n",
       "      <td>Audi A5 Sportback</td>\n",
       "      <td>test</td>\n",
       "      <td>Coupe</td>\n",
       "      <td>2011</td>\n",
       "      <td>Manual</td>\n",
       "      <td>125000</td>\n",
       "      <td>5</td>\n",
       "      <td>Diesel</td>\n",
       "      <td>Audi</td>\n",
       "      <td>True</td>\n",
       "      <td>1647000</td>\n",
       "    </tr>\n",
       "    <tr>\n",
       "      <th>2</th>\n",
       "      <td>Jeep Grand Cherokee</td>\n",
       "      <td>test</td>\n",
       "      <td>Suv</td>\n",
       "      <td>2004</td>\n",
       "      <td>Automatic</td>\n",
       "      <td>125000</td>\n",
       "      <td>8</td>\n",
       "      <td>Diesel</td>\n",
       "      <td>Jeep</td>\n",
       "      <td>False</td>\n",
       "      <td>882000</td>\n",
       "    </tr>\n",
       "    <tr>\n",
       "      <th>3</th>\n",
       "      <td>GOLF 4 1</td>\n",
       "      <td>test</td>\n",
       "      <td>Compact</td>\n",
       "      <td>2001</td>\n",
       "      <td>Manual</td>\n",
       "      <td>150000</td>\n",
       "      <td>6</td>\n",
       "      <td>Petrol</td>\n",
       "      <td>Volkswagen</td>\n",
       "      <td>False</td>\n",
       "      <td>135000</td>\n",
       "    </tr>\n",
       "    <tr>\n",
       "      <th>4</th>\n",
       "      <td>Skoda Fabia 14</td>\n",
       "      <td>test</td>\n",
       "      <td>Compact</td>\n",
       "      <td>2008</td>\n",
       "      <td>Manual</td>\n",
       "      <td>90000</td>\n",
       "      <td>7</td>\n",
       "      <td>Diesel</td>\n",
       "      <td>Skoda</td>\n",
       "      <td>False</td>\n",
       "      <td>324000</td>\n",
       "    </tr>\n",
       "    <tr>\n",
       "      <th>...</th>\n",
       "      <td>...</td>\n",
       "      <td>...</td>\n",
       "      <td>...</td>\n",
       "      <td>...</td>\n",
       "      <td>...</td>\n",
       "      <td>...</td>\n",
       "      <td>...</td>\n",
       "      <td>...</td>\n",
       "      <td>...</td>\n",
       "      <td>...</td>\n",
       "      <td>...</td>\n",
       "    </tr>\n",
       "    <tr>\n",
       "      <th>360729</th>\n",
       "      <td>Sonstigeautos Suche t4</td>\n",
       "      <td>test</td>\n",
       "      <td>Others</td>\n",
       "      <td>2005</td>\n",
       "      <td>Manual</td>\n",
       "      <td>20000</td>\n",
       "      <td>1</td>\n",
       "      <td>Others</td>\n",
       "      <td>Sonstigeautos</td>\n",
       "      <td>False</td>\n",
       "      <td>198000</td>\n",
       "    </tr>\n",
       "    <tr>\n",
       "      <th>360730</th>\n",
       "      <td>Smart smart leistungssteigerung</td>\n",
       "      <td>test</td>\n",
       "      <td>Cabrio</td>\n",
       "      <td>2000</td>\n",
       "      <td>Automatic</td>\n",
       "      <td>125000</td>\n",
       "      <td>3</td>\n",
       "      <td>Petrol</td>\n",
       "      <td>Smart</td>\n",
       "      <td>False</td>\n",
       "      <td>107910</td>\n",
       "    </tr>\n",
       "    <tr>\n",
       "      <th>360731</th>\n",
       "      <td>Volkswagen Multivan T4</td>\n",
       "      <td>test</td>\n",
       "      <td>Bus</td>\n",
       "      <td>1996</td>\n",
       "      <td>Manual</td>\n",
       "      <td>150000</td>\n",
       "      <td>3</td>\n",
       "      <td>Diesel</td>\n",
       "      <td>Volkswagen</td>\n",
       "      <td>False</td>\n",
       "      <td>828000</td>\n",
       "    </tr>\n",
       "    <tr>\n",
       "      <th>360732</th>\n",
       "      <td>VW Golf Kombi</td>\n",
       "      <td>test</td>\n",
       "      <td>Combi</td>\n",
       "      <td>2002</td>\n",
       "      <td>Manual</td>\n",
       "      <td>150000</td>\n",
       "      <td>6</td>\n",
       "      <td>Diesel</td>\n",
       "      <td>Volkswagen</td>\n",
       "      <td>False</td>\n",
       "      <td>306000</td>\n",
       "    </tr>\n",
       "    <tr>\n",
       "      <th>360733</th>\n",
       "      <td>BMW M135i vollausgestattet</td>\n",
       "      <td>control</td>\n",
       "      <td>Limousine</td>\n",
       "      <td>2013</td>\n",
       "      <td>Manual</td>\n",
       "      <td>50000</td>\n",
       "      <td>8</td>\n",
       "      <td>Petrol</td>\n",
       "      <td>Bmw</td>\n",
       "      <td>False</td>\n",
       "      <td>2609100</td>\n",
       "    </tr>\n",
       "  </tbody>\n",
       "</table>\n",
       "<p>360734 rows × 11 columns</p>\n",
       "</div>"
      ],
      "text/plain": [
       "                                   name   abtest vehicleType  \\\n",
       "0                             Golf 3 16     test      Others   \n",
       "1                     Audi A5 Sportback     test       Coupe   \n",
       "2                   Jeep Grand Cherokee     test         Suv   \n",
       "3                              GOLF 4 1     test     Compact   \n",
       "4                        Skoda Fabia 14     test     Compact   \n",
       "...                                 ...      ...         ...   \n",
       "360729           Sonstigeautos Suche t4     test      Others   \n",
       "360730  Smart smart leistungssteigerung     test      Cabrio   \n",
       "360731           Volkswagen Multivan T4     test         Bus   \n",
       "360732                    VW Golf Kombi     test       Combi   \n",
       "360733       BMW M135i vollausgestattet  control   Limousine   \n",
       "\n",
       "        yearOfRegistration    gearbox  kilometer  monthOfRegistration  \\\n",
       "0                     1993     Manual     150000                    0   \n",
       "1                     2011     Manual     125000                    5   \n",
       "2                     2004  Automatic     125000                    8   \n",
       "3                     2001     Manual     150000                    6   \n",
       "4                     2008     Manual      90000                    7   \n",
       "...                    ...        ...        ...                  ...   \n",
       "360729                2005     Manual      20000                    1   \n",
       "360730                2000  Automatic     125000                    3   \n",
       "360731                1996     Manual     150000                    3   \n",
       "360732                2002     Manual     150000                    6   \n",
       "360733                2013     Manual      50000                    8   \n",
       "\n",
       "       fuelType          brand  notRepairedDamage  price(inr)  \n",
       "0        Petrol     Volkswagen              False       43200  \n",
       "1        Diesel           Audi               True     1647000  \n",
       "2        Diesel           Jeep              False      882000  \n",
       "3        Petrol     Volkswagen              False      135000  \n",
       "4        Diesel          Skoda              False      324000  \n",
       "...         ...            ...                ...         ...  \n",
       "360729   Others  Sonstigeautos              False      198000  \n",
       "360730   Petrol          Smart              False      107910  \n",
       "360731   Diesel     Volkswagen              False      828000  \n",
       "360732   Diesel     Volkswagen              False      306000  \n",
       "360733   Petrol            Bmw              False     2609100  \n",
       "\n",
       "[360734 rows x 11 columns]"
      ]
     },
     "execution_count": 5,
     "metadata": {},
     "output_type": "execute_result"
    }
   ],
   "source": [
    "df"
   ]
  },
  {
   "cell_type": "code",
   "execution_count": 6,
   "metadata": {},
   "outputs": [
    {
     "data": {
      "text/plain": [
       "name                   0\n",
       "abtest                 0\n",
       "vehicleType            0\n",
       "yearOfRegistration     0\n",
       "gearbox                0\n",
       "kilometer              0\n",
       "monthOfRegistration    0\n",
       "fuelType               0\n",
       "brand                  0\n",
       "notRepairedDamage      0\n",
       "price(inr)             0\n",
       "dtype: int64"
      ]
     },
     "execution_count": 6,
     "metadata": {},
     "output_type": "execute_result"
    }
   ],
   "source": [
    "df.isna().sum()"
   ]
  },
  {
   "cell_type": "code",
   "execution_count": 7,
   "metadata": {},
   "outputs": [],
   "source": [
    "df.drop('monthOfRegistration', axis=1, inplace=True)"
   ]
  },
  {
   "cell_type": "code",
   "execution_count": 8,
   "metadata": {},
   "outputs": [
    {
     "data": {
      "text/html": [
       "<div>\n",
       "<style scoped>\n",
       "    .dataframe tbody tr th:only-of-type {\n",
       "        vertical-align: middle;\n",
       "    }\n",
       "\n",
       "    .dataframe tbody tr th {\n",
       "        vertical-align: top;\n",
       "    }\n",
       "\n",
       "    .dataframe thead th {\n",
       "        text-align: right;\n",
       "    }\n",
       "</style>\n",
       "<table border=\"1\" class=\"dataframe\">\n",
       "  <thead>\n",
       "    <tr style=\"text-align: right;\">\n",
       "      <th></th>\n",
       "      <th>count</th>\n",
       "      <th>mean</th>\n",
       "      <th>std</th>\n",
       "      <th>min</th>\n",
       "      <th>25%</th>\n",
       "      <th>50%</th>\n",
       "      <th>75%</th>\n",
       "      <th>max</th>\n",
       "    </tr>\n",
       "  </thead>\n",
       "  <tbody>\n",
       "    <tr>\n",
       "      <th>yearOfRegistration</th>\n",
       "      <td>360734.0</td>\n",
       "      <td>2.004563e+03</td>\n",
       "      <td>9.377812e+01</td>\n",
       "      <td>1000.0</td>\n",
       "      <td>1999.0</td>\n",
       "      <td>2003.0</td>\n",
       "      <td>2008.0</td>\n",
       "      <td>9.999000e+03</td>\n",
       "    </tr>\n",
       "    <tr>\n",
       "      <th>kilometer</th>\n",
       "      <td>360734.0</td>\n",
       "      <td>1.256093e+05</td>\n",
       "      <td>4.013812e+04</td>\n",
       "      <td>5000.0</td>\n",
       "      <td>125000.0</td>\n",
       "      <td>150000.0</td>\n",
       "      <td>150000.0</td>\n",
       "      <td>1.500000e+05</td>\n",
       "    </tr>\n",
       "    <tr>\n",
       "      <th>price(inr)</th>\n",
       "      <td>360734.0</td>\n",
       "      <td>1.568993e+06</td>\n",
       "      <td>3.275229e+08</td>\n",
       "      <td>0.0</td>\n",
       "      <td>99990.0</td>\n",
       "      <td>265500.0</td>\n",
       "      <td>647910.0</td>\n",
       "      <td>1.932735e+11</td>\n",
       "    </tr>\n",
       "  </tbody>\n",
       "</table>\n",
       "</div>"
      ],
      "text/plain": [
       "                       count          mean           std     min       25%  \\\n",
       "yearOfRegistration  360734.0  2.004563e+03  9.377812e+01  1000.0    1999.0   \n",
       "kilometer           360734.0  1.256093e+05  4.013812e+04  5000.0  125000.0   \n",
       "price(inr)          360734.0  1.568993e+06  3.275229e+08     0.0   99990.0   \n",
       "\n",
       "                         50%       75%           max  \n",
       "yearOfRegistration    2003.0    2008.0  9.999000e+03  \n",
       "kilometer           150000.0  150000.0  1.500000e+05  \n",
       "price(inr)          265500.0  647910.0  1.932735e+11  "
      ]
     },
     "execution_count": 8,
     "metadata": {},
     "output_type": "execute_result"
    }
   ],
   "source": [
    "df.describe().T"
   ]
  },
  {
   "cell_type": "code",
   "execution_count": 9,
   "metadata": {},
   "outputs": [
    {
     "data": {
      "text/plain": [
       "193273528230"
      ]
     },
     "execution_count": 9,
     "metadata": {},
     "output_type": "execute_result"
    }
   ],
   "source": [
    "df['price(inr)'].max() # noise"
   ]
  },
  {
   "cell_type": "code",
   "execution_count": 10,
   "metadata": {},
   "outputs": [
    {
     "data": {
      "text/plain": [
       "9999"
      ]
     },
     "execution_count": 10,
     "metadata": {},
     "output_type": "execute_result"
    }
   ],
   "source": [
    "df['yearOfRegistration'].max() # noise"
   ]
  },
  {
   "cell_type": "code",
   "execution_count": 11,
   "metadata": {},
   "outputs": [
    {
     "data": {
      "text/plain": [
       "<Axes: ylabel='price(inr)'>"
      ]
     },
     "execution_count": 11,
     "metadata": {},
     "output_type": "execute_result"
    },
    {
     "data": {
      "image/png": "[encoded data removed]",
      "text/plain": [
       "<Figure size 640x480 with 1 Axes>"
      ]
     },
     "metadata": {},
     "output_type": "display_data"
    }
   ],
   "source": [
    "sns.boxplot(df[df['price(inr)']<=df['price(inr)'].quantile(0.99)]['price(inr)'])"
   ]
  },
  {
   "cell_type": "code",
   "execution_count": 12,
   "metadata": {},
   "outputs": [],
   "source": [
    "df['price(inr)'] = np.where(df['price(inr)']> df['price(inr)'].quantile(0.99), df[df['price(inr)']<=df['price(inr)'].quantile(0.99)]['price(inr)'].max(), df['price(inr)'])"
   ]
  },
  {
   "cell_type": "code",
   "execution_count": 13,
   "metadata": {},
   "outputs": [
    {
     "data": {
      "text/plain": [
       "<Axes: ylabel='price(inr)'>"
      ]
     },
     "execution_count": 13,
     "metadata": {},
     "output_type": "execute_result"
    },
    {
     "data": {
      "image/png": "[encoded data removed]",
      "text/plain": [
       "<Figure size 640x480 with 1 Axes>"
      ]
     },
     "metadata": {},
     "output_type": "display_data"
    }
   ],
   "source": [
    "sns.boxplot(df['price(inr)'])"
   ]
  },
  {
   "cell_type": "code",
   "execution_count": 14,
   "metadata": {},
   "outputs": [
    {
     "data": {
      "text/plain": [
       "<Axes: ylabel='yearOfRegistration'>"
      ]
     },
     "execution_count": 14,
     "metadata": {},
     "output_type": "execute_result"
    },
    {
     "data": {
      "image/png": "[encoded data removed]",
      "text/plain": [
       "<Figure size 640x480 with 1 Axes>"
      ]
     },
     "metadata": {},
     "output_type": "display_data"
    }
   ],
   "source": [
    "sns.boxplot(df['yearOfRegistration'])"
   ]
  },
  {
   "cell_type": "markdown",
   "metadata": {},
   "source": [
    "too much noise values, replacing the noise values with the current year"
   ]
  },
  {
   "cell_type": "code",
   "execution_count": 15,
   "metadata": {},
   "outputs": [],
   "source": [
    "data = df.copy()"
   ]
  },
  {
   "cell_type": "code",
   "execution_count": 16,
   "metadata": {},
   "outputs": [],
   "source": [
    "data['yearOfRegistration'] = np.where(data['yearOfRegistration']>2023, 2023, data['yearOfRegistration'])"
   ]
  },
  {
   "cell_type": "code",
   "execution_count": 17,
   "metadata": {},
   "outputs": [],
   "source": [
    "data['yearOfRegistration'] = np.where(data['yearOfRegistration']<1900, 1900, data['yearOfRegistration'])"
   ]
  },
  {
   "cell_type": "code",
   "execution_count": 18,
   "metadata": {},
   "outputs": [
    {
     "data": {
      "text/plain": [
       "<Axes: ylabel='yearOfRegistration'>"
      ]
     },
     "execution_count": 18,
     "metadata": {},
     "output_type": "execute_result"
    },
    {
     "data": {
      "image/png": "[encoded data removed]",
      "text/plain": [
       "<Figure size 640x480 with 1 Axes>"
      ]
     },
     "metadata": {},
     "output_type": "display_data"
    }
   ],
   "source": [
    "sns.boxplot(data['yearOfRegistration'])"
   ]
  },
  {
   "cell_type": "code",
   "execution_count": 19,
   "metadata": {},
   "outputs": [
    {
     "data": {
      "text/html": [
       "<div>\n",
       "<style scoped>\n",
       "    .dataframe tbody tr th:only-of-type {\n",
       "        vertical-align: middle;\n",
       "    }\n",
       "\n",
       "    .dataframe tbody tr th {\n",
       "        vertical-align: top;\n",
       "    }\n",
       "\n",
       "    .dataframe thead th {\n",
       "        text-align: right;\n",
       "    }\n",
       "</style>\n",
       "<table border=\"1\" class=\"dataframe\">\n",
       "  <thead>\n",
       "    <tr style=\"text-align: right;\">\n",
       "      <th></th>\n",
       "      <th>count</th>\n",
       "      <th>mean</th>\n",
       "      <th>std</th>\n",
       "      <th>min</th>\n",
       "      <th>25%</th>\n",
       "      <th>50%</th>\n",
       "      <th>75%</th>\n",
       "      <th>max</th>\n",
       "    </tr>\n",
       "  </thead>\n",
       "  <tbody>\n",
       "    <tr>\n",
       "      <th>yearOfRegistration</th>\n",
       "      <td>360734.0</td>\n",
       "      <td>2003.305136</td>\n",
       "      <td>7.942216</td>\n",
       "      <td>1900.0</td>\n",
       "      <td>1999.0</td>\n",
       "      <td>2003.0</td>\n",
       "      <td>2008.0</td>\n",
       "      <td>2023.0</td>\n",
       "    </tr>\n",
       "    <tr>\n",
       "      <th>kilometer</th>\n",
       "      <td>360734.0</td>\n",
       "      <td>125609.285512</td>\n",
       "      <td>40138.116479</td>\n",
       "      <td>5000.0</td>\n",
       "      <td>125000.0</td>\n",
       "      <td>150000.0</td>\n",
       "      <td>150000.0</td>\n",
       "      <td>150000.0</td>\n",
       "    </tr>\n",
       "    <tr>\n",
       "      <th>price(inr)</th>\n",
       "      <td>360734.0</td>\n",
       "      <td>495665.829947</td>\n",
       "      <td>610039.518383</td>\n",
       "      <td>0.0</td>\n",
       "      <td>99990.0</td>\n",
       "      <td>265500.0</td>\n",
       "      <td>647910.0</td>\n",
       "      <td>3258000.0</td>\n",
       "    </tr>\n",
       "  </tbody>\n",
       "</table>\n",
       "</div>"
      ],
      "text/plain": [
       "                       count           mean            std     min       25%  \\\n",
       "yearOfRegistration  360734.0    2003.305136       7.942216  1900.0    1999.0   \n",
       "kilometer           360734.0  125609.285512   40138.116479  5000.0  125000.0   \n",
       "price(inr)          360734.0  495665.829947  610039.518383     0.0   99990.0   \n",
       "\n",
       "                         50%       75%        max  \n",
       "yearOfRegistration    2003.0    2008.0     2023.0  \n",
       "kilometer           150000.0  150000.0   150000.0  \n",
       "price(inr)          265500.0  647910.0  3258000.0  "
      ]
     },
     "execution_count": 19,
     "metadata": {},
     "output_type": "execute_result"
    }
   ],
   "source": [
    "data.describe().T"
   ]
  },
  {
   "cell_type": "code",
   "execution_count": 20,
   "metadata": {},
   "outputs": [],
   "source": [
    "data.drop('abtest', axis=1, inplace=True)"
   ]
  },
  {
   "cell_type": "code",
   "execution_count": 21,
   "metadata": {},
   "outputs": [],
   "source": [
    "data['notRepairedDamage'] = data['notRepairedDamage'].replace({True:1, False:0})"
   ]
  },
  {
   "cell_type": "code",
   "execution_count": 22,
   "metadata": {},
   "outputs": [],
   "source": [
    "data.to_csv('/home/anuraaga/Documents/Projects/pricePredictor/dataset/dataset_car/german_car.csv')"
   ]
  },
  {
   "cell_type": "code",
   "execution_count": 24,
   "metadata": {},
   "outputs": [],
   "source": [
    "import pickle\n",
    "pickle.dump(data, open('/home/anuraaga/Documents/Projects/pricePredictor/docker/german_car.pkl', 'wb'))"
   ]
  },
  {
   "cell_type": "code",
   "execution_count": 21,
   "metadata": {},
   "outputs": [],
   "source": [
    "X = data.drop('price(inr)', axis=1)\n",
    "y = data['price(inr)']\n",
    "X_train, X_test, y_train, y_test = train_test_split(X, y, test_size=0.2, random_state=0)"
   ]
  },
  {
   "cell_type": "code",
   "execution_count": 22,
   "metadata": {},
   "outputs": [
    {
     "data": {
      "text/plain": [
       "name                  object\n",
       "vehicleType           object\n",
       "yearOfRegistration     int64\n",
       "gearbox               object\n",
       "kilometer              int64\n",
       "fuelType              object\n",
       "brand                 object\n",
       "notRepairedDamage      int64\n",
       "price(inr)             int64\n",
       "dtype: object"
      ]
     },
     "execution_count": 22,
     "metadata": {},
     "output_type": "execute_result"
    }
   ],
   "source": [
    "data.dtypes"
   ]
  },
  {
   "cell_type": "code",
   "execution_count": 23,
   "metadata": {},
   "outputs": [
    {
     "data": {
      "text/html": [
       "<style>#sk-container-id-1 {color: black;}#sk-container-id-1 pre{padding: 0;}#sk-container-id-1 div.sk-toggleable {background-color: white;}#sk-container-id-1 label.sk-toggleable__label {cursor: pointer;display: block;width: 100%;margin-bottom: 0;padding: 0.3em;box-sizing: border-box;text-align: center;}#sk-container-id-1 label.sk-toggleable__label-arrow:before {content: \"▸\";float: left;margin-right: 0.25em;color: #696969;}#sk-container-id-1 label.sk-toggleable__label-arrow:hover:before {color: black;}#sk-container-id-1 div.sk-estimator:hover label.sk-toggleable__label-arrow:before {color: black;}#sk-container-id-1 div.sk-toggleable__content {max-height: 0;max-width: 0;overflow: hidden;text-align: left;background-color: #f0f8ff;}#sk-container-id-1 div.sk-toggleable__content pre {margin: 0.2em;color: black;border-radius: 0.25em;background-color: #f0f8ff;}#sk-container-id-1 input.sk-toggleable__control:checked~div.sk-toggleable__content {max-height: 200px;max-width: 100%;overflow: auto;}#sk-container-id-1 input.sk-toggleable__control:checked~label.sk-toggleable__label-arrow:before {content: \"▾\";}#sk-container-id-1 div.sk-estimator input.sk-toggleable__control:checked~label.sk-toggleable__label {background-color: #d4ebff;}#sk-container-id-1 div.sk-label input.sk-toggleable__control:checked~label.sk-toggleable__label {background-color: #d4ebff;}#sk-container-id-1 input.sk-hidden--visually {border: 0;clip: rect(1px 1px 1px 1px);clip: rect(1px, 1px, 1px, 1px);height: 1px;margin: -1px;overflow: hidden;padding: 0;position: absolute;width: 1px;}#sk-container-id-1 div.sk-estimator {font-family: monospace;background-color: #f0f8ff;border: 1px dotted black;border-radius: 0.25em;box-sizing: border-box;margin-bottom: 0.5em;}#sk-container-id-1 div.sk-estimator:hover {background-color: #d4ebff;}#sk-container-id-1 div.sk-parallel-item::after {content: \"\";width: 100%;border-bottom: 1px solid gray;flex-grow: 1;}#sk-container-id-1 div.sk-label:hover label.sk-toggleable__label {background-color: #d4ebff;}#sk-container-id-1 div.sk-serial::before {content: \"\";position: absolute;border-left: 1px solid gray;box-sizing: border-box;top: 0;bottom: 0;left: 50%;z-index: 0;}#sk-container-id-1 div.sk-serial {display: flex;flex-direction: column;align-items: center;background-color: white;padding-right: 0.2em;padding-left: 0.2em;position: relative;}#sk-container-id-1 div.sk-item {position: relative;z-index: 1;}#sk-container-id-1 div.sk-parallel {display: flex;align-items: stretch;justify-content: center;background-color: white;position: relative;}#sk-container-id-1 div.sk-item::before, #sk-container-id-1 div.sk-parallel-item::before {content: \"\";position: absolute;border-left: 1px solid gray;box-sizing: border-box;top: 0;bottom: 0;left: 50%;z-index: -1;}#sk-container-id-1 div.sk-parallel-item {display: flex;flex-direction: column;z-index: 1;position: relative;background-color: white;}#sk-container-id-1 div.sk-parallel-item:first-child::after {align-self: flex-end;width: 50%;}#sk-container-id-1 div.sk-parallel-item:last-child::after {align-self: flex-start;width: 50%;}#sk-container-id-1 div.sk-parallel-item:only-child::after {width: 0;}#sk-container-id-1 div.sk-dashed-wrapped {border: 1px dashed gray;margin: 0 0.4em 0.5em 0.4em;box-sizing: border-box;padding-bottom: 0.4em;background-color: white;}#sk-container-id-1 div.sk-label label {font-family: monospace;font-weight: bold;display: inline-block;line-height: 1.2em;}#sk-container-id-1 div.sk-label-container {text-align: center;}#sk-container-id-1 div.sk-container {/* jupyter's `normalize.less` sets `[hidden] { display: none; }` but bootstrap.min.css set `[hidden] { display: none !important; }` so we also need the `!important` here to be able to override the default hidden behavior on the sphinx rendered scikit-learn.org. See: https://github.com/scikit-learn/scikit-learn/issues/21755 */display: inline-block !important;position: relative;}#sk-container-id-1 div.sk-text-repr-fallback {display: none;}</style><div id=\"sk-container-id-1\" class=\"sk-top-container\"><div class=\"sk-text-repr-fallback\"><pre>OneHotEncoder(drop=&#x27;first&#x27;, dtype=&lt;class &#x27;numpy.int32&#x27;&gt;, sparse_output=False)</pre><b>In a Jupyter environment, please rerun this cell to show the HTML representation or trust the notebook. <br />On GitHub, the HTML representation is unable to render, please try loading this page with nbviewer.org.</b></div><div class=\"sk-container\" hidden><div class=\"sk-item\"><div class=\"sk-estimator sk-toggleable\"><input class=\"sk-toggleable__control sk-hidden--visually\" id=\"sk-estimator-id-1\" type=\"checkbox\" checked><label for=\"sk-estimator-id-1\" class=\"sk-toggleable__label sk-toggleable__label-arrow\">OneHotEncoder</label><div class=\"sk-toggleable__content\"><pre>OneHotEncoder(drop=&#x27;first&#x27;, dtype=&lt;class &#x27;numpy.int32&#x27;&gt;, sparse_output=False)</pre></div></div></div></div></div>"
      ],
      "text/plain": [
       "OneHotEncoder(drop='first', dtype=<class 'numpy.int32'>, sparse_output=False)"
      ]
     },
     "execution_count": 23,
     "metadata": {},
     "output_type": "execute_result"
    }
   ],
   "source": [
    "ohe = OneHotEncoder(drop='first', sparse_output=False, dtype=np.int32)\n",
    "ohe.fit(X[['name', 'vehicleType', 'gearbox', 'fuelType', 'brand']])"
   ]
  },
  {
   "cell_type": "code",
   "execution_count": 24,
   "metadata": {},
   "outputs": [],
   "source": [
    "column_transformer = make_column_transformer(\n",
    "    (OneHotEncoder(categories=ohe.categories_), \n",
    "     ['name', 'vehicleType', 'gearbox', 'fuelType', 'brand']), remainder='passthrough')"
   ]
  },
  {
   "cell_type": "code",
   "execution_count": 25,
   "metadata": {},
   "outputs": [],
   "source": [
    "# xg = XGBRegressor(booster= 'dart',\n",
    "#                   learning_rate= 0.2,\n",
    "#                   max_depth= 5,\n",
    "#                   verbosity=0,\n",
    "#                   tree_method='gpu_hist', \n",
    "#                   predictor='gpu_predictor', \n",
    "#                   device='cuda')\n",
    "# pipe = make_pipeline(column_transformer, xg)\n",
    "# pipe.fit(X_train, y_train)"
   ]
  },
  {
   "cell_type": "code",
   "execution_count": 26,
   "metadata": {},
   "outputs": [
    {
     "name": "stderr",
     "output_type": "stream",
     "text": [
      "/home/anuraaga/Documents/Projects/pricePredictor/lib/python3.11/site-packages/sklearn/base.py:348: InconsistentVersionWarning: Trying to unpickle estimator OneHotEncoder from version 1.2.2 when using version 1.3.2. This might lead to breaking code or invalid results. Use at your own risk. For more info please refer to:\n",
      "https://scikit-learn.org/stable/model_persistence.html#security-maintainability-limitations\n",
      "  warnings.warn(\n",
      "/home/anuraaga/Documents/Projects/pricePredictor/lib/python3.11/site-packages/sklearn/base.py:348: InconsistentVersionWarning: Trying to unpickle estimator FunctionTransformer from version 1.2.2 when using version 1.3.2. This might lead to breaking code or invalid results. Use at your own risk. For more info please refer to:\n",
      "https://scikit-learn.org/stable/model_persistence.html#security-maintainability-limitations\n",
      "  warnings.warn(\n",
      "/home/anuraaga/Documents/Projects/pricePredictor/lib/python3.11/site-packages/sklearn/base.py:348: InconsistentVersionWarning: Trying to unpickle estimator ColumnTransformer from version 1.2.2 when using version 1.3.2. This might lead to breaking code or invalid results. Use at your own risk. For more info please refer to:\n",
      "https://scikit-learn.org/stable/model_persistence.html#security-maintainability-limitations\n",
      "  warnings.warn(\n",
      "/home/anuraaga/Documents/Projects/pricePredictor/lib/python3.11/site-packages/xgboost/core.py:160: UserWarning: [12:51:06] WARNING: /workspace/src/gbm/gbtree.cc:360: \n",
      "  Loading from a raw memory buffer (like pickle in Python, RDS in R) on a CPU-only\n",
      "  machine. Consider using `save_model/load_model` instead. See:\n",
      "\n",
      "    https://xgboost.readthedocs.io/en/latest/tutorials/saving_model.html\n",
      "\n",
      "  for more details about differences between saving model and serializing.  Changing `tree_method` to `hist`.\n",
      "  warnings.warn(smsg, UserWarning)\n",
      "/home/anuraaga/Documents/Projects/pricePredictor/lib/python3.11/site-packages/xgboost/core.py:160: UserWarning: [12:51:06] WARNING: /workspace/src/gbm/gbtree.cc:385: Changing updater from `grow_gpu_hist` to `grow_quantile_histmaker`.\n",
      "  warnings.warn(smsg, UserWarning)\n",
      "/home/anuraaga/Documents/Projects/pricePredictor/lib/python3.11/site-packages/xgboost/core.py:160: UserWarning: [12:51:06] WARNING: /workspace/src/context.cc:44: No visible GPU is found, setting device to CPU.\n",
      "  warnings.warn(smsg, UserWarning)\n",
      "/home/anuraaga/Documents/Projects/pricePredictor/lib/python3.11/site-packages/sklearn/base.py:348: InconsistentVersionWarning: Trying to unpickle estimator Pipeline from version 1.2.2 when using version 1.3.2. This might lead to breaking code or invalid results. Use at your own risk. For more info please refer to:\n",
      "https://scikit-learn.org/stable/model_persistence.html#security-maintainability-limitations\n",
      "  warnings.warn(\n"
     ]
    }
   ],
   "source": [
    "pipe = sio.load('models/carmodel.skops', trusted=True)\n",
    "# print(pipe.score(X_train, y_train), pipe.score(X_test, y_test))"
   ]
  },
  {
   "cell_type": "code",
   "execution_count": 27,
   "metadata": {},
   "outputs": [
    {
     "data": {
      "text/plain": [
       "Index(['name', 'vehicleType', 'yearOfRegistration', 'gearbox', 'kilometer',\n",
       "       'fuelType', 'brand', 'notRepairedDamage'],\n",
       "      dtype='object')"
      ]
     },
     "execution_count": 27,
     "metadata": {},
     "output_type": "execute_result"
    }
   ],
   "source": [
    "X_train.columns"
   ]
  },
  {
   "cell_type": "code",
   "execution_count": 28,
   "metadata": {},
   "outputs": [
    {
     "data": {
      "text/html": [
       "<div>\n",
       "<style scoped>\n",
       "    .dataframe tbody tr th:only-of-type {\n",
       "        vertical-align: middle;\n",
       "    }\n",
       "\n",
       "    .dataframe tbody tr th {\n",
       "        vertical-align: top;\n",
       "    }\n",
       "\n",
       "    .dataframe thead th {\n",
       "        text-align: right;\n",
       "    }\n",
       "</style>\n",
       "<table border=\"1\" class=\"dataframe\">\n",
       "  <thead>\n",
       "    <tr style=\"text-align: right;\">\n",
       "      <th></th>\n",
       "      <th>name</th>\n",
       "      <th>vehicleType</th>\n",
       "      <th>yearOfRegistration</th>\n",
       "      <th>gearbox</th>\n",
       "      <th>kilometer</th>\n",
       "      <th>fuelType</th>\n",
       "      <th>brand</th>\n",
       "      <th>notRepairedDamage</th>\n",
       "    </tr>\n",
       "  </thead>\n",
       "  <tbody>\n",
       "    <tr>\n",
       "      <th>311325</th>\n",
       "      <td>Mercedesbenz Mercedes Benz</td>\n",
       "      <td>Others</td>\n",
       "      <td>2017</td>\n",
       "      <td>Automatic</td>\n",
       "      <td>125000</td>\n",
       "      <td>Others</td>\n",
       "      <td>Mercedesbenz</td>\n",
       "      <td>0</td>\n",
       "    </tr>\n",
       "    <tr>\n",
       "      <th>109283</th>\n",
       "      <td>Golf Champ unfallfrei</td>\n",
       "      <td>Limousine</td>\n",
       "      <td>2002</td>\n",
       "      <td>Manual</td>\n",
       "      <td>150000</td>\n",
       "      <td>Diesel</td>\n",
       "      <td>Volkswagen</td>\n",
       "      <td>0</td>\n",
       "    </tr>\n",
       "    <tr>\n",
       "      <th>129930</th>\n",
       "      <td>Audi A3 Ambient</td>\n",
       "      <td>Compact</td>\n",
       "      <td>1997</td>\n",
       "      <td>Manual</td>\n",
       "      <td>150000</td>\n",
       "      <td>Petrol</td>\n",
       "      <td>Audi</td>\n",
       "      <td>0</td>\n",
       "    </tr>\n",
       "    <tr>\n",
       "      <th>99887</th>\n",
       "      <td>Audi A1 16</td>\n",
       "      <td>Compact</td>\n",
       "      <td>2011</td>\n",
       "      <td>Manual</td>\n",
       "      <td>150000</td>\n",
       "      <td>Diesel</td>\n",
       "      <td>Audi</td>\n",
       "      <td>0</td>\n",
       "    </tr>\n",
       "    <tr>\n",
       "      <th>326218</th>\n",
       "      <td>Alfa Spider 115</td>\n",
       "      <td>Cabrio</td>\n",
       "      <td>1989</td>\n",
       "      <td>Manual</td>\n",
       "      <td>125000</td>\n",
       "      <td>Petrol</td>\n",
       "      <td>Alfaromeo</td>\n",
       "      <td>0</td>\n",
       "    </tr>\n",
       "  </tbody>\n",
       "</table>\n",
       "</div>"
      ],
      "text/plain": [
       "                              name vehicleType  yearOfRegistration    gearbox  \\\n",
       "311325  Mercedesbenz Mercedes Benz      Others                2017  Automatic   \n",
       "109283       Golf Champ unfallfrei   Limousine                2002     Manual   \n",
       "129930             Audi A3 Ambient     Compact                1997     Manual   \n",
       "99887                   Audi A1 16     Compact                2011     Manual   \n",
       "326218             Alfa Spider 115      Cabrio                1989     Manual   \n",
       "\n",
       "        kilometer fuelType         brand  notRepairedDamage  \n",
       "311325     125000   Others  Mercedesbenz                  0  \n",
       "109283     150000   Diesel    Volkswagen                  0  \n",
       "129930     150000   Petrol          Audi                  0  \n",
       "99887      150000   Diesel          Audi                  0  \n",
       "326218     125000   Petrol     Alfaromeo                  0  "
      ]
     },
     "execution_count": 28,
     "metadata": {},
     "output_type": "execute_result"
    }
   ],
   "source": [
    "X_test.head()"
   ]
  },
  {
   "cell_type": "code",
   "execution_count": 29,
   "metadata": {},
   "outputs": [
    {
     "data": {
      "text/plain": [
       "array([63226.594], dtype=float32)"
      ]
     },
     "execution_count": 29,
     "metadata": {},
     "output_type": "execute_result"
    }
   ],
   "source": [
    "pipe.predict(pd.DataFrame([['Alfa Spider 115', 'Compact', 1999, 'Manual', 150000, 'Petrol', 'Alfaromeo', False]], columns=X_test.columns))"
   ]
  },
  {
   "cell_type": "code",
   "execution_count": 30,
   "metadata": {},
   "outputs": [
    {
     "data": {
      "text/plain": [
       "(0.8100195495004294, 0.8039089277187783)"
      ]
     },
     "execution_count": 30,
     "metadata": {},
     "output_type": "execute_result"
    }
   ],
   "source": [
    "pipe.score(X_train, y_train), pipe.score(X_test, y_test)"
   ]
  },
  {
   "cell_type": "code",
   "execution_count": 25,
   "metadata": {},
   "outputs": [
    {
     "data": {
      "text/html": [
       "<div>\n",
       "<style scoped>\n",
       "    .dataframe tbody tr th:only-of-type {\n",
       "        vertical-align: middle;\n",
       "    }\n",
       "\n",
       "    .dataframe tbody tr th {\n",
       "        vertical-align: top;\n",
       "    }\n",
       "\n",
       "    .dataframe thead th {\n",
       "        text-align: right;\n",
       "    }\n",
       "</style>\n",
       "<table border=\"1\" class=\"dataframe\">\n",
       "  <thead>\n",
       "    <tr style=\"text-align: right;\">\n",
       "      <th></th>\n",
       "      <th>name</th>\n",
       "      <th>vehicleType</th>\n",
       "      <th>yearOfRegistration</th>\n",
       "      <th>gearbox</th>\n",
       "      <th>kilometer</th>\n",
       "      <th>fuelType</th>\n",
       "      <th>brand</th>\n",
       "      <th>notRepairedDamage</th>\n",
       "      <th>price(inr)</th>\n",
       "    </tr>\n",
       "  </thead>\n",
       "  <tbody>\n",
       "    <tr>\n",
       "      <th>0</th>\n",
       "      <td>Golf 3 16</td>\n",
       "      <td>Others</td>\n",
       "      <td>1993</td>\n",
       "      <td>Manual</td>\n",
       "      <td>150000</td>\n",
       "      <td>Petrol</td>\n",
       "      <td>Volkswagen</td>\n",
       "      <td>0</td>\n",
       "      <td>43200</td>\n",
       "    </tr>\n",
       "    <tr>\n",
       "      <th>1</th>\n",
       "      <td>Audi A5 Sportback</td>\n",
       "      <td>Coupe</td>\n",
       "      <td>2011</td>\n",
       "      <td>Manual</td>\n",
       "      <td>125000</td>\n",
       "      <td>Diesel</td>\n",
       "      <td>Audi</td>\n",
       "      <td>1</td>\n",
       "      <td>1647000</td>\n",
       "    </tr>\n",
       "    <tr>\n",
       "      <th>2</th>\n",
       "      <td>Jeep Grand Cherokee</td>\n",
       "      <td>Suv</td>\n",
       "      <td>2004</td>\n",
       "      <td>Automatic</td>\n",
       "      <td>125000</td>\n",
       "      <td>Diesel</td>\n",
       "      <td>Jeep</td>\n",
       "      <td>0</td>\n",
       "      <td>882000</td>\n",
       "    </tr>\n",
       "    <tr>\n",
       "      <th>3</th>\n",
       "      <td>GOLF 4 1</td>\n",
       "      <td>Compact</td>\n",
       "      <td>2001</td>\n",
       "      <td>Manual</td>\n",
       "      <td>150000</td>\n",
       "      <td>Petrol</td>\n",
       "      <td>Volkswagen</td>\n",
       "      <td>0</td>\n",
       "      <td>135000</td>\n",
       "    </tr>\n",
       "    <tr>\n",
       "      <th>4</th>\n",
       "      <td>Skoda Fabia 14</td>\n",
       "      <td>Compact</td>\n",
       "      <td>2008</td>\n",
       "      <td>Manual</td>\n",
       "      <td>90000</td>\n",
       "      <td>Diesel</td>\n",
       "      <td>Skoda</td>\n",
       "      <td>0</td>\n",
       "      <td>324000</td>\n",
       "    </tr>\n",
       "  </tbody>\n",
       "</table>\n",
       "</div>"
      ],
      "text/plain": [
       "                  name vehicleType  yearOfRegistration    gearbox  kilometer  \\\n",
       "0            Golf 3 16      Others                1993     Manual     150000   \n",
       "1    Audi A5 Sportback       Coupe                2011     Manual     125000   \n",
       "2  Jeep Grand Cherokee         Suv                2004  Automatic     125000   \n",
       "3             GOLF 4 1     Compact                2001     Manual     150000   \n",
       "4       Skoda Fabia 14     Compact                2008     Manual      90000   \n",
       "\n",
       "  fuelType       brand  notRepairedDamage  price(inr)  \n",
       "0   Petrol  Volkswagen                  0       43200  \n",
       "1   Diesel        Audi                  1     1647000  \n",
       "2   Diesel        Jeep                  0      882000  \n",
       "3   Petrol  Volkswagen                  0      135000  \n",
       "4   Diesel       Skoda                  0      324000  "
      ]
     },
     "execution_count": 25,
     "metadata": {},
     "output_type": "execute_result"
    }
   ],
   "source": [
    "import pandas as pd\n",
    "df = pd.read_pickle('/home/anuraaga/Documents/Projects/pricePredictor/docker/german_car.pkl')\n",
    "df.head()"
   ]
  },
  {
   "cell_type": "code",
   "execution_count": 26,
   "metadata": {},
   "outputs": [
    {
     "data": {
      "text/plain": [
       "name                  0\n",
       "vehicleType           0\n",
       "yearOfRegistration    0\n",
       "gearbox               0\n",
       "kilometer             0\n",
       "fuelType              0\n",
       "brand                 0\n",
       "notRepairedDamage     0\n",
       "price(inr)            0\n",
       "dtype: int64"
      ]
     },
     "execution_count": 26,
     "metadata": {},
     "output_type": "execute_result"
    }
   ],
   "source": [
    "df.isna().sum()"
   ]
  },
  {
   "cell_type": "code",
   "execution_count": 27,
   "metadata": {},
   "outputs": [
    {
     "data": {
      "text/plain": [
       "array(['Volkswagen', 'Audi', 'Jeep', 'Skoda', 'Bmw', 'Peugeot', 'Ford',\n",
       "       'Mazda', 'Nissan', 'Renault', 'Mercedesbenz', 'Opel', 'Seat',\n",
       "       'Citroen', 'Honda', 'Fiat', 'Mini', 'Smart', 'Hyundai',\n",
       "       'Sonstigeautos', 'Alfaromeo', 'Subaru', 'Volvo', 'Mitsubishi',\n",
       "       'Kia', 'Suzuki', 'Lancia', 'Porsche', 'Toyota', 'Chevrolet',\n",
       "       'Dacia', 'Daihatsu', 'Trabant', 'Saab', 'Chrysler', 'Jaguar',\n",
       "       'Daewoo', 'Rover', 'Landrover', 'Lada'], dtype=object)"
      ]
     },
     "execution_count": 27,
     "metadata": {},
     "output_type": "execute_result"
    }
   ],
   "source": [
    "df['brand'].unique()"
   ]
  },
  {
   "cell_type": "code",
   "execution_count": 28,
   "metadata": {},
   "outputs": [
    {
     "data": {
      "text/plain": [
       "array(['BMW 316i e36', 'BMW 530i TV', 'BMW 530d touring', ...,\n",
       "       'BMW E9 Coupe', 'BMW 320Diesel Automatik',\n",
       "       'BMW M135i vollausgestattet'], dtype=object)"
      ]
     },
     "execution_count": 28,
     "metadata": {},
     "output_type": "execute_result"
    }
   ],
   "source": [
    "df[df['brand']==str('Bmw')]['name'].unique()"
   ]
  },
  {
   "cell_type": "code",
   "execution_count": 29,
   "metadata": {},
   "outputs": [
    {
     "data": {
      "text/plain": [
       "Index(['name', 'vehicleType', 'yearOfRegistration', 'gearbox', 'kilometer',\n",
       "       'fuelType', 'brand', 'notRepairedDamage', 'price(inr)'],\n",
       "      dtype='object')"
      ]
     },
     "execution_count": 29,
     "metadata": {},
     "output_type": "execute_result"
    }
   ],
   "source": [
    "df.columns"
   ]
  }
 ],
 "metadata": {
  "kernelspec": {
   "display_name": "pricePredictor",
   "language": "python",
   "name": "python3"
  },
  "language_info": {
   "codemirror_mode": {
    "name": "ipython",
    "version": 3
   },
   "file_extension": ".py",
   "mimetype": "text/x-python",
   "name": "python",
   "nbconvert_exporter": "python",
   "pygments_lexer": "ipython3",
   "version": "3.11.6"
  }
 },
 "nbformat": 4,
 "nbformat_minor": 2
}
