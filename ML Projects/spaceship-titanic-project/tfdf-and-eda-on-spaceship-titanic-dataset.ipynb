{
 "cells": [
  {
   "cell_type": "markdown",
   "id": "ff302753",
   "metadata": {
    "papermill": {
     "duration": 0.048778,
     "end_time": "2022-05-22T09:00:51.523305",
     "exception": false,
     "start_time": "2022-05-22T09:00:51.474527",
     "status": "completed"
    },
    "tags": []
   },
   "source": [
    "# TensorFlow Decision Forests - TFDF and Exploratory Data Analysis - EDA on Spaceship Titanic Dataset"
   ]
  },
  {
   "cell_type": "markdown",
   "id": "c9f9fca0",
   "metadata": {
    "papermill": {
     "duration": 0.044224,
     "end_time": "2022-05-22T09:00:51.612472",
     "exception": false,
     "start_time": "2022-05-22T09:00:51.568248",
     "status": "completed"
    },
    "tags": []
   },
   "source": [
    "In this notebook, main aim is to create tree based model for predicting whether the passengers will get **transported** to the alternate dimension using new ML library open sourced by Google - *TensorFlow Decision Forests*. It was released just an year ago. "
   ]
  },
  {
   "cell_type": "markdown",
   "id": "ca8e3dae",
   "metadata": {
    "papermill": {
     "duration": 0.055484,
     "end_time": "2022-05-22T09:00:51.712308",
     "exception": false,
     "start_time": "2022-05-22T09:00:51.656824",
     "status": "completed"
    },
    "tags": []
   },
   "source": [
    "As the name suggests, this library is built on traditional machine learning algorithm - **Decision Trees** as its building block. Popular decision tree models that has been widely used for winning Kaggle competitions are based on ensembling techniques - **Random Forests** which is bagging model and **Gradient Boosted Decision Trees** which is boosting model. Both of these models are available on in this library."
   ]
  },
  {
   "cell_type": "markdown",
   "id": "bac85e58",
   "metadata": {
    "papermill": {
     "duration": 0.043776,
     "end_time": "2022-05-22T09:00:51.804232",
     "exception": false,
     "start_time": "2022-05-22T09:00:51.760456",
     "status": "completed"
    },
    "tags": []
   },
   "source": [
    "![GradientBoosting](https://miro.medium.com/max/1400/1*Rn-u1k5_8O4Vk7HQrPiX6w.png)"
   ]
  },
  {
   "cell_type": "markdown",
   "id": "0da66067",
   "metadata": {
    "papermill": {
     "duration": 0.0452,
     "end_time": "2022-05-22T09:00:51.893614",
     "exception": false,
     "start_time": "2022-05-22T09:00:51.848414",
     "status": "completed"
    },
    "tags": []
   },
   "source": [
    "Advantages as follows:\n",
    "- For tabular data, Decision Forests outforms Deep Learning methods.\n",
    "- Preprocessing steps - one-hot encoding, normalization and handling of missing values is not required for basic ml models as it is natively supported by this library. This will save considerable amount of time.\n",
    "- It is very easy to use just like scikit-learn model. Therefore, beginners will be able to start developing their models in no time and also be able to easily explain the decision forest models.\n",
    "- It differs from sklearn library in is that these models are more optimized internally. Therefore, we wont have to do extensive hyperparameter tuning.\n",
    "- For advanced users, the library provides easy interfacing for combining Neural Network models and Decision Trees."
   ]
  },
  {
   "cell_type": "markdown",
   "id": "cdae589b",
   "metadata": {
    "papermill": {
     "duration": 0.047592,
     "end_time": "2022-05-22T09:00:51.985443",
     "exception": false,
     "start_time": "2022-05-22T09:00:51.937851",
     "status": "completed"
    },
    "tags": []
   },
   "source": [
    "## 0. Getting tools ready"
   ]
  },
  {
   "cell_type": "code",
   "execution_count": 1,
   "id": "69e79ebd",
   "metadata": {
    "execution": {
     "iopub.execute_input": "2022-05-22T09:00:52.080792Z",
     "iopub.status.busy": "2022-05-22T09:00:52.080011Z",
     "iopub.status.idle": "2022-05-22T09:02:20.804222Z",
     "shell.execute_reply": "2022-05-22T09:02:20.802992Z"
    },
    "papermill": {
     "duration": 88.775528,
     "end_time": "2022-05-22T09:02:20.807201",
     "exception": false,
     "start_time": "2022-05-22T09:00:52.031673",
     "status": "completed"
    },
    "tags": []
   },
   "outputs": [
    {
     "name": "stdout",
     "output_type": "stream",
     "text": [
      "\u001b[31mERROR: pip's dependency resolver does not currently take into account all the packages that are installed. This behaviour is the source of the following dependency conflicts.\r\n",
      "tfx-bsl 1.7.0 requires pyarrow<6,>=1, but you have pyarrow 7.0.0 which is incompatible.\r\n",
      "tensorflow-transform 1.7.0 requires pyarrow<6,>=1, but you have pyarrow 7.0.0 which is incompatible.\r\n",
      "tensorflow-transform 1.7.0 requires tensorflow!=2.0.*,!=2.1.*,!=2.2.*,!=2.3.*,!=2.4.*,!=2.5.*,!=2.6.*,!=2.7.*,<2.9,>=1.15.5, but you have tensorflow 2.9.0 which is incompatible.\r\n",
      "tensorflow-io 0.21.0 requires tensorflow<2.7.0,>=2.6.0, but you have tensorflow 2.9.0 which is incompatible.\r\n",
      "tensorflow-io 0.21.0 requires tensorflow-io-gcs-filesystem==0.21.0, but you have tensorflow-io-gcs-filesystem 0.26.0 which is incompatible.\u001b[0m\u001b[31m\r\n",
      "\u001b[0m\u001b[33mWARNING: Running pip as the 'root' user can result in broken permissions and conflicting behaviour with the system package manager. It is recommended to use a virtual environment instead: https://pip.pypa.io/warnings/venv\u001b[0m\u001b[33m\r\n",
      "\u001b[0m\u001b[33mWARNING: Running pip as the 'root' user can result in broken permissions and conflicting behaviour with the system package manager. It is recommended to use a virtual environment instead: https://pip.pypa.io/warnings/venv\u001b[0m\u001b[33m\r\n",
      "\u001b[0m"
     ]
    }
   ],
   "source": [
    "!pip3 install -q tensorflow_decision_forests\n",
    "!pip3 install -q klib"
   ]
  },
  {
   "cell_type": "code",
   "execution_count": 2,
   "id": "63cb307c",
   "metadata": {
    "_cell_guid": "b1076dfc-b9ad-4769-8c92-a6c4dae69d19",
    "_uuid": "8f2839f25d086af736a60e9eeb907d3b93b6e0e5",
    "execution": {
     "iopub.execute_input": "2022-05-22T09:02:20.901610Z",
     "iopub.status.busy": "2022-05-22T09:02:20.901344Z",
     "iopub.status.idle": "2022-05-22T09:02:25.776940Z",
     "shell.execute_reply": "2022-05-22T09:02:25.775786Z"
    },
    "papermill": {
     "duration": 4.925779,
     "end_time": "2022-05-22T09:02:25.779535",
     "exception": false,
     "start_time": "2022-05-22T09:02:20.853756",
     "status": "completed"
    },
    "tags": []
   },
   "outputs": [
    {
     "name": "stderr",
     "output_type": "stream",
     "text": [
      "2022-05-22 09:02:22.165304: W tensorflow/stream_executor/platform/default/dso_loader.cc:64] Could not load dynamic library 'libcudart.so.11.0'; dlerror: libcudart.so.11.0: cannot open shared object file: No such file or directory; LD_LIBRARY_PATH: /usr/local/cuda/lib64:/usr/local/cuda/lib:/usr/local/lib/x86_64-linux-gnu:/usr/local/nvidia/lib:/usr/local/nvidia/lib64:\n",
      "2022-05-22 09:02:22.165366: I tensorflow/stream_executor/cuda/cudart_stub.cc:29] Ignore above cudart dlerror if you do not have a GPU set up on your machine.\n"
     ]
    },
    {
     "name": "stdout",
     "output_type": "stream",
     "text": [
      "/kaggle/input/spaceship-titanic/sample_submission.csv\n",
      "/kaggle/input/spaceship-titanic/train.csv\n",
      "/kaggle/input/spaceship-titanic/test.csv\n"
     ]
    }
   ],
   "source": [
    "# Data Handling and Manipulation\n",
    "import numpy as np # linear algebra\n",
    "import pandas as pd # data processing, CSV file I/O (e.g. pd.read_csv)\n",
    "\n",
    "# Data Visualization\n",
    "import matplotlib.pyplot as plt\n",
    "import seaborn as sns\n",
    "sns.set()\n",
    "import klib\n",
    "\n",
    "# Machine Library\n",
    "import tensorflow_decision_forests as tfdf #\n",
    "\n",
    "# To split the data into train and validation sets\n",
    "from sklearn.model_selection import train_test_split\n",
    "\n",
    "# Input data files are available in the read-only \"../input/\" directory\n",
    "# For example, running this (by clicking run or pressing Shift+Enter) will list all files under the input directory\n",
    "\n",
    "import os\n",
    "for dirname, _, filenames in os.walk('/kaggle/input'):\n",
    "    for filename in filenames:\n",
    "        print(os.path.join(dirname, filename))\n",
    "\n",
    "# You can write up to 20GB to the current directory (/kaggle/working/) that gets preserved as output when you create a version using \"Save & Run All\" \n",
    "# You can also write temporary files to /kaggle/temp/, but they won't be saved outside of the current session"
   ]
  },
  {
   "cell_type": "markdown",
   "id": "413809e0",
   "metadata": {
    "papermill": {
     "duration": 0.047829,
     "end_time": "2022-05-22T09:02:25.874246",
     "exception": false,
     "start_time": "2022-05-22T09:02:25.826417",
     "status": "completed"
    },
    "tags": []
   },
   "source": [
    "## 1. Loading the Dataset"
   ]
  },
  {
   "cell_type": "code",
   "execution_count": 3,
   "id": "79cef4f0",
   "metadata": {
    "execution": {
     "iopub.execute_input": "2022-05-22T09:02:25.967019Z",
     "iopub.status.busy": "2022-05-22T09:02:25.966723Z",
     "iopub.status.idle": "2022-05-22T09:02:26.042039Z",
     "shell.execute_reply": "2022-05-22T09:02:26.041213Z"
    },
    "papermill": {
     "duration": 0.124473,
     "end_time": "2022-05-22T09:02:26.044312",
     "exception": false,
     "start_time": "2022-05-22T09:02:25.919839",
     "status": "completed"
    },
    "tags": []
   },
   "outputs": [],
   "source": [
    "train_df = pd.read_csv('../input/spaceship-titanic/train.csv')\n",
    "test_df = pd.read_csv('../input/spaceship-titanic/test.csv')\n",
    "submission_id = test_df.PassengerId"
   ]
  },
  {
   "cell_type": "code",
   "execution_count": 4,
   "id": "4333c2b0",
   "metadata": {
    "execution": {
     "iopub.execute_input": "2022-05-22T09:02:26.138320Z",
     "iopub.status.busy": "2022-05-22T09:02:26.137490Z",
     "iopub.status.idle": "2022-05-22T09:02:26.167584Z",
     "shell.execute_reply": "2022-05-22T09:02:26.166821Z"
    },
    "papermill": {
     "duration": 0.079926,
     "end_time": "2022-05-22T09:02:26.169832",
     "exception": false,
     "start_time": "2022-05-22T09:02:26.089906",
     "status": "completed"
    },
    "tags": []
   },
   "outputs": [
    {
     "data": {
      "text/html": [
       "<div>\n",
       "<style scoped>\n",
       "    .dataframe tbody tr th:only-of-type {\n",
       "        vertical-align: middle;\n",
       "    }\n",
       "\n",
       "    .dataframe tbody tr th {\n",
       "        vertical-align: top;\n",
       "    }\n",
       "\n",
       "    .dataframe thead th {\n",
       "        text-align: right;\n",
       "    }\n",
       "</style>\n",
       "<table border=\"1\" class=\"dataframe\">\n",
       "  <thead>\n",
       "    <tr style=\"text-align: right;\">\n",
       "      <th></th>\n",
       "      <th>PassengerId</th>\n",
       "      <th>HomePlanet</th>\n",
       "      <th>CryoSleep</th>\n",
       "      <th>Cabin</th>\n",
       "      <th>Destination</th>\n",
       "      <th>Age</th>\n",
       "      <th>VIP</th>\n",
       "      <th>RoomService</th>\n",
       "      <th>FoodCourt</th>\n",
       "      <th>ShoppingMall</th>\n",
       "      <th>Spa</th>\n",
       "      <th>VRDeck</th>\n",
       "      <th>Name</th>\n",
       "      <th>Transported</th>\n",
       "    </tr>\n",
       "  </thead>\n",
       "  <tbody>\n",
       "    <tr>\n",
       "      <th>304</th>\n",
       "      <td>0337_02</td>\n",
       "      <td>Mars</td>\n",
       "      <td>False</td>\n",
       "      <td>F/63/S</td>\n",
       "      <td>TRAPPIST-1e</td>\n",
       "      <td>19.0</td>\n",
       "      <td>False</td>\n",
       "      <td>417.0</td>\n",
       "      <td>349.0</td>\n",
       "      <td>634.0</td>\n",
       "      <td>3.0</td>\n",
       "      <td>1057.0</td>\n",
       "      <td>Weros Perle</td>\n",
       "      <td>True</td>\n",
       "    </tr>\n",
       "    <tr>\n",
       "      <th>2697</th>\n",
       "      <td>2891_01</td>\n",
       "      <td>Earth</td>\n",
       "      <td>False</td>\n",
       "      <td>G/460/S</td>\n",
       "      <td>TRAPPIST-1e</td>\n",
       "      <td>18.0</td>\n",
       "      <td>False</td>\n",
       "      <td>4.0</td>\n",
       "      <td>904.0</td>\n",
       "      <td>0.0</td>\n",
       "      <td>0.0</td>\n",
       "      <td>1.0</td>\n",
       "      <td>Gleney Ortinericey</td>\n",
       "      <td>False</td>\n",
       "    </tr>\n",
       "    <tr>\n",
       "      <th>8424</th>\n",
       "      <td>8998_01</td>\n",
       "      <td>Earth</td>\n",
       "      <td>True</td>\n",
       "      <td>G/1449/S</td>\n",
       "      <td>TRAPPIST-1e</td>\n",
       "      <td>41.0</td>\n",
       "      <td>False</td>\n",
       "      <td>0.0</td>\n",
       "      <td>0.0</td>\n",
       "      <td>0.0</td>\n",
       "      <td>0.0</td>\n",
       "      <td>0.0</td>\n",
       "      <td>Gerry Englence</td>\n",
       "      <td>False</td>\n",
       "    </tr>\n",
       "    <tr>\n",
       "      <th>1672</th>\n",
       "      <td>1771_01</td>\n",
       "      <td>Earth</td>\n",
       "      <td>False</td>\n",
       "      <td>G/291/P</td>\n",
       "      <td>TRAPPIST-1e</td>\n",
       "      <td>35.0</td>\n",
       "      <td>False</td>\n",
       "      <td>0.0</td>\n",
       "      <td>338.0</td>\n",
       "      <td>436.0</td>\n",
       "      <td>NaN</td>\n",
       "      <td>0.0</td>\n",
       "      <td>Antone Cardner</td>\n",
       "      <td>True</td>\n",
       "    </tr>\n",
       "    <tr>\n",
       "      <th>8458</th>\n",
       "      <td>9034_02</td>\n",
       "      <td>Europa</td>\n",
       "      <td>True</td>\n",
       "      <td>D/288/P</td>\n",
       "      <td>TRAPPIST-1e</td>\n",
       "      <td>43.0</td>\n",
       "      <td>False</td>\n",
       "      <td>0.0</td>\n",
       "      <td>0.0</td>\n",
       "      <td>0.0</td>\n",
       "      <td>0.0</td>\n",
       "      <td>0.0</td>\n",
       "      <td>Errairk Crakete</td>\n",
       "      <td>True</td>\n",
       "    </tr>\n",
       "  </tbody>\n",
       "</table>\n",
       "</div>"
      ],
      "text/plain": [
       "     PassengerId HomePlanet CryoSleep     Cabin  Destination   Age    VIP  \\\n",
       "304      0337_02       Mars     False    F/63/S  TRAPPIST-1e  19.0  False   \n",
       "2697     2891_01      Earth     False   G/460/S  TRAPPIST-1e  18.0  False   \n",
       "8424     8998_01      Earth      True  G/1449/S  TRAPPIST-1e  41.0  False   \n",
       "1672     1771_01      Earth     False   G/291/P  TRAPPIST-1e  35.0  False   \n",
       "8458     9034_02     Europa      True   D/288/P  TRAPPIST-1e  43.0  False   \n",
       "\n",
       "      RoomService  FoodCourt  ShoppingMall  Spa  VRDeck                Name  \\\n",
       "304         417.0      349.0         634.0  3.0  1057.0         Weros Perle   \n",
       "2697          4.0      904.0           0.0  0.0     1.0  Gleney Ortinericey   \n",
       "8424          0.0        0.0           0.0  0.0     0.0      Gerry Englence   \n",
       "1672          0.0      338.0         436.0  NaN     0.0      Antone Cardner   \n",
       "8458          0.0        0.0           0.0  0.0     0.0     Errairk Crakete   \n",
       "\n",
       "      Transported  \n",
       "304          True  \n",
       "2697        False  \n",
       "8424        False  \n",
       "1672         True  \n",
       "8458         True  "
      ]
     },
     "execution_count": 4,
     "metadata": {},
     "output_type": "execute_result"
    }
   ],
   "source": [
    "train_df.sample(5, random_state=42)"
   ]
  },
  {
   "cell_type": "code",
   "execution_count": 5,
   "id": "a9612994",
   "metadata": {
    "execution": {
     "iopub.execute_input": "2022-05-22T09:02:26.263714Z",
     "iopub.status.busy": "2022-05-22T09:02:26.263191Z",
     "iopub.status.idle": "2022-05-22T09:02:26.286310Z",
     "shell.execute_reply": "2022-05-22T09:02:26.285400Z"
    },
    "papermill": {
     "duration": 0.072678,
     "end_time": "2022-05-22T09:02:26.288325",
     "exception": false,
     "start_time": "2022-05-22T09:02:26.215647",
     "status": "completed"
    },
    "tags": []
   },
   "outputs": [
    {
     "name": "stdout",
     "output_type": "stream",
     "text": [
      "<class 'pandas.core.frame.DataFrame'>\n",
      "RangeIndex: 8693 entries, 0 to 8692\n",
      "Data columns (total 14 columns):\n",
      " #   Column        Non-Null Count  Dtype  \n",
      "---  ------        --------------  -----  \n",
      " 0   PassengerId   8693 non-null   object \n",
      " 1   HomePlanet    8492 non-null   object \n",
      " 2   CryoSleep     8476 non-null   object \n",
      " 3   Cabin         8494 non-null   object \n",
      " 4   Destination   8511 non-null   object \n",
      " 5   Age           8514 non-null   float64\n",
      " 6   VIP           8490 non-null   object \n",
      " 7   RoomService   8512 non-null   float64\n",
      " 8   FoodCourt     8510 non-null   float64\n",
      " 9   ShoppingMall  8485 non-null   float64\n",
      " 10  Spa           8510 non-null   float64\n",
      " 11  VRDeck        8505 non-null   float64\n",
      " 12  Name          8493 non-null   object \n",
      " 13  Transported   8693 non-null   bool   \n",
      "dtypes: bool(1), float64(6), object(7)\n",
      "memory usage: 891.5+ KB\n"
     ]
    }
   ],
   "source": [
    "train_df.info()"
   ]
  },
  {
   "cell_type": "markdown",
   "id": "04ad2577",
   "metadata": {
    "papermill": {
     "duration": 0.047426,
     "end_time": "2022-05-22T09:02:26.386009",
     "exception": false,
     "start_time": "2022-05-22T09:02:26.338583",
     "status": "completed"
    },
    "tags": []
   },
   "source": [
    "## 2. Exploratory Data Analysis"
   ]
  },
  {
   "cell_type": "markdown",
   "id": "12d3d4c5",
   "metadata": {
    "papermill": {
     "duration": 0.046216,
     "end_time": "2022-05-22T09:02:26.478648",
     "exception": false,
     "start_time": "2022-05-22T09:02:26.432432",
     "status": "completed"
    },
    "tags": []
   },
   "source": [
    "### 2.1 Categorical Data"
   ]
  },
  {
   "cell_type": "code",
   "execution_count": 6,
   "id": "790a9f7c",
   "metadata": {
    "execution": {
     "iopub.execute_input": "2022-05-22T09:02:26.574141Z",
     "iopub.status.busy": "2022-05-22T09:02:26.573411Z",
     "iopub.status.idle": "2022-05-22T09:02:28.074393Z",
     "shell.execute_reply": "2022-05-22T09:02:28.073512Z"
    },
    "papermill": {
     "duration": 1.552213,
     "end_time": "2022-05-22T09:02:28.077226",
     "exception": false,
     "start_time": "2022-05-22T09:02:26.525013",
     "status": "completed"
    },
    "tags": []
   },
   "outputs": [
    {
     "data": {
      "text/plain": [
       "GridSpec(6, 5)"
      ]
     },
     "execution_count": 6,
     "metadata": {},
     "output_type": "execute_result"
    },
    {
     "data": {
      "image/png": "[encoded data removed]",
      "text/plain": [
       "<Figure size 1296x1296 with 11 Axes>"
      ]
     },
     "metadata": {},
     "output_type": "display_data"
    }
   ],
   "source": [
    "klib.cat_plot(train_df.drop(['CryoSleep', 'Transported', 'VIP'], axis=1), top=5, bottom=5)"
   ]
  },
  {
   "cell_type": "markdown",
   "id": "35ec9c78",
   "metadata": {
    "papermill": {
     "duration": 0.049251,
     "end_time": "2022-05-22T09:02:28.176182",
     "exception": false,
     "start_time": "2022-05-22T09:02:28.126931",
     "status": "completed"
    },
    "tags": []
   },
   "source": [
    "### 2.2 Numerical Data"
   ]
  },
  {
   "cell_type": "code",
   "execution_count": 7,
   "id": "baf0bac2",
   "metadata": {
    "execution": {
     "iopub.execute_input": "2022-05-22T09:02:28.276751Z",
     "iopub.status.busy": "2022-05-22T09:02:28.276236Z",
     "iopub.status.idle": "2022-05-22T09:02:31.500003Z",
     "shell.execute_reply": "2022-05-22T09:02:31.499183Z"
    },
    "papermill": {
     "duration": 3.276158,
     "end_time": "2022-05-22T09:02:31.502147",
     "exception": false,
     "start_time": "2022-05-22T09:02:28.225989",
     "status": "completed"
    },
    "tags": []
   },
   "outputs": [
    {
     "data": {
      "text/plain": [
       "<AxesSubplot:xlabel='VRDeck', ylabel='Density'>"
      ]
     },
     "execution_count": 7,
     "metadata": {},
     "output_type": "execute_result"
    },
    {
     "data": {
      "image/png": "[encoded data removed]",
      "text/plain": [
       "<Figure size 900x180 with 1 Axes>"
      ]
     },
     "metadata": {},
     "output_type": "display_data"
    },
    {
     "data": {
      "image/png": "[encoded data removed]",
      "text/plain": [
       "<Figure size 900x180 with 1 Axes>"
      ]
     },
     "metadata": {},
     "output_type": "display_data"
    },
    {
     "data": {
      "image/png": "[encoded data removed]",
      "text/plain": [
       "<Figure size 900x180 with 1 Axes>"
      ]
     },
     "metadata": {},
     "output_type": "display_data"
    },
    {
     "data": {
      "image/png": "[encoded data removed]",
      "text/plain": [
       "<Figure size 900x180 with 1 Axes>"
      ]
     },
     "metadata": {},
     "output_type": "display_data"
    },
    {
     "data": {
      "image/png": "[encoded data removed]",
      "text/plain": [
       "<Figure size 900x180 with 1 Axes>"
      ]
     },
     "metadata": {},
     "output_type": "display_data"
    },
    {
     "data": {
      "image/png": "[encoded data removed]",
      "text/plain": [
       "<Figure size 900x180 with 1 Axes>"
      ]
     },
     "metadata": {},
     "output_type": "display_data"
    }
   ],
   "source": [
    "klib.dist_plot(train_df)"
   ]
  },
  {
   "cell_type": "markdown",
   "id": "dc8df6c5",
   "metadata": {
    "papermill": {
     "duration": 0.057361,
     "end_time": "2022-05-22T09:02:31.617262",
     "exception": false,
     "start_time": "2022-05-22T09:02:31.559901",
     "status": "completed"
    },
    "tags": []
   },
   "source": [
    "### 2.3 Visualization of Missing Values"
   ]
  },
  {
   "cell_type": "code",
   "execution_count": 8,
   "id": "dc40899f",
   "metadata": {
    "execution": {
     "iopub.execute_input": "2022-05-22T09:02:31.732005Z",
     "iopub.status.busy": "2022-05-22T09:02:31.731207Z",
     "iopub.status.idle": "2022-05-22T09:02:33.143175Z",
     "shell.execute_reply": "2022-05-22T09:02:33.142267Z"
    },
    "papermill": {
     "duration": 1.471457,
     "end_time": "2022-05-22T09:02:33.145274",
     "exception": false,
     "start_time": "2022-05-22T09:02:31.673817",
     "status": "completed"
    },
    "tags": []
   },
   "outputs": [
    {
     "data": {
      "text/plain": [
       "GridSpec(6, 6)"
      ]
     },
     "execution_count": 8,
     "metadata": {},
     "output_type": "execute_result"
    },
    {
     "data": {
      "image/png": "[encoded data removed]",
      "text/plain": [
       "<Figure size 1440x1440 with 4 Axes>"
      ]
     },
     "metadata": {},
     "output_type": "display_data"
    }
   ],
   "source": [
    "klib.missingval_plot(train_df)"
   ]
  },
  {
   "cell_type": "markdown",
   "id": "c74e3248",
   "metadata": {
    "papermill": {
     "duration": 0.061517,
     "end_time": "2022-05-22T09:02:33.273675",
     "exception": false,
     "start_time": "2022-05-22T09:02:33.212158",
     "status": "completed"
    },
    "tags": []
   },
   "source": [
    "### 2.4 Correlation Matrix Plot among the other features and target feature"
   ]
  },
  {
   "cell_type": "code",
   "execution_count": 9,
   "id": "0d61743b",
   "metadata": {
    "execution": {
     "iopub.execute_input": "2022-05-22T09:02:33.395652Z",
     "iopub.status.busy": "2022-05-22T09:02:33.395135Z",
     "iopub.status.idle": "2022-05-22T09:02:33.733264Z",
     "shell.execute_reply": "2022-05-22T09:02:33.731506Z"
    },
    "papermill": {
     "duration": 0.401302,
     "end_time": "2022-05-22T09:02:33.735256",
     "exception": false,
     "start_time": "2022-05-22T09:02:33.333954",
     "status": "completed"
    },
    "tags": []
   },
   "outputs": [
    {
     "data": {
      "text/plain": [
       "<AxesSubplot:title={'center':'Feature-correlation (pearson)'}>"
      ]
     },
     "execution_count": 9,
     "metadata": {},
     "output_type": "execute_result"
    },
    {
     "data": {
      "image/png": "[encoded data removed]",
      "text/plain": [
       "<Figure size 864x720 with 2 Axes>"
      ]
     },
     "metadata": {},
     "output_type": "display_data"
    }
   ],
   "source": [
    "klib.corr_plot(train_df)"
   ]
  },
  {
   "cell_type": "code",
   "execution_count": 10,
   "id": "365b8dd2",
   "metadata": {
    "execution": {
     "iopub.execute_input": "2022-05-22T09:02:33.861438Z",
     "iopub.status.busy": "2022-05-22T09:02:33.860642Z",
     "iopub.status.idle": "2022-05-22T09:02:34.127588Z",
     "shell.execute_reply": "2022-05-22T09:02:34.126790Z"
    },
    "papermill": {
     "duration": 0.332154,
     "end_time": "2022-05-22T09:02:34.129420",
     "exception": false,
     "start_time": "2022-05-22T09:02:33.797266",
     "status": "completed"
    },
    "tags": []
   },
   "outputs": [
    {
     "data": {
      "text/plain": [
       "<AxesSubplot:title={'center':'Feature-correlation (pearson)'}>"
      ]
     },
     "execution_count": 10,
     "metadata": {},
     "output_type": "execute_result"
    },
    {
     "data": {
      "image/png": "[encoded data removed]",
      "text/plain": [
       "<Figure size 864x720 with 2 Axes>"
      ]
     },
     "metadata": {},
     "output_type": "display_data"
    }
   ],
   "source": [
    "klib.corr_plot(train_df, target='Transported')"
   ]
  },
  {
   "cell_type": "markdown",
   "id": "4ac9f934",
   "metadata": {
    "papermill": {
     "duration": 0.062598,
     "end_time": "2022-05-22T09:02:34.254612",
     "exception": false,
     "start_time": "2022-05-22T09:02:34.192014",
     "status": "completed"
    },
    "tags": []
   },
   "source": [
    "## 3. Perform Train and Validation Dataset Split"
   ]
  },
  {
   "cell_type": "code",
   "execution_count": 11,
   "id": "b95f35ac",
   "metadata": {
    "execution": {
     "iopub.execute_input": "2022-05-22T09:02:34.382249Z",
     "iopub.status.busy": "2022-05-22T09:02:34.381734Z",
     "iopub.status.idle": "2022-05-22T09:02:34.390849Z",
     "shell.execute_reply": "2022-05-22T09:02:34.390259Z"
    },
    "papermill": {
     "duration": 0.074793,
     "end_time": "2022-05-22T09:02:34.392679",
     "exception": false,
     "start_time": "2022-05-22T09:02:34.317886",
     "status": "completed"
    },
    "tags": []
   },
   "outputs": [],
   "source": [
    "train_df_1, valid_df = train_test_split(train_df, test_size=.2, random_state=42, stratify=train_df['Transported'])"
   ]
  },
  {
   "cell_type": "markdown",
   "id": "a53b4cce",
   "metadata": {
    "papermill": {
     "duration": 0.062966,
     "end_time": "2022-05-22T09:02:34.518666",
     "exception": false,
     "start_time": "2022-05-22T09:02:34.455700",
     "status": "completed"
    },
    "tags": []
   },
   "source": [
    "## 4. Feature Engineering"
   ]
  },
  {
   "cell_type": "markdown",
   "id": "8079bdd0",
   "metadata": {
    "papermill": {
     "duration": 0.062658,
     "end_time": "2022-05-22T09:02:34.644835",
     "exception": false,
     "start_time": "2022-05-22T09:02:34.582177",
     "status": "completed"
    },
    "tags": []
   },
   "source": [
    "The existing features may have hidden information that cannot be interpreted by our models. Therefore, we can create more meaningful features that have significant or more impact on the target feature than their parent features.\n",
    "\n",
    "<b>Note:</b> As categorical and missing values are handled well by `tensorflow decision trees`, we will not be handling missing values."
   ]
  },
  {
   "cell_type": "markdown",
   "id": "f14b773e",
   "metadata": {
    "papermill": {
     "duration": 0.063007,
     "end_time": "2022-05-22T09:02:34.770709",
     "exception": false,
     "start_time": "2022-05-22T09:02:34.707702",
     "status": "completed"
    },
    "tags": []
   },
   "source": [
    "### 4.1 Creating New Features - `Group` and `Num_members` "
   ]
  },
  {
   "cell_type": "markdown",
   "id": "18db61fa",
   "metadata": {
    "papermill": {
     "duration": 0.062797,
     "end_time": "2022-05-22T09:02:34.896888",
     "exception": false,
     "start_time": "2022-05-22T09:02:34.834091",
     "status": "completed"
    },
    "tags": []
   },
   "source": [
    "Based on the information given to us, first 4 characters from `PassengerId` feature represent a group and 2 characters after the underscore represents number of members."
   ]
  },
  {
   "cell_type": "code",
   "execution_count": 12,
   "id": "03035f48",
   "metadata": {
    "execution": {
     "iopub.execute_input": "2022-05-22T09:02:35.025475Z",
     "iopub.status.busy": "2022-05-22T09:02:35.024975Z",
     "iopub.status.idle": "2022-05-22T09:02:35.044172Z",
     "shell.execute_reply": "2022-05-22T09:02:35.043332Z"
    },
    "papermill": {
     "duration": 0.086021,
     "end_time": "2022-05-22T09:02:35.046039",
     "exception": false,
     "start_time": "2022-05-22T09:02:34.960018",
     "status": "completed"
    },
    "tags": []
   },
   "outputs": [],
   "source": [
    "train_df_1 =  pd.concat([train_df_1, train_df_1['PassengerId'].str.split('_', expand=True)], axis=1)\n",
    "train_df_1.rename({0: 'Group', 1: 'Num_members'}, axis=1, inplace=True)\n",
    "train_df_1['Num_members'] = train_df_1['Num_members'].astype(int)"
   ]
  },
  {
   "cell_type": "code",
   "execution_count": 13,
   "id": "fe557254",
   "metadata": {
    "execution": {
     "iopub.execute_input": "2022-05-22T09:02:35.173267Z",
     "iopub.status.busy": "2022-05-22T09:02:35.172714Z",
     "iopub.status.idle": "2022-05-22T09:02:35.178133Z",
     "shell.execute_reply": "2022-05-22T09:02:35.177571Z"
    },
    "papermill": {
     "duration": 0.070863,
     "end_time": "2022-05-22T09:02:35.179708",
     "exception": false,
     "start_time": "2022-05-22T09:02:35.108845",
     "status": "completed"
    },
    "tags": []
   },
   "outputs": [
    {
     "data": {
      "text/plain": [
       "array([4, 1, 3, 2, 6, 5, 7, 8])"
      ]
     },
     "execution_count": 13,
     "metadata": {},
     "output_type": "execute_result"
    }
   ],
   "source": [
    "train_df_1['Num_members'].unique()"
   ]
  },
  {
   "cell_type": "code",
   "execution_count": 14,
   "id": "f4a1b721",
   "metadata": {
    "execution": {
     "iopub.execute_input": "2022-05-22T09:02:35.307803Z",
     "iopub.status.busy": "2022-05-22T09:02:35.307265Z",
     "iopub.status.idle": "2022-05-22T09:02:35.318301Z",
     "shell.execute_reply": "2022-05-22T09:02:35.317750Z"
    },
    "papermill": {
     "duration": 0.077261,
     "end_time": "2022-05-22T09:02:35.320059",
     "exception": false,
     "start_time": "2022-05-22T09:02:35.242798",
     "status": "completed"
    },
    "tags": []
   },
   "outputs": [],
   "source": [
    "valid_df =  pd.concat([valid_df, valid_df['PassengerId'].str.split('_', expand=True)], axis=1)\n",
    "valid_df.rename({0: 'Group', 1: 'Num_members'}, axis=1, inplace=True)\n",
    "valid_df['Num_members'] = valid_df['Num_members'].astype(int)"
   ]
  },
  {
   "cell_type": "code",
   "execution_count": 15,
   "id": "5d4fdedd",
   "metadata": {
    "execution": {
     "iopub.execute_input": "2022-05-22T09:02:35.447590Z",
     "iopub.status.busy": "2022-05-22T09:02:35.447095Z",
     "iopub.status.idle": "2022-05-22T09:02:35.460057Z",
     "shell.execute_reply": "2022-05-22T09:02:35.459324Z"
    },
    "papermill": {
     "duration": 0.078804,
     "end_time": "2022-05-22T09:02:35.461769",
     "exception": false,
     "start_time": "2022-05-22T09:02:35.382965",
     "status": "completed"
    },
    "tags": []
   },
   "outputs": [],
   "source": [
    "test_df =  pd.concat([test_df, test_df['PassengerId'].str.split('_', expand=True)], axis=1)\n",
    "test_df.rename({0: 'Group', 1: 'Num_members'}, axis=1, inplace=True)\n",
    "test_df['Num_members'] = test_df['Num_members'].astype(int)"
   ]
  },
  {
   "cell_type": "code",
   "execution_count": 16,
   "id": "f7a0c496",
   "metadata": {
    "execution": {
     "iopub.execute_input": "2022-05-22T09:02:35.590782Z",
     "iopub.status.busy": "2022-05-22T09:02:35.590279Z",
     "iopub.status.idle": "2022-05-22T09:02:35.609023Z",
     "shell.execute_reply": "2022-05-22T09:02:35.608499Z"
    },
    "papermill": {
     "duration": 0.085354,
     "end_time": "2022-05-22T09:02:35.610640",
     "exception": false,
     "start_time": "2022-05-22T09:02:35.525286",
     "status": "completed"
    },
    "tags": []
   },
   "outputs": [
    {
     "data": {
      "text/html": [
       "<div>\n",
       "<style scoped>\n",
       "    .dataframe tbody tr th:only-of-type {\n",
       "        vertical-align: middle;\n",
       "    }\n",
       "\n",
       "    .dataframe tbody tr th {\n",
       "        vertical-align: top;\n",
       "    }\n",
       "\n",
       "    .dataframe thead th {\n",
       "        text-align: right;\n",
       "    }\n",
       "</style>\n",
       "<table border=\"1\" class=\"dataframe\">\n",
       "  <thead>\n",
       "    <tr style=\"text-align: right;\">\n",
       "      <th></th>\n",
       "      <th>PassengerId</th>\n",
       "      <th>HomePlanet</th>\n",
       "      <th>CryoSleep</th>\n",
       "      <th>Cabin</th>\n",
       "      <th>Destination</th>\n",
       "      <th>Age</th>\n",
       "      <th>VIP</th>\n",
       "      <th>RoomService</th>\n",
       "      <th>FoodCourt</th>\n",
       "      <th>ShoppingMall</th>\n",
       "      <th>Spa</th>\n",
       "      <th>VRDeck</th>\n",
       "      <th>Name</th>\n",
       "      <th>Transported</th>\n",
       "      <th>Group</th>\n",
       "      <th>Num_members</th>\n",
       "    </tr>\n",
       "  </thead>\n",
       "  <tbody>\n",
       "    <tr>\n",
       "      <th>6052</th>\n",
       "      <td>6402_03</td>\n",
       "      <td>Earth</td>\n",
       "      <td>True</td>\n",
       "      <td>G/1032/P</td>\n",
       "      <td>TRAPPIST-1e</td>\n",
       "      <td>0.0</td>\n",
       "      <td>False</td>\n",
       "      <td>0.0</td>\n",
       "      <td>0.0</td>\n",
       "      <td>0.0</td>\n",
       "      <td>0.0</td>\n",
       "      <td>0.0</td>\n",
       "      <td>Paulah Knoxonway</td>\n",
       "      <td>True</td>\n",
       "      <td>6402</td>\n",
       "      <td>3</td>\n",
       "    </tr>\n",
       "    <tr>\n",
       "      <th>4409</th>\n",
       "      <td>4680_02</td>\n",
       "      <td>Mars</td>\n",
       "      <td>True</td>\n",
       "      <td>F/952/P</td>\n",
       "      <td>TRAPPIST-1e</td>\n",
       "      <td>2.0</td>\n",
       "      <td>False</td>\n",
       "      <td>0.0</td>\n",
       "      <td>0.0</td>\n",
       "      <td>0.0</td>\n",
       "      <td>0.0</td>\n",
       "      <td>0.0</td>\n",
       "      <td>Watros Colte</td>\n",
       "      <td>True</td>\n",
       "      <td>4680</td>\n",
       "      <td>2</td>\n",
       "    </tr>\n",
       "    <tr>\n",
       "      <th>8033</th>\n",
       "      <td>8598_02</td>\n",
       "      <td>Earth</td>\n",
       "      <td>True</td>\n",
       "      <td>G/1394/P</td>\n",
       "      <td>PSO J318.5-22</td>\n",
       "      <td>39.0</td>\n",
       "      <td>False</td>\n",
       "      <td>0.0</td>\n",
       "      <td>0.0</td>\n",
       "      <td>0.0</td>\n",
       "      <td>0.0</td>\n",
       "      <td>0.0</td>\n",
       "      <td>Eriana Mcbriggins</td>\n",
       "      <td>True</td>\n",
       "      <td>8598</td>\n",
       "      <td>2</td>\n",
       "    </tr>\n",
       "  </tbody>\n",
       "</table>\n",
       "</div>"
      ],
      "text/plain": [
       "     PassengerId HomePlanet CryoSleep     Cabin    Destination   Age    VIP  \\\n",
       "6052     6402_03      Earth      True  G/1032/P    TRAPPIST-1e   0.0  False   \n",
       "4409     4680_02       Mars      True   F/952/P    TRAPPIST-1e   2.0  False   \n",
       "8033     8598_02      Earth      True  G/1394/P  PSO J318.5-22  39.0  False   \n",
       "\n",
       "      RoomService  FoodCourt  ShoppingMall  Spa  VRDeck               Name  \\\n",
       "6052          0.0        0.0           0.0  0.0     0.0   Paulah Knoxonway   \n",
       "4409          0.0        0.0           0.0  0.0     0.0       Watros Colte   \n",
       "8033          0.0        0.0           0.0  0.0     0.0  Eriana Mcbriggins   \n",
       "\n",
       "      Transported Group  Num_members  \n",
       "6052         True  6402            3  \n",
       "4409         True  4680            2  \n",
       "8033         True  8598            2  "
      ]
     },
     "execution_count": 16,
     "metadata": {},
     "output_type": "execute_result"
    }
   ],
   "source": [
    "train_df_1.sample(3, random_state=42)"
   ]
  },
  {
   "cell_type": "code",
   "execution_count": 17,
   "id": "0843b247",
   "metadata": {
    "execution": {
     "iopub.execute_input": "2022-05-22T09:02:35.744762Z",
     "iopub.status.busy": "2022-05-22T09:02:35.744220Z",
     "iopub.status.idle": "2022-05-22T09:02:35.763374Z",
     "shell.execute_reply": "2022-05-22T09:02:35.762553Z"
    },
    "papermill": {
     "duration": 0.091201,
     "end_time": "2022-05-22T09:02:35.765320",
     "exception": false,
     "start_time": "2022-05-22T09:02:35.674119",
     "status": "completed"
    },
    "tags": []
   },
   "outputs": [
    {
     "data": {
      "text/html": [
       "<div>\n",
       "<style scoped>\n",
       "    .dataframe tbody tr th:only-of-type {\n",
       "        vertical-align: middle;\n",
       "    }\n",
       "\n",
       "    .dataframe tbody tr th {\n",
       "        vertical-align: top;\n",
       "    }\n",
       "\n",
       "    .dataframe thead th {\n",
       "        text-align: right;\n",
       "    }\n",
       "</style>\n",
       "<table border=\"1\" class=\"dataframe\">\n",
       "  <thead>\n",
       "    <tr style=\"text-align: right;\">\n",
       "      <th></th>\n",
       "      <th>PassengerId</th>\n",
       "      <th>HomePlanet</th>\n",
       "      <th>CryoSleep</th>\n",
       "      <th>Cabin</th>\n",
       "      <th>Destination</th>\n",
       "      <th>Age</th>\n",
       "      <th>VIP</th>\n",
       "      <th>RoomService</th>\n",
       "      <th>FoodCourt</th>\n",
       "      <th>ShoppingMall</th>\n",
       "      <th>Spa</th>\n",
       "      <th>VRDeck</th>\n",
       "      <th>Name</th>\n",
       "      <th>Transported</th>\n",
       "      <th>Group</th>\n",
       "      <th>Num_members</th>\n",
       "    </tr>\n",
       "  </thead>\n",
       "  <tbody>\n",
       "    <tr>\n",
       "      <th>3731</th>\n",
       "      <td>4001_05</td>\n",
       "      <td>Earth</td>\n",
       "      <td>False</td>\n",
       "      <td>F/758/S</td>\n",
       "      <td>NaN</td>\n",
       "      <td>34.0</td>\n",
       "      <td>False</td>\n",
       "      <td>0.0</td>\n",
       "      <td>847.0</td>\n",
       "      <td>14.0</td>\n",
       "      <td>0.0</td>\n",
       "      <td>0.0</td>\n",
       "      <td>Brancy Lowelliott</td>\n",
       "      <td>True</td>\n",
       "      <td>4001</td>\n",
       "      <td>5</td>\n",
       "    </tr>\n",
       "    <tr>\n",
       "      <th>4043</th>\n",
       "      <td>4319_01</td>\n",
       "      <td>Earth</td>\n",
       "      <td>False</td>\n",
       "      <td>G/711/P</td>\n",
       "      <td>TRAPPIST-1e</td>\n",
       "      <td>48.0</td>\n",
       "      <td>False</td>\n",
       "      <td>2.0</td>\n",
       "      <td>0.0</td>\n",
       "      <td>83.0</td>\n",
       "      <td>589.0</td>\n",
       "      <td>233.0</td>\n",
       "      <td>Kimmie Nobleyes</td>\n",
       "      <td>False</td>\n",
       "      <td>4319</td>\n",
       "      <td>1</td>\n",
       "    </tr>\n",
       "    <tr>\n",
       "      <th>226</th>\n",
       "      <td>0243_01</td>\n",
       "      <td>Earth</td>\n",
       "      <td>True</td>\n",
       "      <td>G/37/S</td>\n",
       "      <td>TRAPPIST-1e</td>\n",
       "      <td>21.0</td>\n",
       "      <td>False</td>\n",
       "      <td>0.0</td>\n",
       "      <td>0.0</td>\n",
       "      <td>0.0</td>\n",
       "      <td>0.0</td>\n",
       "      <td>0.0</td>\n",
       "      <td>Lilace Cartyernan</td>\n",
       "      <td>False</td>\n",
       "      <td>0243</td>\n",
       "      <td>1</td>\n",
       "    </tr>\n",
       "  </tbody>\n",
       "</table>\n",
       "</div>"
      ],
      "text/plain": [
       "     PassengerId HomePlanet CryoSleep    Cabin  Destination   Age    VIP  \\\n",
       "3731     4001_05      Earth     False  F/758/S          NaN  34.0  False   \n",
       "4043     4319_01      Earth     False  G/711/P  TRAPPIST-1e  48.0  False   \n",
       "226      0243_01      Earth      True   G/37/S  TRAPPIST-1e  21.0  False   \n",
       "\n",
       "      RoomService  FoodCourt  ShoppingMall    Spa  VRDeck               Name  \\\n",
       "3731          0.0      847.0          14.0    0.0     0.0  Brancy Lowelliott   \n",
       "4043          2.0        0.0          83.0  589.0   233.0    Kimmie Nobleyes   \n",
       "226           0.0        0.0           0.0    0.0     0.0  Lilace Cartyernan   \n",
       "\n",
       "      Transported Group  Num_members  \n",
       "3731         True  4001            5  \n",
       "4043        False  4319            1  \n",
       "226         False  0243            1  "
      ]
     },
     "execution_count": 17,
     "metadata": {},
     "output_type": "execute_result"
    }
   ],
   "source": [
    "valid_df.sample(3, random_state=42)"
   ]
  },
  {
   "cell_type": "code",
   "execution_count": 18,
   "id": "aba0f6b1",
   "metadata": {
    "execution": {
     "iopub.execute_input": "2022-05-22T09:02:35.898783Z",
     "iopub.status.busy": "2022-05-22T09:02:35.898224Z",
     "iopub.status.idle": "2022-05-22T09:02:35.917071Z",
     "shell.execute_reply": "2022-05-22T09:02:35.916192Z"
    },
    "papermill": {
     "duration": 0.089258,
     "end_time": "2022-05-22T09:02:35.919008",
     "exception": false,
     "start_time": "2022-05-22T09:02:35.829750",
     "status": "completed"
    },
    "tags": []
   },
   "outputs": [
    {
     "data": {
      "text/html": [
       "<div>\n",
       "<style scoped>\n",
       "    .dataframe tbody tr th:only-of-type {\n",
       "        vertical-align: middle;\n",
       "    }\n",
       "\n",
       "    .dataframe tbody tr th {\n",
       "        vertical-align: top;\n",
       "    }\n",
       "\n",
       "    .dataframe thead th {\n",
       "        text-align: right;\n",
       "    }\n",
       "</style>\n",
       "<table border=\"1\" class=\"dataframe\">\n",
       "  <thead>\n",
       "    <tr style=\"text-align: right;\">\n",
       "      <th></th>\n",
       "      <th>PassengerId</th>\n",
       "      <th>HomePlanet</th>\n",
       "      <th>CryoSleep</th>\n",
       "      <th>Cabin</th>\n",
       "      <th>Destination</th>\n",
       "      <th>Age</th>\n",
       "      <th>VIP</th>\n",
       "      <th>RoomService</th>\n",
       "      <th>FoodCourt</th>\n",
       "      <th>ShoppingMall</th>\n",
       "      <th>Spa</th>\n",
       "      <th>VRDeck</th>\n",
       "      <th>Name</th>\n",
       "      <th>Group</th>\n",
       "      <th>Num_members</th>\n",
       "    </tr>\n",
       "  </thead>\n",
       "  <tbody>\n",
       "    <tr>\n",
       "      <th>544</th>\n",
       "      <td>1135_02</td>\n",
       "      <td>Europa</td>\n",
       "      <td>False</td>\n",
       "      <td>NaN</td>\n",
       "      <td>55 Cancri e</td>\n",
       "      <td>61.0</td>\n",
       "      <td>False</td>\n",
       "      <td>26.0</td>\n",
       "      <td>3606.0</td>\n",
       "      <td>NaN</td>\n",
       "      <td>0.0</td>\n",
       "      <td>138.0</td>\n",
       "      <td>Toperon Coarswing</td>\n",
       "      <td>1135</td>\n",
       "      <td>2</td>\n",
       "    </tr>\n",
       "    <tr>\n",
       "      <th>410</th>\n",
       "      <td>0858_02</td>\n",
       "      <td>Mars</td>\n",
       "      <td>True</td>\n",
       "      <td>F/178/P</td>\n",
       "      <td>TRAPPIST-1e</td>\n",
       "      <td>23.0</td>\n",
       "      <td>False</td>\n",
       "      <td>0.0</td>\n",
       "      <td>0.0</td>\n",
       "      <td>0.0</td>\n",
       "      <td>0.0</td>\n",
       "      <td>NaN</td>\n",
       "      <td>Hion Mad</td>\n",
       "      <td>0858</td>\n",
       "      <td>2</td>\n",
       "    </tr>\n",
       "    <tr>\n",
       "      <th>2554</th>\n",
       "      <td>5588_01</td>\n",
       "      <td>Mars</td>\n",
       "      <td>False</td>\n",
       "      <td>F/1066/S</td>\n",
       "      <td>TRAPPIST-1e</td>\n",
       "      <td>24.0</td>\n",
       "      <td>False</td>\n",
       "      <td>18.0</td>\n",
       "      <td>25.0</td>\n",
       "      <td>0.0</td>\n",
       "      <td>0.0</td>\n",
       "      <td>1256.0</td>\n",
       "      <td>Weres Cola</td>\n",
       "      <td>5588</td>\n",
       "      <td>1</td>\n",
       "    </tr>\n",
       "  </tbody>\n",
       "</table>\n",
       "</div>"
      ],
      "text/plain": [
       "     PassengerId HomePlanet CryoSleep     Cabin  Destination   Age    VIP  \\\n",
       "544      1135_02     Europa     False       NaN  55 Cancri e  61.0  False   \n",
       "410      0858_02       Mars      True   F/178/P  TRAPPIST-1e  23.0  False   \n",
       "2554     5588_01       Mars     False  F/1066/S  TRAPPIST-1e  24.0  False   \n",
       "\n",
       "      RoomService  FoodCourt  ShoppingMall  Spa  VRDeck               Name  \\\n",
       "544          26.0     3606.0           NaN  0.0   138.0  Toperon Coarswing   \n",
       "410           0.0        0.0           0.0  0.0     NaN           Hion Mad   \n",
       "2554         18.0       25.0           0.0  0.0  1256.0         Weres Cola   \n",
       "\n",
       "     Group  Num_members  \n",
       "544   1135            2  \n",
       "410   0858            2  \n",
       "2554  5588            1  "
      ]
     },
     "execution_count": 18,
     "metadata": {},
     "output_type": "execute_result"
    }
   ],
   "source": [
    "test_df.sample(3, random_state=42)"
   ]
  },
  {
   "cell_type": "markdown",
   "id": "4f60b12c",
   "metadata": {
    "papermill": {
     "duration": 0.064735,
     "end_time": "2022-05-22T09:02:36.048819",
     "exception": false,
     "start_time": "2022-05-22T09:02:35.984084",
     "status": "completed"
    },
    "tags": []
   },
   "source": [
    "Now, we will no more need `PassengerId` feature."
   ]
  },
  {
   "cell_type": "code",
   "execution_count": 19,
   "id": "54c730e9",
   "metadata": {
    "execution": {
     "iopub.execute_input": "2022-05-22T09:02:36.179611Z",
     "iopub.status.busy": "2022-05-22T09:02:36.179350Z",
     "iopub.status.idle": "2022-05-22T09:02:36.188530Z",
     "shell.execute_reply": "2022-05-22T09:02:36.187953Z"
    },
    "papermill": {
     "duration": 0.077065,
     "end_time": "2022-05-22T09:02:36.190447",
     "exception": false,
     "start_time": "2022-05-22T09:02:36.113382",
     "status": "completed"
    },
    "tags": []
   },
   "outputs": [],
   "source": [
    "train_df_1.drop(['PassengerId'], axis=1, inplace=True)\n",
    "valid_df.drop(['PassengerId'], axis=1, inplace=True)\n",
    "test_df.drop(['PassengerId'], axis=1, inplace=True)"
   ]
  },
  {
   "cell_type": "markdown",
   "id": "14c295d3",
   "metadata": {
    "papermill": {
     "duration": 0.064656,
     "end_time": "2022-05-22T09:02:36.320227",
     "exception": false,
     "start_time": "2022-05-22T09:02:36.255571",
     "status": "completed"
    },
    "tags": []
   },
   "source": [
    "### 4.2 Creating New Features - `Deck`, `Cabin_No` and `Side`"
   ]
  },
  {
   "cell_type": "code",
   "execution_count": 20,
   "id": "05c7d814",
   "metadata": {
    "execution": {
     "iopub.execute_input": "2022-05-22T09:02:36.451278Z",
     "iopub.status.busy": "2022-05-22T09:02:36.451037Z",
     "iopub.status.idle": "2022-05-22T09:02:36.478344Z",
     "shell.execute_reply": "2022-05-22T09:02:36.477760Z"
    },
    "papermill": {
     "duration": 0.095236,
     "end_time": "2022-05-22T09:02:36.480298",
     "exception": false,
     "start_time": "2022-05-22T09:02:36.385062",
     "status": "completed"
    },
    "tags": []
   },
   "outputs": [],
   "source": [
    "train_df_1 = pd.concat([train_df_1, train_df_1['Cabin'].str.split('/', expand=True)], axis=1)\n",
    "valid_df = pd.concat([valid_df, valid_df['Cabin'].str.split('/', expand=True)], axis=1)\n",
    "test_df = pd.concat([test_df, test_df['Cabin'].str.split('/', expand=True)], axis=1)"
   ]
  },
  {
   "cell_type": "code",
   "execution_count": 21,
   "id": "eb8def53",
   "metadata": {
    "execution": {
     "iopub.execute_input": "2022-05-22T09:02:36.613086Z",
     "iopub.status.busy": "2022-05-22T09:02:36.612579Z",
     "iopub.status.idle": "2022-05-22T09:02:36.618329Z",
     "shell.execute_reply": "2022-05-22T09:02:36.617797Z"
    },
    "papermill": {
     "duration": 0.075112,
     "end_time": "2022-05-22T09:02:36.620631",
     "exception": false,
     "start_time": "2022-05-22T09:02:36.545519",
     "status": "completed"
    },
    "tags": []
   },
   "outputs": [],
   "source": [
    "cabin_mapper = {0: 'Deck', 1: 'Cabin_num', 2: 'Side'}\n",
    "train_df_1.rename(cabin_mapper, axis=1, inplace=True)\n",
    "valid_df.rename(cabin_mapper, axis=1, inplace=True)\n",
    "test_df.rename(cabin_mapper, axis=1, inplace=True)"
   ]
  },
  {
   "cell_type": "code",
   "execution_count": 22,
   "id": "f3cdcf5c",
   "metadata": {
    "execution": {
     "iopub.execute_input": "2022-05-22T09:02:36.756716Z",
     "iopub.status.busy": "2022-05-22T09:02:36.756206Z",
     "iopub.status.idle": "2022-05-22T09:02:36.775689Z",
     "shell.execute_reply": "2022-05-22T09:02:36.775144Z"
    },
    "papermill": {
     "duration": 0.087199,
     "end_time": "2022-05-22T09:02:36.777355",
     "exception": false,
     "start_time": "2022-05-22T09:02:36.690156",
     "status": "completed"
    },
    "tags": []
   },
   "outputs": [
    {
     "data": {
      "text/html": [
       "<div>\n",
       "<style scoped>\n",
       "    .dataframe tbody tr th:only-of-type {\n",
       "        vertical-align: middle;\n",
       "    }\n",
       "\n",
       "    .dataframe tbody tr th {\n",
       "        vertical-align: top;\n",
       "    }\n",
       "\n",
       "    .dataframe thead th {\n",
       "        text-align: right;\n",
       "    }\n",
       "</style>\n",
       "<table border=\"1\" class=\"dataframe\">\n",
       "  <thead>\n",
       "    <tr style=\"text-align: right;\">\n",
       "      <th></th>\n",
       "      <th>HomePlanet</th>\n",
       "      <th>CryoSleep</th>\n",
       "      <th>Cabin</th>\n",
       "      <th>Destination</th>\n",
       "      <th>Age</th>\n",
       "      <th>VIP</th>\n",
       "      <th>RoomService</th>\n",
       "      <th>FoodCourt</th>\n",
       "      <th>ShoppingMall</th>\n",
       "      <th>Spa</th>\n",
       "      <th>VRDeck</th>\n",
       "      <th>Name</th>\n",
       "      <th>Transported</th>\n",
       "      <th>Group</th>\n",
       "      <th>Num_members</th>\n",
       "      <th>Deck</th>\n",
       "      <th>Cabin_num</th>\n",
       "      <th>Side</th>\n",
       "    </tr>\n",
       "  </thead>\n",
       "  <tbody>\n",
       "    <tr>\n",
       "      <th>6052</th>\n",
       "      <td>Earth</td>\n",
       "      <td>True</td>\n",
       "      <td>G/1032/P</td>\n",
       "      <td>TRAPPIST-1e</td>\n",
       "      <td>0.0</td>\n",
       "      <td>False</td>\n",
       "      <td>0.0</td>\n",
       "      <td>0.0</td>\n",
       "      <td>0.0</td>\n",
       "      <td>0.0</td>\n",
       "      <td>0.0</td>\n",
       "      <td>Paulah Knoxonway</td>\n",
       "      <td>True</td>\n",
       "      <td>6402</td>\n",
       "      <td>3</td>\n",
       "      <td>G</td>\n",
       "      <td>1032</td>\n",
       "      <td>P</td>\n",
       "    </tr>\n",
       "    <tr>\n",
       "      <th>4409</th>\n",
       "      <td>Mars</td>\n",
       "      <td>True</td>\n",
       "      <td>F/952/P</td>\n",
       "      <td>TRAPPIST-1e</td>\n",
       "      <td>2.0</td>\n",
       "      <td>False</td>\n",
       "      <td>0.0</td>\n",
       "      <td>0.0</td>\n",
       "      <td>0.0</td>\n",
       "      <td>0.0</td>\n",
       "      <td>0.0</td>\n",
       "      <td>Watros Colte</td>\n",
       "      <td>True</td>\n",
       "      <td>4680</td>\n",
       "      <td>2</td>\n",
       "      <td>F</td>\n",
       "      <td>952</td>\n",
       "      <td>P</td>\n",
       "    </tr>\n",
       "    <tr>\n",
       "      <th>8033</th>\n",
       "      <td>Earth</td>\n",
       "      <td>True</td>\n",
       "      <td>G/1394/P</td>\n",
       "      <td>PSO J318.5-22</td>\n",
       "      <td>39.0</td>\n",
       "      <td>False</td>\n",
       "      <td>0.0</td>\n",
       "      <td>0.0</td>\n",
       "      <td>0.0</td>\n",
       "      <td>0.0</td>\n",
       "      <td>0.0</td>\n",
       "      <td>Eriana Mcbriggins</td>\n",
       "      <td>True</td>\n",
       "      <td>8598</td>\n",
       "      <td>2</td>\n",
       "      <td>G</td>\n",
       "      <td>1394</td>\n",
       "      <td>P</td>\n",
       "    </tr>\n",
       "  </tbody>\n",
       "</table>\n",
       "</div>"
      ],
      "text/plain": [
       "     HomePlanet CryoSleep     Cabin    Destination   Age    VIP  RoomService  \\\n",
       "6052      Earth      True  G/1032/P    TRAPPIST-1e   0.0  False          0.0   \n",
       "4409       Mars      True   F/952/P    TRAPPIST-1e   2.0  False          0.0   \n",
       "8033      Earth      True  G/1394/P  PSO J318.5-22  39.0  False          0.0   \n",
       "\n",
       "      FoodCourt  ShoppingMall  Spa  VRDeck               Name  Transported  \\\n",
       "6052        0.0           0.0  0.0     0.0   Paulah Knoxonway         True   \n",
       "4409        0.0           0.0  0.0     0.0       Watros Colte         True   \n",
       "8033        0.0           0.0  0.0     0.0  Eriana Mcbriggins         True   \n",
       "\n",
       "     Group  Num_members Deck Cabin_num Side  \n",
       "6052  6402            3    G      1032    P  \n",
       "4409  4680            2    F       952    P  \n",
       "8033  8598            2    G      1394    P  "
      ]
     },
     "execution_count": 22,
     "metadata": {},
     "output_type": "execute_result"
    }
   ],
   "source": [
    "train_df_1.sample(3, random_state=42)"
   ]
  },
  {
   "cell_type": "code",
   "execution_count": 23,
   "id": "e5fd5ace",
   "metadata": {
    "execution": {
     "iopub.execute_input": "2022-05-22T09:02:36.909529Z",
     "iopub.status.busy": "2022-05-22T09:02:36.909027Z",
     "iopub.status.idle": "2022-05-22T09:02:36.928676Z",
     "shell.execute_reply": "2022-05-22T09:02:36.927673Z"
    },
    "papermill": {
     "duration": 0.087975,
     "end_time": "2022-05-22T09:02:36.930829",
     "exception": false,
     "start_time": "2022-05-22T09:02:36.842854",
     "status": "completed"
    },
    "tags": []
   },
   "outputs": [
    {
     "data": {
      "text/html": [
       "<div>\n",
       "<style scoped>\n",
       "    .dataframe tbody tr th:only-of-type {\n",
       "        vertical-align: middle;\n",
       "    }\n",
       "\n",
       "    .dataframe tbody tr th {\n",
       "        vertical-align: top;\n",
       "    }\n",
       "\n",
       "    .dataframe thead th {\n",
       "        text-align: right;\n",
       "    }\n",
       "</style>\n",
       "<table border=\"1\" class=\"dataframe\">\n",
       "  <thead>\n",
       "    <tr style=\"text-align: right;\">\n",
       "      <th></th>\n",
       "      <th>HomePlanet</th>\n",
       "      <th>CryoSleep</th>\n",
       "      <th>Cabin</th>\n",
       "      <th>Destination</th>\n",
       "      <th>Age</th>\n",
       "      <th>VIP</th>\n",
       "      <th>RoomService</th>\n",
       "      <th>FoodCourt</th>\n",
       "      <th>ShoppingMall</th>\n",
       "      <th>Spa</th>\n",
       "      <th>VRDeck</th>\n",
       "      <th>Name</th>\n",
       "      <th>Transported</th>\n",
       "      <th>Group</th>\n",
       "      <th>Num_members</th>\n",
       "      <th>Deck</th>\n",
       "      <th>Cabin_num</th>\n",
       "      <th>Side</th>\n",
       "    </tr>\n",
       "  </thead>\n",
       "  <tbody>\n",
       "    <tr>\n",
       "      <th>3731</th>\n",
       "      <td>Earth</td>\n",
       "      <td>False</td>\n",
       "      <td>F/758/S</td>\n",
       "      <td>NaN</td>\n",
       "      <td>34.0</td>\n",
       "      <td>False</td>\n",
       "      <td>0.0</td>\n",
       "      <td>847.0</td>\n",
       "      <td>14.0</td>\n",
       "      <td>0.0</td>\n",
       "      <td>0.0</td>\n",
       "      <td>Brancy Lowelliott</td>\n",
       "      <td>True</td>\n",
       "      <td>4001</td>\n",
       "      <td>5</td>\n",
       "      <td>F</td>\n",
       "      <td>758</td>\n",
       "      <td>S</td>\n",
       "    </tr>\n",
       "    <tr>\n",
       "      <th>4043</th>\n",
       "      <td>Earth</td>\n",
       "      <td>False</td>\n",
       "      <td>G/711/P</td>\n",
       "      <td>TRAPPIST-1e</td>\n",
       "      <td>48.0</td>\n",
       "      <td>False</td>\n",
       "      <td>2.0</td>\n",
       "      <td>0.0</td>\n",
       "      <td>83.0</td>\n",
       "      <td>589.0</td>\n",
       "      <td>233.0</td>\n",
       "      <td>Kimmie Nobleyes</td>\n",
       "      <td>False</td>\n",
       "      <td>4319</td>\n",
       "      <td>1</td>\n",
       "      <td>G</td>\n",
       "      <td>711</td>\n",
       "      <td>P</td>\n",
       "    </tr>\n",
       "    <tr>\n",
       "      <th>226</th>\n",
       "      <td>Earth</td>\n",
       "      <td>True</td>\n",
       "      <td>G/37/S</td>\n",
       "      <td>TRAPPIST-1e</td>\n",
       "      <td>21.0</td>\n",
       "      <td>False</td>\n",
       "      <td>0.0</td>\n",
       "      <td>0.0</td>\n",
       "      <td>0.0</td>\n",
       "      <td>0.0</td>\n",
       "      <td>0.0</td>\n",
       "      <td>Lilace Cartyernan</td>\n",
       "      <td>False</td>\n",
       "      <td>0243</td>\n",
       "      <td>1</td>\n",
       "      <td>G</td>\n",
       "      <td>37</td>\n",
       "      <td>S</td>\n",
       "    </tr>\n",
       "  </tbody>\n",
       "</table>\n",
       "</div>"
      ],
      "text/plain": [
       "     HomePlanet CryoSleep    Cabin  Destination   Age    VIP  RoomService  \\\n",
       "3731      Earth     False  F/758/S          NaN  34.0  False          0.0   \n",
       "4043      Earth     False  G/711/P  TRAPPIST-1e  48.0  False          2.0   \n",
       "226       Earth      True   G/37/S  TRAPPIST-1e  21.0  False          0.0   \n",
       "\n",
       "      FoodCourt  ShoppingMall    Spa  VRDeck               Name  Transported  \\\n",
       "3731      847.0          14.0    0.0     0.0  Brancy Lowelliott         True   \n",
       "4043        0.0          83.0  589.0   233.0    Kimmie Nobleyes        False   \n",
       "226         0.0           0.0    0.0     0.0  Lilace Cartyernan        False   \n",
       "\n",
       "     Group  Num_members Deck Cabin_num Side  \n",
       "3731  4001            5    F       758    S  \n",
       "4043  4319            1    G       711    P  \n",
       "226   0243            1    G        37    S  "
      ]
     },
     "execution_count": 23,
     "metadata": {},
     "output_type": "execute_result"
    }
   ],
   "source": [
    "valid_df.sample(3, random_state=42)"
   ]
  },
  {
   "cell_type": "code",
   "execution_count": 24,
   "id": "465c3ae3",
   "metadata": {
    "execution": {
     "iopub.execute_input": "2022-05-22T09:02:37.064537Z",
     "iopub.status.busy": "2022-05-22T09:02:37.064259Z",
     "iopub.status.idle": "2022-05-22T09:02:37.082949Z",
     "shell.execute_reply": "2022-05-22T09:02:37.082394Z"
    },
    "papermill": {
     "duration": 0.087342,
     "end_time": "2022-05-22T09:02:37.084658",
     "exception": false,
     "start_time": "2022-05-22T09:02:36.997316",
     "status": "completed"
    },
    "tags": []
   },
   "outputs": [
    {
     "data": {
      "text/html": [
       "<div>\n",
       "<style scoped>\n",
       "    .dataframe tbody tr th:only-of-type {\n",
       "        vertical-align: middle;\n",
       "    }\n",
       "\n",
       "    .dataframe tbody tr th {\n",
       "        vertical-align: top;\n",
       "    }\n",
       "\n",
       "    .dataframe thead th {\n",
       "        text-align: right;\n",
       "    }\n",
       "</style>\n",
       "<table border=\"1\" class=\"dataframe\">\n",
       "  <thead>\n",
       "    <tr style=\"text-align: right;\">\n",
       "      <th></th>\n",
       "      <th>HomePlanet</th>\n",
       "      <th>CryoSleep</th>\n",
       "      <th>Cabin</th>\n",
       "      <th>Destination</th>\n",
       "      <th>Age</th>\n",
       "      <th>VIP</th>\n",
       "      <th>RoomService</th>\n",
       "      <th>FoodCourt</th>\n",
       "      <th>ShoppingMall</th>\n",
       "      <th>Spa</th>\n",
       "      <th>VRDeck</th>\n",
       "      <th>Name</th>\n",
       "      <th>Group</th>\n",
       "      <th>Num_members</th>\n",
       "      <th>Deck</th>\n",
       "      <th>Cabin_num</th>\n",
       "      <th>Side</th>\n",
       "    </tr>\n",
       "  </thead>\n",
       "  <tbody>\n",
       "    <tr>\n",
       "      <th>489</th>\n",
       "      <td>Earth</td>\n",
       "      <td>False</td>\n",
       "      <td>G/158/P</td>\n",
       "      <td>TRAPPIST-1e</td>\n",
       "      <td>27.0</td>\n",
       "      <td>NaN</td>\n",
       "      <td>54.0</td>\n",
       "      <td>47.0</td>\n",
       "      <td>630.0</td>\n",
       "      <td>0.0</td>\n",
       "      <td>53.0</td>\n",
       "      <td>Hilly Booneid</td>\n",
       "      <td>1055</td>\n",
       "      <td>1</td>\n",
       "      <td>G</td>\n",
       "      <td>158</td>\n",
       "      <td>P</td>\n",
       "    </tr>\n",
       "    <tr>\n",
       "      <th>3552</th>\n",
       "      <td>Earth</td>\n",
       "      <td>False</td>\n",
       "      <td>NaN</td>\n",
       "      <td>TRAPPIST-1e</td>\n",
       "      <td>43.0</td>\n",
       "      <td>False</td>\n",
       "      <td>8.0</td>\n",
       "      <td>0.0</td>\n",
       "      <td>0.0</td>\n",
       "      <td>780.0</td>\n",
       "      <td>0.0</td>\n",
       "      <td>Sandie Thorney</td>\n",
       "      <td>7732</td>\n",
       "      <td>1</td>\n",
       "      <td>NaN</td>\n",
       "      <td>NaN</td>\n",
       "      <td>NaN</td>\n",
       "    </tr>\n",
       "    <tr>\n",
       "      <th>91</th>\n",
       "      <td>Earth</td>\n",
       "      <td>False</td>\n",
       "      <td>F/43/P</td>\n",
       "      <td>PSO J318.5-22</td>\n",
       "      <td>29.0</td>\n",
       "      <td>False</td>\n",
       "      <td>1669.0</td>\n",
       "      <td>2.0</td>\n",
       "      <td>242.0</td>\n",
       "      <td>155.0</td>\n",
       "      <td>0.0</td>\n",
       "      <td>Gracy Goldendrice</td>\n",
       "      <td>0204</td>\n",
       "      <td>1</td>\n",
       "      <td>F</td>\n",
       "      <td>43</td>\n",
       "      <td>P</td>\n",
       "    </tr>\n",
       "  </tbody>\n",
       "</table>\n",
       "</div>"
      ],
      "text/plain": [
       "     HomePlanet CryoSleep    Cabin    Destination   Age    VIP  RoomService  \\\n",
       "489       Earth     False  G/158/P    TRAPPIST-1e  27.0    NaN         54.0   \n",
       "3552      Earth     False      NaN    TRAPPIST-1e  43.0  False          8.0   \n",
       "91        Earth     False   F/43/P  PSO J318.5-22  29.0  False       1669.0   \n",
       "\n",
       "      FoodCourt  ShoppingMall    Spa  VRDeck               Name Group  \\\n",
       "489        47.0         630.0    0.0    53.0      Hilly Booneid  1055   \n",
       "3552        0.0           0.0  780.0     0.0     Sandie Thorney  7732   \n",
       "91          2.0         242.0  155.0     0.0  Gracy Goldendrice  0204   \n",
       "\n",
       "      Num_members Deck Cabin_num Side  \n",
       "489             1    G       158    P  \n",
       "3552            1  NaN       NaN  NaN  \n",
       "91              1    F        43    P  "
      ]
     },
     "execution_count": 24,
     "metadata": {},
     "output_type": "execute_result"
    }
   ],
   "source": [
    "test_df.sample(3, random_state=41)"
   ]
  },
  {
   "cell_type": "markdown",
   "id": "ff5bf34e",
   "metadata": {
    "papermill": {
     "duration": 0.066039,
     "end_time": "2022-05-22T09:02:37.216448",
     "exception": false,
     "start_time": "2022-05-22T09:02:37.150409",
     "status": "completed"
    },
    "tags": []
   },
   "source": [
    "`Cabin` feature is no more required. Therefore, we will proceed to remove it."
   ]
  },
  {
   "cell_type": "code",
   "execution_count": 25,
   "id": "cab11c4f",
   "metadata": {
    "execution": {
     "iopub.execute_input": "2022-05-22T09:02:37.351049Z",
     "iopub.status.busy": "2022-05-22T09:02:37.350197Z",
     "iopub.status.idle": "2022-05-22T09:02:37.359531Z",
     "shell.execute_reply": "2022-05-22T09:02:37.358773Z"
    },
    "papermill": {
     "duration": 0.078939,
     "end_time": "2022-05-22T09:02:37.361344",
     "exception": false,
     "start_time": "2022-05-22T09:02:37.282405",
     "status": "completed"
    },
    "tags": []
   },
   "outputs": [],
   "source": [
    "train_df_1.drop('Cabin', axis=1, inplace=True)\n",
    "valid_df.drop('Cabin', axis=1, inplace=True)\n",
    "test_df.drop('Cabin', axis=1, inplace=True)"
   ]
  },
  {
   "cell_type": "markdown",
   "id": "3cb4fec2",
   "metadata": {
    "papermill": {
     "duration": 0.066064,
     "end_time": "2022-05-22T09:02:37.492846",
     "exception": false,
     "start_time": "2022-05-22T09:02:37.426782",
     "status": "completed"
    },
    "tags": []
   },
   "source": [
    "More feature engineering can be done. But we will leave the other learners to come up with it."
   ]
  },
  {
   "cell_type": "markdown",
   "id": "e6874578",
   "metadata": {
    "papermill": {
     "duration": 0.066101,
     "end_time": "2022-05-22T09:02:37.624643",
     "exception": false,
     "start_time": "2022-05-22T09:02:37.558542",
     "status": "completed"
    },
    "tags": []
   },
   "source": [
    "Boolean values are not supported by tensorflow library. Therefore, we need to convert them into numerical values: 0 - False & 1 - True."
   ]
  },
  {
   "cell_type": "code",
   "execution_count": 26,
   "id": "8f9c7ac1",
   "metadata": {
    "execution": {
     "iopub.execute_input": "2022-05-22T09:02:37.757329Z",
     "iopub.status.busy": "2022-05-22T09:02:37.757046Z",
     "iopub.status.idle": "2022-05-22T09:02:37.765196Z",
     "shell.execute_reply": "2022-05-22T09:02:37.764292Z"
    },
    "papermill": {
     "duration": 0.0768,
     "end_time": "2022-05-22T09:02:37.766965",
     "exception": false,
     "start_time": "2022-05-22T09:02:37.690165",
     "status": "completed"
    },
    "tags": []
   },
   "outputs": [],
   "source": [
    "transported = {True: 1, False: 0}\n",
    "train_df_1['Transported'] = train_df_1['Transported'].map(transported)\n",
    "valid_df['Transported'] = valid_df['Transported'].map(transported)"
   ]
  },
  {
   "cell_type": "code",
   "execution_count": 27,
   "id": "77db45d8",
   "metadata": {
    "execution": {
     "iopub.execute_input": "2022-05-22T09:02:37.903139Z",
     "iopub.status.busy": "2022-05-22T09:02:37.902864Z",
     "iopub.status.idle": "2022-05-22T09:02:37.913755Z",
     "shell.execute_reply": "2022-05-22T09:02:37.912925Z"
    },
    "papermill": {
     "duration": 0.082018,
     "end_time": "2022-05-22T09:02:37.915634",
     "exception": false,
     "start_time": "2022-05-22T09:02:37.833616",
     "status": "completed"
    },
    "tags": []
   },
   "outputs": [],
   "source": [
    "cryosleep = {True: 1, False: 0}\n",
    "train_df_1['CryoSleep'] = train_df_1['CryoSleep'].map(cryosleep)\n",
    "valid_df['CryoSleep'] = valid_df['CryoSleep'].map(cryosleep)\n",
    "test_df['CryoSleep'] = test_df['CryoSleep'].map(cryosleep)"
   ]
  },
  {
   "cell_type": "code",
   "execution_count": 28,
   "id": "c9c1952f",
   "metadata": {
    "execution": {
     "iopub.execute_input": "2022-05-22T09:02:38.049114Z",
     "iopub.status.busy": "2022-05-22T09:02:38.048852Z",
     "iopub.status.idle": "2022-05-22T09:02:38.059131Z",
     "shell.execute_reply": "2022-05-22T09:02:38.058299Z"
    },
    "papermill": {
     "duration": 0.07915,
     "end_time": "2022-05-22T09:02:38.060973",
     "exception": false,
     "start_time": "2022-05-22T09:02:37.981823",
     "status": "completed"
    },
    "tags": []
   },
   "outputs": [],
   "source": [
    "is_vip = {True: 1, False: 0}\n",
    "train_df_1['VIP'] = train_df_1['VIP'].map(is_vip)\n",
    "valid_df['VIP'] = valid_df['VIP'].map(is_vip)\n",
    "test_df['VIP'] = test_df['VIP'].map(is_vip)"
   ]
  },
  {
   "cell_type": "code",
   "execution_count": 29,
   "id": "b74fdeb7",
   "metadata": {
    "execution": {
     "iopub.execute_input": "2022-05-22T09:02:38.199242Z",
     "iopub.status.busy": "2022-05-22T09:02:38.198954Z",
     "iopub.status.idle": "2022-05-22T09:02:38.219353Z",
     "shell.execute_reply": "2022-05-22T09:02:38.218492Z"
    },
    "papermill": {
     "duration": 0.091985,
     "end_time": "2022-05-22T09:02:38.221312",
     "exception": false,
     "start_time": "2022-05-22T09:02:38.129327",
     "status": "completed"
    },
    "tags": []
   },
   "outputs": [
    {
     "data": {
      "text/html": [
       "<div>\n",
       "<style scoped>\n",
       "    .dataframe tbody tr th:only-of-type {\n",
       "        vertical-align: middle;\n",
       "    }\n",
       "\n",
       "    .dataframe tbody tr th {\n",
       "        vertical-align: top;\n",
       "    }\n",
       "\n",
       "    .dataframe thead th {\n",
       "        text-align: right;\n",
       "    }\n",
       "</style>\n",
       "<table border=\"1\" class=\"dataframe\">\n",
       "  <thead>\n",
       "    <tr style=\"text-align: right;\">\n",
       "      <th></th>\n",
       "      <th>HomePlanet</th>\n",
       "      <th>CryoSleep</th>\n",
       "      <th>Destination</th>\n",
       "      <th>Age</th>\n",
       "      <th>VIP</th>\n",
       "      <th>RoomService</th>\n",
       "      <th>FoodCourt</th>\n",
       "      <th>ShoppingMall</th>\n",
       "      <th>Spa</th>\n",
       "      <th>VRDeck</th>\n",
       "      <th>Name</th>\n",
       "      <th>Transported</th>\n",
       "      <th>Group</th>\n",
       "      <th>Num_members</th>\n",
       "      <th>Deck</th>\n",
       "      <th>Cabin_num</th>\n",
       "      <th>Side</th>\n",
       "    </tr>\n",
       "  </thead>\n",
       "  <tbody>\n",
       "    <tr>\n",
       "      <th>6052</th>\n",
       "      <td>Earth</td>\n",
       "      <td>1.0</td>\n",
       "      <td>TRAPPIST-1e</td>\n",
       "      <td>0.0</td>\n",
       "      <td>0.0</td>\n",
       "      <td>0.0</td>\n",
       "      <td>0.0</td>\n",
       "      <td>0.0</td>\n",
       "      <td>0.0</td>\n",
       "      <td>0.0</td>\n",
       "      <td>Paulah Knoxonway</td>\n",
       "      <td>1</td>\n",
       "      <td>6402</td>\n",
       "      <td>3</td>\n",
       "      <td>G</td>\n",
       "      <td>1032</td>\n",
       "      <td>P</td>\n",
       "    </tr>\n",
       "    <tr>\n",
       "      <th>4409</th>\n",
       "      <td>Mars</td>\n",
       "      <td>1.0</td>\n",
       "      <td>TRAPPIST-1e</td>\n",
       "      <td>2.0</td>\n",
       "      <td>0.0</td>\n",
       "      <td>0.0</td>\n",
       "      <td>0.0</td>\n",
       "      <td>0.0</td>\n",
       "      <td>0.0</td>\n",
       "      <td>0.0</td>\n",
       "      <td>Watros Colte</td>\n",
       "      <td>1</td>\n",
       "      <td>4680</td>\n",
       "      <td>2</td>\n",
       "      <td>F</td>\n",
       "      <td>952</td>\n",
       "      <td>P</td>\n",
       "    </tr>\n",
       "    <tr>\n",
       "      <th>8033</th>\n",
       "      <td>Earth</td>\n",
       "      <td>1.0</td>\n",
       "      <td>PSO J318.5-22</td>\n",
       "      <td>39.0</td>\n",
       "      <td>0.0</td>\n",
       "      <td>0.0</td>\n",
       "      <td>0.0</td>\n",
       "      <td>0.0</td>\n",
       "      <td>0.0</td>\n",
       "      <td>0.0</td>\n",
       "      <td>Eriana Mcbriggins</td>\n",
       "      <td>1</td>\n",
       "      <td>8598</td>\n",
       "      <td>2</td>\n",
       "      <td>G</td>\n",
       "      <td>1394</td>\n",
       "      <td>P</td>\n",
       "    </tr>\n",
       "  </tbody>\n",
       "</table>\n",
       "</div>"
      ],
      "text/plain": [
       "     HomePlanet  CryoSleep    Destination   Age  VIP  RoomService  FoodCourt  \\\n",
       "6052      Earth        1.0    TRAPPIST-1e   0.0  0.0          0.0        0.0   \n",
       "4409       Mars        1.0    TRAPPIST-1e   2.0  0.0          0.0        0.0   \n",
       "8033      Earth        1.0  PSO J318.5-22  39.0  0.0          0.0        0.0   \n",
       "\n",
       "      ShoppingMall  Spa  VRDeck               Name  Transported Group  \\\n",
       "6052           0.0  0.0     0.0   Paulah Knoxonway            1  6402   \n",
       "4409           0.0  0.0     0.0       Watros Colte            1  4680   \n",
       "8033           0.0  0.0     0.0  Eriana Mcbriggins            1  8598   \n",
       "\n",
       "      Num_members Deck Cabin_num Side  \n",
       "6052            3    G      1032    P  \n",
       "4409            2    F       952    P  \n",
       "8033            2    G      1394    P  "
      ]
     },
     "execution_count": 29,
     "metadata": {},
     "output_type": "execute_result"
    }
   ],
   "source": [
    "train_df_1.sample(3, random_state=42)"
   ]
  },
  {
   "cell_type": "code",
   "execution_count": 30,
   "id": "9e724731",
   "metadata": {
    "execution": {
     "iopub.execute_input": "2022-05-22T09:02:38.356041Z",
     "iopub.status.busy": "2022-05-22T09:02:38.355721Z",
     "iopub.status.idle": "2022-05-22T09:02:38.376322Z",
     "shell.execute_reply": "2022-05-22T09:02:38.375716Z"
    },
    "papermill": {
     "duration": 0.090284,
     "end_time": "2022-05-22T09:02:38.377919",
     "exception": false,
     "start_time": "2022-05-22T09:02:38.287635",
     "status": "completed"
    },
    "tags": []
   },
   "outputs": [
    {
     "data": {
      "text/html": [
       "<div>\n",
       "<style scoped>\n",
       "    .dataframe tbody tr th:only-of-type {\n",
       "        vertical-align: middle;\n",
       "    }\n",
       "\n",
       "    .dataframe tbody tr th {\n",
       "        vertical-align: top;\n",
       "    }\n",
       "\n",
       "    .dataframe thead th {\n",
       "        text-align: right;\n",
       "    }\n",
       "</style>\n",
       "<table border=\"1\" class=\"dataframe\">\n",
       "  <thead>\n",
       "    <tr style=\"text-align: right;\">\n",
       "      <th></th>\n",
       "      <th>HomePlanet</th>\n",
       "      <th>CryoSleep</th>\n",
       "      <th>Destination</th>\n",
       "      <th>Age</th>\n",
       "      <th>VIP</th>\n",
       "      <th>RoomService</th>\n",
       "      <th>FoodCourt</th>\n",
       "      <th>ShoppingMall</th>\n",
       "      <th>Spa</th>\n",
       "      <th>VRDeck</th>\n",
       "      <th>Name</th>\n",
       "      <th>Transported</th>\n",
       "      <th>Group</th>\n",
       "      <th>Num_members</th>\n",
       "      <th>Deck</th>\n",
       "      <th>Cabin_num</th>\n",
       "      <th>Side</th>\n",
       "    </tr>\n",
       "  </thead>\n",
       "  <tbody>\n",
       "    <tr>\n",
       "      <th>3731</th>\n",
       "      <td>Earth</td>\n",
       "      <td>0.0</td>\n",
       "      <td>NaN</td>\n",
       "      <td>34.0</td>\n",
       "      <td>0.0</td>\n",
       "      <td>0.0</td>\n",
       "      <td>847.0</td>\n",
       "      <td>14.0</td>\n",
       "      <td>0.0</td>\n",
       "      <td>0.0</td>\n",
       "      <td>Brancy Lowelliott</td>\n",
       "      <td>1</td>\n",
       "      <td>4001</td>\n",
       "      <td>5</td>\n",
       "      <td>F</td>\n",
       "      <td>758</td>\n",
       "      <td>S</td>\n",
       "    </tr>\n",
       "    <tr>\n",
       "      <th>4043</th>\n",
       "      <td>Earth</td>\n",
       "      <td>0.0</td>\n",
       "      <td>TRAPPIST-1e</td>\n",
       "      <td>48.0</td>\n",
       "      <td>0.0</td>\n",
       "      <td>2.0</td>\n",
       "      <td>0.0</td>\n",
       "      <td>83.0</td>\n",
       "      <td>589.0</td>\n",
       "      <td>233.0</td>\n",
       "      <td>Kimmie Nobleyes</td>\n",
       "      <td>0</td>\n",
       "      <td>4319</td>\n",
       "      <td>1</td>\n",
       "      <td>G</td>\n",
       "      <td>711</td>\n",
       "      <td>P</td>\n",
       "    </tr>\n",
       "    <tr>\n",
       "      <th>226</th>\n",
       "      <td>Earth</td>\n",
       "      <td>1.0</td>\n",
       "      <td>TRAPPIST-1e</td>\n",
       "      <td>21.0</td>\n",
       "      <td>0.0</td>\n",
       "      <td>0.0</td>\n",
       "      <td>0.0</td>\n",
       "      <td>0.0</td>\n",
       "      <td>0.0</td>\n",
       "      <td>0.0</td>\n",
       "      <td>Lilace Cartyernan</td>\n",
       "      <td>0</td>\n",
       "      <td>0243</td>\n",
       "      <td>1</td>\n",
       "      <td>G</td>\n",
       "      <td>37</td>\n",
       "      <td>S</td>\n",
       "    </tr>\n",
       "  </tbody>\n",
       "</table>\n",
       "</div>"
      ],
      "text/plain": [
       "     HomePlanet  CryoSleep  Destination   Age  VIP  RoomService  FoodCourt  \\\n",
       "3731      Earth        0.0          NaN  34.0  0.0          0.0      847.0   \n",
       "4043      Earth        0.0  TRAPPIST-1e  48.0  0.0          2.0        0.0   \n",
       "226       Earth        1.0  TRAPPIST-1e  21.0  0.0          0.0        0.0   \n",
       "\n",
       "      ShoppingMall    Spa  VRDeck               Name  Transported Group  \\\n",
       "3731          14.0    0.0     0.0  Brancy Lowelliott            1  4001   \n",
       "4043          83.0  589.0   233.0    Kimmie Nobleyes            0  4319   \n",
       "226            0.0    0.0     0.0  Lilace Cartyernan            0  0243   \n",
       "\n",
       "      Num_members Deck Cabin_num Side  \n",
       "3731            5    F       758    S  \n",
       "4043            1    G       711    P  \n",
       "226             1    G        37    S  "
      ]
     },
     "execution_count": 30,
     "metadata": {},
     "output_type": "execute_result"
    }
   ],
   "source": [
    "valid_df.sample(3, random_state=42)"
   ]
  },
  {
   "cell_type": "code",
   "execution_count": 31,
   "id": "1fadb427",
   "metadata": {
    "execution": {
     "iopub.execute_input": "2022-05-22T09:02:38.513418Z",
     "iopub.status.busy": "2022-05-22T09:02:38.513123Z",
     "iopub.status.idle": "2022-05-22T09:02:38.531338Z",
     "shell.execute_reply": "2022-05-22T09:02:38.530836Z"
    },
    "papermill": {
     "duration": 0.088877,
     "end_time": "2022-05-22T09:02:38.533021",
     "exception": false,
     "start_time": "2022-05-22T09:02:38.444144",
     "status": "completed"
    },
    "tags": []
   },
   "outputs": [
    {
     "data": {
      "text/html": [
       "<div>\n",
       "<style scoped>\n",
       "    .dataframe tbody tr th:only-of-type {\n",
       "        vertical-align: middle;\n",
       "    }\n",
       "\n",
       "    .dataframe tbody tr th {\n",
       "        vertical-align: top;\n",
       "    }\n",
       "\n",
       "    .dataframe thead th {\n",
       "        text-align: right;\n",
       "    }\n",
       "</style>\n",
       "<table border=\"1\" class=\"dataframe\">\n",
       "  <thead>\n",
       "    <tr style=\"text-align: right;\">\n",
       "      <th></th>\n",
       "      <th>HomePlanet</th>\n",
       "      <th>CryoSleep</th>\n",
       "      <th>Destination</th>\n",
       "      <th>Age</th>\n",
       "      <th>VIP</th>\n",
       "      <th>RoomService</th>\n",
       "      <th>FoodCourt</th>\n",
       "      <th>ShoppingMall</th>\n",
       "      <th>Spa</th>\n",
       "      <th>VRDeck</th>\n",
       "      <th>Name</th>\n",
       "      <th>Group</th>\n",
       "      <th>Num_members</th>\n",
       "      <th>Deck</th>\n",
       "      <th>Cabin_num</th>\n",
       "      <th>Side</th>\n",
       "    </tr>\n",
       "  </thead>\n",
       "  <tbody>\n",
       "    <tr>\n",
       "      <th>489</th>\n",
       "      <td>Earth</td>\n",
       "      <td>0.0</td>\n",
       "      <td>TRAPPIST-1e</td>\n",
       "      <td>27.0</td>\n",
       "      <td>NaN</td>\n",
       "      <td>54.0</td>\n",
       "      <td>47.0</td>\n",
       "      <td>630.0</td>\n",
       "      <td>0.0</td>\n",
       "      <td>53.0</td>\n",
       "      <td>Hilly Booneid</td>\n",
       "      <td>1055</td>\n",
       "      <td>1</td>\n",
       "      <td>G</td>\n",
       "      <td>158</td>\n",
       "      <td>P</td>\n",
       "    </tr>\n",
       "    <tr>\n",
       "      <th>3552</th>\n",
       "      <td>Earth</td>\n",
       "      <td>0.0</td>\n",
       "      <td>TRAPPIST-1e</td>\n",
       "      <td>43.0</td>\n",
       "      <td>0.0</td>\n",
       "      <td>8.0</td>\n",
       "      <td>0.0</td>\n",
       "      <td>0.0</td>\n",
       "      <td>780.0</td>\n",
       "      <td>0.0</td>\n",
       "      <td>Sandie Thorney</td>\n",
       "      <td>7732</td>\n",
       "      <td>1</td>\n",
       "      <td>NaN</td>\n",
       "      <td>NaN</td>\n",
       "      <td>NaN</td>\n",
       "    </tr>\n",
       "    <tr>\n",
       "      <th>91</th>\n",
       "      <td>Earth</td>\n",
       "      <td>0.0</td>\n",
       "      <td>PSO J318.5-22</td>\n",
       "      <td>29.0</td>\n",
       "      <td>0.0</td>\n",
       "      <td>1669.0</td>\n",
       "      <td>2.0</td>\n",
       "      <td>242.0</td>\n",
       "      <td>155.0</td>\n",
       "      <td>0.0</td>\n",
       "      <td>Gracy Goldendrice</td>\n",
       "      <td>0204</td>\n",
       "      <td>1</td>\n",
       "      <td>F</td>\n",
       "      <td>43</td>\n",
       "      <td>P</td>\n",
       "    </tr>\n",
       "  </tbody>\n",
       "</table>\n",
       "</div>"
      ],
      "text/plain": [
       "     HomePlanet  CryoSleep    Destination   Age  VIP  RoomService  FoodCourt  \\\n",
       "489       Earth        0.0    TRAPPIST-1e  27.0  NaN         54.0       47.0   \n",
       "3552      Earth        0.0    TRAPPIST-1e  43.0  0.0          8.0        0.0   \n",
       "91        Earth        0.0  PSO J318.5-22  29.0  0.0       1669.0        2.0   \n",
       "\n",
       "      ShoppingMall    Spa  VRDeck               Name Group  Num_members Deck  \\\n",
       "489          630.0    0.0    53.0      Hilly Booneid  1055            1    G   \n",
       "3552           0.0  780.0     0.0     Sandie Thorney  7732            1  NaN   \n",
       "91           242.0  155.0     0.0  Gracy Goldendrice  0204            1    F   \n",
       "\n",
       "     Cabin_num Side  \n",
       "489        158    P  \n",
       "3552       NaN  NaN  \n",
       "91          43    P  "
      ]
     },
     "execution_count": 31,
     "metadata": {},
     "output_type": "execute_result"
    }
   ],
   "source": [
    "test_df.sample(3, random_state=41)"
   ]
  },
  {
   "cell_type": "markdown",
   "id": "034c671c",
   "metadata": {
    "papermill": {
     "duration": 0.067919,
     "end_time": "2022-05-22T09:02:38.669484",
     "exception": false,
     "start_time": "2022-05-22T09:02:38.601565",
     "status": "completed"
    },
    "tags": []
   },
   "source": [
    "Now, the dataset is ready to be converted into tensorflow datasets."
   ]
  },
  {
   "cell_type": "code",
   "execution_count": 32,
   "id": "49e15eec",
   "metadata": {
    "execution": {
     "iopub.execute_input": "2022-05-22T09:02:38.806310Z",
     "iopub.status.busy": "2022-05-22T09:02:38.805127Z",
     "iopub.status.idle": "2022-05-22T09:02:38.903357Z",
     "shell.execute_reply": "2022-05-22T09:02:38.902769Z"
    },
    "papermill": {
     "duration": 0.168554,
     "end_time": "2022-05-22T09:02:38.905078",
     "exception": false,
     "start_time": "2022-05-22T09:02:38.736524",
     "status": "completed"
    },
    "tags": []
   },
   "outputs": [
    {
     "name": "stderr",
     "output_type": "stream",
     "text": [
      "/opt/conda/lib/python3.7/site-packages/tensorflow_decision_forests/keras/core.py:2533: FutureWarning: In a future version of pandas all arguments of DataFrame.drop except for the argument 'labels' will be keyword-only\n",
      "  features_dataframe = dataframe.drop(label, 1)\n",
      "2022-05-22 09:02:38.823001: W tensorflow/stream_executor/platform/default/dso_loader.cc:64] Could not load dynamic library 'libcuda.so.1'; dlerror: libcuda.so.1: cannot open shared object file: No such file or directory; LD_LIBRARY_PATH: /usr/local/cuda/lib64:/usr/local/cuda/lib:/usr/local/lib/x86_64-linux-gnu:/usr/local/nvidia/lib:/usr/local/nvidia/lib64:\n",
      "2022-05-22 09:02:38.823056: W tensorflow/stream_executor/cuda/cuda_driver.cc:269] failed call to cuInit: UNKNOWN ERROR (303)\n",
      "2022-05-22 09:02:38.823090: I tensorflow/stream_executor/cuda/cuda_diagnostics.cc:156] kernel driver does not appear to be running on this host (0394041dfb6b): /proc/driver/nvidia/version does not exist\n",
      "2022-05-22 09:02:38.823476: I tensorflow/core/platform/cpu_feature_guard.cc:193] This TensorFlow binary is optimized with oneAPI Deep Neural Network Library (oneDNN) to use the following CPU instructions in performance-critical operations:  AVX2 FMA\n",
      "To enable them in other operations, rebuild TensorFlow with the appropriate compiler flags.\n"
     ]
    }
   ],
   "source": [
    "train_ds = tfdf.keras.pd_dataframe_to_tf_dataset(train_df_1, label=\"Transported\")\n",
    "validation_ds = tfdf.keras.pd_dataframe_to_tf_dataset(valid_df, label=\"Transported\")\n",
    "test_ds = tfdf.keras.pd_dataframe_to_tf_dataset(test_df)"
   ]
  },
  {
   "cell_type": "markdown",
   "id": "a43c6718",
   "metadata": {
    "papermill": {
     "duration": 0.067777,
     "end_time": "2022-05-22T09:02:39.042754",
     "exception": false,
     "start_time": "2022-05-22T09:02:38.974977",
     "status": "completed"
    },
    "tags": []
   },
   "source": [
    "## 5. Training Model using TensorFlow Decision Forests"
   ]
  },
  {
   "cell_type": "markdown",
   "id": "81814ec2",
   "metadata": {
    "papermill": {
     "duration": 0.068672,
     "end_time": "2022-05-22T09:02:39.179424",
     "exception": false,
     "start_time": "2022-05-22T09:02:39.110752",
     "status": "completed"
    },
    "tags": []
   },
   "source": [
    "### 5.1 Using RandomForestModel "
   ]
  },
  {
   "cell_type": "code",
   "execution_count": 33,
   "id": "4751b5bb",
   "metadata": {
    "execution": {
     "iopub.execute_input": "2022-05-22T09:02:39.322640Z",
     "iopub.status.busy": "2022-05-22T09:02:39.322163Z",
     "iopub.status.idle": "2022-05-22T09:03:31.567376Z",
     "shell.execute_reply": "2022-05-22T09:03:31.566008Z"
    },
    "papermill": {
     "duration": 52.322237,
     "end_time": "2022-05-22T09:03:31.569290",
     "exception": false,
     "start_time": "2022-05-22T09:02:39.247053",
     "status": "completed"
    },
    "tags": []
   },
   "outputs": [
    {
     "name": "stdout",
     "output_type": "stream",
     "text": [
      "Use /tmp/tmpyrp8mova as temporary training directory\n",
      "Reading training dataset...\n",
      "Training dataset read in 0:00:04.458964. Found 6954 examples.\n",
      "Training model...\n"
     ]
    },
    {
     "name": "stderr",
     "output_type": "stream",
     "text": [
      "[INFO kernel.cc:1176] Loading model from path /tmp/tmpyrp8mova/model/ with prefix 327df21108e0411e\n"
     ]
    },
    {
     "name": "stdout",
     "output_type": "stream",
     "text": [
      "Model trained in 0:00:45.085876\n",
      "Compiling model...\n"
     ]
    },
    {
     "name": "stderr",
     "output_type": "stream",
     "text": [
      "[INFO abstract_model.cc:1158] Engine \"RandomForestGeneric\" built\n",
      "[INFO kernel.cc:1022] Use fast generic engine\n"
     ]
    },
    {
     "name": "stdout",
     "output_type": "stream",
     "text": [
      "WARNING: AutoGraph could not transform <function simple_ml_inference_op_with_handle at 0x7f31d4873560> and will run it as-is.\n",
      "Please report this to the TensorFlow team. When filing the bug, set the verbosity to 10 (on Linux, `export AUTOGRAPH_VERBOSITY=10`) and attach the full output.\n",
      "Cause: could not get source code\n",
      "To silence this warning, decorate the function with @tf.autograph.experimental.do_not_convert\n",
      "Model compiled.\n",
      "2/2 [==============================] - 1s 56ms/step - loss: 0.0000e+00 - accuracy: 0.8005\n",
      "\n",
      "loss: 0.0000\n",
      "accuracy: 0.8005\n"
     ]
    }
   ],
   "source": [
    "# Specify the model.\n",
    "model_1 = tfdf.keras.RandomForestModel()\n",
    "\n",
    "# Train the model.\n",
    "model_1.fit(x=train_ds)\n",
    "\n",
    "# Evaluate the model\n",
    "model_1.compile(metrics=[\"accuracy\"])\n",
    "evaluation = model_1.evaluate(validation_ds, return_dict=True)\n",
    "print()\n",
    "\n",
    "for name, value in evaluation.items():\n",
    "    print(f\"{name}: {value:.4f}\")"
   ]
  },
  {
   "cell_type": "markdown",
   "id": "488d127b",
   "metadata": {
    "papermill": {
     "duration": 0.071365,
     "end_time": "2022-05-22T09:03:31.712969",
     "exception": false,
     "start_time": "2022-05-22T09:03:31.641604",
     "status": "completed"
    },
    "tags": []
   },
   "source": [
    "For a base model, 80% is a good score. Lets perform Hyperparameter Tuning and evaluate the accuracy."
   ]
  },
  {
   "cell_type": "code",
   "execution_count": 34,
   "id": "d298c5e3",
   "metadata": {
    "execution": {
     "iopub.execute_input": "2022-05-22T09:03:31.858716Z",
     "iopub.status.busy": "2022-05-22T09:03:31.858188Z",
     "iopub.status.idle": "2022-05-22T09:04:21.243219Z",
     "shell.execute_reply": "2022-05-22T09:04:21.242176Z"
    },
    "papermill": {
     "duration": 49.462789,
     "end_time": "2022-05-22T09:04:21.247225",
     "exception": false,
     "start_time": "2022-05-22T09:03:31.784436",
     "status": "completed"
    },
    "tags": []
   },
   "outputs": [
    {
     "name": "stdout",
     "output_type": "stream",
     "text": [
      "Use /tmp/tmpuu1z0pk9 as temporary training directory\n",
      "Reading training dataset...\n",
      "Training dataset read in 0:00:00.322449. Found 6954 examples.\n",
      "Training model...\n",
      "Model trained in 0:00:48.386144\n",
      "Compiling model...\n"
     ]
    },
    {
     "name": "stderr",
     "output_type": "stream",
     "text": [
      "[INFO kernel.cc:1176] Loading model from path /tmp/tmpuu1z0pk9/model/ with prefix f2d407938e4641e3\n",
      "[INFO abstract_model.cc:1158] Engine \"RandomForestGeneric\" built\n",
      "[INFO kernel.cc:1022] Use fast generic engine\n"
     ]
    },
    {
     "name": "stdout",
     "output_type": "stream",
     "text": [
      "Model compiled.\n",
      "2/2 [==============================] - 0s 40ms/step - loss: 0.0000e+00 - accuracy: 0.8010\n",
      "\n",
      "loss: 0.0000\n",
      "accuracy: 0.8010\n"
     ]
    }
   ],
   "source": [
    "model_2 = tfdf.keras.RandomForestModel(\n",
    "    num_trees=300,\n",
    "    growing_strategy=\"BEST_FIRST_GLOBAL\",\n",
    "    max_depth=11,\n",
    "    split_axis=\"SPARSE_OBLIQUE\",\n",
    "    categorical_algorithm=\"RANDOM\",\n",
    ")\n",
    "\n",
    "# Train the model.\n",
    "model_2.fit(x=train_ds)\n",
    "\n",
    "# Evaluate the model\n",
    "model_2.compile(metrics=[\"accuracy\"])\n",
    "evaluation = model_2.evaluate(validation_ds, return_dict=True)\n",
    "print()\n",
    "\n",
    "for name, value in evaluation.items():\n",
    "    print(f\"{name}: {value:.4f}\")"
   ]
  },
  {
   "cell_type": "markdown",
   "id": "2acb338f",
   "metadata": {
    "papermill": {
     "duration": 0.087394,
     "end_time": "2022-05-22T09:04:21.429584",
     "exception": false,
     "start_time": "2022-05-22T09:04:21.342190",
     "status": "completed"
    },
    "tags": []
   },
   "source": [
    "It gets cumbersome to manually enter values and change the default parameters to get best accuracy score though. Google developers we already came up with good combinations of the hyperparameters that gives better results than default parameters which has been indexed and are available as hyperparameter templates."
   ]
  },
  {
   "cell_type": "code",
   "execution_count": 35,
   "id": "697bd96c",
   "metadata": {
    "execution": {
     "iopub.execute_input": "2022-05-22T09:04:21.593158Z",
     "iopub.status.busy": "2022-05-22T09:04:21.590426Z",
     "iopub.status.idle": "2022-05-22T09:04:21.605387Z",
     "shell.execute_reply": "2022-05-22T09:04:21.604810Z"
    },
    "papermill": {
     "duration": 0.101101,
     "end_time": "2022-05-22T09:04:21.607339",
     "exception": false,
     "start_time": "2022-05-22T09:04:21.506238",
     "status": "completed"
    },
    "tags": []
   },
   "outputs": [
    {
     "name": "stdout",
     "output_type": "stream",
     "text": [
      "[HyperParameterTemplate(name='better_default', version=1, parameters={'winner_take_all': True}, description='A configuration that is generally better than the default parameters without being more expensive.'), HyperParameterTemplate(name='benchmark_rank1', version=1, parameters={'winner_take_all': True, 'categorical_algorithm': 'RANDOM', 'split_axis': 'SPARSE_OBLIQUE', 'sparse_oblique_normalization': 'MIN_MAX', 'sparse_oblique_num_projections_exponent': 1.0}, description='Top ranking hyper-parameters on our benchmark slightly modified to run in reasonable time.')]\n"
     ]
    }
   ],
   "source": [
    "# The hyper-parameter templates of the Random Forest Tree model.\n",
    "print(tfdf.keras.RandomForestModel.predefined_hyperparameters())"
   ]
  },
  {
   "cell_type": "code",
   "execution_count": 36,
   "id": "b2c83b35",
   "metadata": {
    "execution": {
     "iopub.execute_input": "2022-05-22T09:04:21.791408Z",
     "iopub.status.busy": "2022-05-22T09:04:21.791166Z",
     "iopub.status.idle": "2022-05-22T09:05:44.369278Z",
     "shell.execute_reply": "2022-05-22T09:05:44.368715Z"
    },
    "papermill": {
     "duration": 82.689163,
     "end_time": "2022-05-22T09:05:44.397999",
     "exception": false,
     "start_time": "2022-05-22T09:04:21.708836",
     "status": "completed"
    },
    "tags": []
   },
   "outputs": [
    {
     "name": "stdout",
     "output_type": "stream",
     "text": [
      "Resolve hyper-parameter template \"better_default\" to \"better_default@v1\" -> {'winner_take_all': True}.\n",
      "Use /tmp/tmp3aaxxwm6 as temporary training directory\n",
      "Reading training dataset...\n",
      "Training dataset read in 0:00:00.447630. Found 6954 examples.\n",
      "Training model...\n"
     ]
    },
    {
     "name": "stderr",
     "output_type": "stream",
     "text": [
      "[INFO kernel.cc:1176] Loading model from path /tmp/tmp3aaxxwm6/model/ with prefix 201d5b76981841f0\n"
     ]
    },
    {
     "name": "stdout",
     "output_type": "stream",
     "text": [
      "Model trained in 0:00:46.502137\n",
      "Compiling model...\n"
     ]
    },
    {
     "name": "stderr",
     "output_type": "stream",
     "text": [
      "[INFO abstract_model.cc:1158] Engine \"RandomForestGeneric\" built\n",
      "[INFO kernel.cc:1022] Use fast generic engine\n"
     ]
    },
    {
     "name": "stdout",
     "output_type": "stream",
     "text": [
      "Model compiled.\n",
      "2/2 [==============================] - 0s 56ms/step - loss: 0.0000e+00 - accuracy: 0.8005\n",
      "\n",
      "loss: 0.0000\n",
      "accuracy: 0.8005\n"
     ]
    }
   ],
   "source": [
    "# Specify the model.\n",
    "model_3 = tfdf.keras.RandomForestModel(hyperparameter_template=\"better_default\")\n",
    "\n",
    "# Train the model.\n",
    "model_3.fit(x=train_ds)\n",
    "\n",
    "# Evaluate the model\n",
    "model_3.compile(metrics=[\"accuracy\"])\n",
    "evaluation = model_3.evaluate(validation_ds, return_dict=True)\n",
    "print()\n",
    "\n",
    "for name, value in evaluation.items():\n",
    "    print(f\"{name}: {value:.4f}\")"
   ]
  },
  {
   "cell_type": "code",
   "execution_count": 37,
   "id": "81abf5c7",
   "metadata": {
    "execution": {
     "iopub.execute_input": "2022-05-22T09:05:44.563981Z",
     "iopub.status.busy": "2022-05-22T09:05:44.562992Z",
     "iopub.status.idle": "2022-05-22T09:06:31.506116Z",
     "shell.execute_reply": "2022-05-22T09:06:31.505064Z"
    },
    "papermill": {
     "duration": 47.028952,
     "end_time": "2022-05-22T09:06:31.508586",
     "exception": false,
     "start_time": "2022-05-22T09:05:44.479634",
     "status": "completed"
    },
    "tags": []
   },
   "outputs": [
    {
     "name": "stdout",
     "output_type": "stream",
     "text": [
      "Resolve hyper-parameter template \"benchmark_rank1\" to \"benchmark_rank1@v1\" -> {'winner_take_all': True, 'categorical_algorithm': 'RANDOM', 'split_axis': 'SPARSE_OBLIQUE', 'sparse_oblique_normalization': 'MIN_MAX', 'sparse_oblique_num_projections_exponent': 1.0}.\n",
      "Use /tmp/tmp_r_bfk5x as temporary training directory\n",
      "Reading training dataset...\n",
      "Training dataset read in 0:00:00.316884. Found 6954 examples.\n",
      "Training model...\n"
     ]
    },
    {
     "name": "stderr",
     "output_type": "stream",
     "text": [
      "[INFO kernel.cc:1176] Loading model from path /tmp/tmp_r_bfk5x/model/ with prefix a6420b4494394397\n"
     ]
    },
    {
     "name": "stdout",
     "output_type": "stream",
     "text": [
      "Model trained in 0:00:45.719386\n",
      "Compiling model...\n"
     ]
    },
    {
     "name": "stderr",
     "output_type": "stream",
     "text": [
      "[INFO abstract_model.cc:1158] Engine \"RandomForestGeneric\" built\n",
      "[INFO kernel.cc:1022] Use fast generic engine\n"
     ]
    },
    {
     "name": "stdout",
     "output_type": "stream",
     "text": [
      "Model compiled.\n",
      "2/2 [==============================] - 0s 83ms/step - loss: 0.0000e+00 - accuracy: 0.8016\n",
      "\n",
      "loss: 0.0000\n",
      "accuracy: 0.8016\n"
     ]
    }
   ],
   "source": [
    "# Specify the model.\n",
    "model_4 = tfdf.keras.RandomForestModel(hyperparameter_template=\"benchmark_rank1\")\n",
    "\n",
    "# Train the model.\n",
    "model_4.fit(x=train_ds)\n",
    "\n",
    "# Evaluate the model\n",
    "model_4.compile(metrics=[\"accuracy\"])\n",
    "evaluation = model_4.evaluate(validation_ds, return_dict=True)\n",
    "print()\n",
    "\n",
    "for name, value in evaluation.items():\n",
    "    print(f\"{name}: {value:.4f}\")"
   ]
  },
  {
   "cell_type": "markdown",
   "id": "b8e62559",
   "metadata": {
    "papermill": {
     "duration": 0.085165,
     "end_time": "2022-05-22T09:06:31.679584",
     "exception": false,
     "start_time": "2022-05-22T09:06:31.594419",
     "status": "completed"
    },
    "tags": []
   },
   "source": [
    "### 5.2 Using GradientBoostedTreesModel"
   ]
  },
  {
   "cell_type": "code",
   "execution_count": 38,
   "id": "bb0e9cf7",
   "metadata": {
    "execution": {
     "iopub.execute_input": "2022-05-22T09:06:31.850987Z",
     "iopub.status.busy": "2022-05-22T09:06:31.850191Z",
     "iopub.status.idle": "2022-05-22T09:07:07.584922Z",
     "shell.execute_reply": "2022-05-22T09:07:07.583890Z"
    },
    "papermill": {
     "duration": 35.822482,
     "end_time": "2022-05-22T09:07:07.587422",
     "exception": false,
     "start_time": "2022-05-22T09:06:31.764940",
     "status": "completed"
    },
    "tags": []
   },
   "outputs": [
    {
     "name": "stdout",
     "output_type": "stream",
     "text": [
      "Use /tmp/tmpu43v9zq6 as temporary training directory\n",
      "Reading training dataset...\n",
      "Training dataset read in 0:00:00.326610. Found 6954 examples.\n",
      "Training model...\n",
      "Model trained in 0:00:34.979475\n",
      "Compiling model...\n"
     ]
    },
    {
     "name": "stderr",
     "output_type": "stream",
     "text": [
      "[INFO kernel.cc:1176] Loading model from path /tmp/tmpu43v9zq6/model/ with prefix 0cd899c34a834719\n",
      "[INFO abstract_model.cc:1158] Engine \"GradientBoostedTreesQuickScorerExtended\" built\n",
      "[INFO kernel.cc:1022] Use fast generic engine\n"
     ]
    },
    {
     "name": "stdout",
     "output_type": "stream",
     "text": [
      "Model compiled.\n",
      "2/2 [==============================] - 0s 6ms/step - loss: 0.0000e+00 - accuracy: 0.8051\n",
      "\n",
      "loss: 0.0000\n",
      "accuracy: 0.8051\n"
     ]
    }
   ],
   "source": [
    "# Specify the model.\n",
    "model_5 = tfdf.keras.GradientBoostedTreesModel()\n",
    "\n",
    "# Train the model.\n",
    "model_5.fit(x=train_ds)\n",
    "\n",
    "# Evaluate the model\n",
    "model_5.compile(metrics=[\"accuracy\"])\n",
    "evaluation = model_5.evaluate(validation_ds, return_dict=True)\n",
    "print()\n",
    "\n",
    "for name, value in evaluation.items():\n",
    "    print(f\"{name}: {value:.4f}\")"
   ]
  },
  {
   "cell_type": "markdown",
   "id": "861e92c2",
   "metadata": {
    "papermill": {
     "duration": 0.085812,
     "end_time": "2022-05-22T09:07:07.759508",
     "exception": false,
     "start_time": "2022-05-22T09:07:07.673696",
     "status": "completed"
    },
    "tags": []
   },
   "source": [
    "Lets perform Hyperparameter Tuning and evaluate the accuracy."
   ]
  },
  {
   "cell_type": "code",
   "execution_count": 39,
   "id": "5e663479",
   "metadata": {
    "execution": {
     "iopub.execute_input": "2022-05-22T09:07:07.933004Z",
     "iopub.status.busy": "2022-05-22T09:07:07.932070Z",
     "iopub.status.idle": "2022-05-22T09:07:07.937587Z",
     "shell.execute_reply": "2022-05-22T09:07:07.936816Z"
    },
    "papermill": {
     "duration": 0.093858,
     "end_time": "2022-05-22T09:07:07.939558",
     "exception": false,
     "start_time": "2022-05-22T09:07:07.845700",
     "status": "completed"
    },
    "tags": []
   },
   "outputs": [
    {
     "name": "stdout",
     "output_type": "stream",
     "text": [
      "[HyperParameterTemplate(name='better_default', version=1, parameters={'growing_strategy': 'BEST_FIRST_GLOBAL'}, description='A configuration that is generally better than the default parameters without being more expensive.'), HyperParameterTemplate(name='benchmark_rank1', version=1, parameters={'growing_strategy': 'BEST_FIRST_GLOBAL', 'categorical_algorithm': 'RANDOM', 'split_axis': 'SPARSE_OBLIQUE', 'sparse_oblique_normalization': 'MIN_MAX', 'sparse_oblique_num_projections_exponent': 1.0}, description='Top ranking hyper-parameters on our benchmark slightly modified to run in reasonable time.')]\n"
     ]
    }
   ],
   "source": [
    "# The hyper-parameter templates of the Random Forest Tree model.\n",
    "print(tfdf.keras.GradientBoostedTreesModel.predefined_hyperparameters())"
   ]
  },
  {
   "cell_type": "code",
   "execution_count": 40,
   "id": "73a1f66e",
   "metadata": {
    "execution": {
     "iopub.execute_input": "2022-05-22T09:07:08.113581Z",
     "iopub.status.busy": "2022-05-22T09:07:08.112667Z",
     "iopub.status.idle": "2022-05-22T09:07:58.340530Z",
     "shell.execute_reply": "2022-05-22T09:07:58.339373Z"
    },
    "papermill": {
     "duration": 50.316602,
     "end_time": "2022-05-22T09:07:58.342418",
     "exception": false,
     "start_time": "2022-05-22T09:07:08.025816",
     "status": "completed"
    },
    "tags": []
   },
   "outputs": [
    {
     "name": "stdout",
     "output_type": "stream",
     "text": [
      "Resolve hyper-parameter template \"better_default\" to \"better_default@v1\" -> {'growing_strategy': 'BEST_FIRST_GLOBAL'}.\n",
      "Use /tmp/tmpxv1bmtn7 as temporary training directory\n",
      "Reading training dataset...\n",
      "Training dataset read in 0:00:00.314141. Found 6954 examples.\n",
      "Training model...\n",
      "Model trained in 0:00:49.503471\n",
      "Compiling model...\n"
     ]
    },
    {
     "name": "stderr",
     "output_type": "stream",
     "text": [
      "[INFO kernel.cc:1176] Loading model from path /tmp/tmpxv1bmtn7/model/ with prefix de7d2c98245e4a4e\n",
      "[INFO abstract_model.cc:1158] Engine \"GradientBoostedTreesQuickScorerExtended\" built\n",
      "[INFO kernel.cc:1022] Use fast generic engine\n"
     ]
    },
    {
     "name": "stdout",
     "output_type": "stream",
     "text": [
      "Model compiled.\n",
      "2/2 [==============================] - 0s 7ms/step - loss: 0.0000e+00 - accuracy: 0.7987\n",
      "\n",
      "loss: 0.0000\n",
      "accuracy: 0.7987\n"
     ]
    }
   ],
   "source": [
    "# Specify the model.\n",
    "model_6 = tfdf.keras.GradientBoostedTreesModel(hyperparameter_template=\"better_default\")\n",
    "\n",
    "# Train the model.\n",
    "model_6.fit(x=train_ds)\n",
    "\n",
    "# Evaluate the model\n",
    "model_6.compile(metrics=[\"accuracy\"])\n",
    "evaluation = model_6.evaluate(validation_ds, return_dict=True)\n",
    "print()\n",
    "\n",
    "for name, value in evaluation.items():\n",
    "    print(f\"{name}: {value:.4f}\")"
   ]
  },
  {
   "cell_type": "code",
   "execution_count": 41,
   "id": "d45f0e1d",
   "metadata": {
    "execution": {
     "iopub.execute_input": "2022-05-22T09:07:58.528357Z",
     "iopub.status.busy": "2022-05-22T09:07:58.528090Z",
     "iopub.status.idle": "2022-05-22T09:08:41.324496Z",
     "shell.execute_reply": "2022-05-22T09:08:41.323183Z"
    },
    "papermill": {
     "duration": 42.89336,
     "end_time": "2022-05-22T09:08:41.326471",
     "exception": false,
     "start_time": "2022-05-22T09:07:58.433111",
     "status": "completed"
    },
    "tags": []
   },
   "outputs": [
    {
     "name": "stdout",
     "output_type": "stream",
     "text": [
      "Resolve hyper-parameter template \"benchmark_rank1\" to \"benchmark_rank1@v1\" -> {'growing_strategy': 'BEST_FIRST_GLOBAL', 'categorical_algorithm': 'RANDOM', 'split_axis': 'SPARSE_OBLIQUE', 'sparse_oblique_normalization': 'MIN_MAX', 'sparse_oblique_num_projections_exponent': 1.0}.\n",
      "Use /tmp/tmpj97i_s7g as temporary training directory\n",
      "Reading training dataset...\n",
      "Training dataset read in 0:00:00.332283. Found 6954 examples.\n",
      "Training model...\n",
      "Model trained in 0:00:42.049529\n",
      "Compiling model...\n"
     ]
    },
    {
     "name": "stderr",
     "output_type": "stream",
     "text": [
      "[INFO kernel.cc:1176] Loading model from path /tmp/tmpj97i_s7g/model/ with prefix 60919bef5953462f\n",
      "[INFO abstract_model.cc:1158] Engine \"GradientBoostedTreesGeneric\" built\n",
      "[INFO kernel.cc:1022] Use fast generic engine\n"
     ]
    },
    {
     "name": "stdout",
     "output_type": "stream",
     "text": [
      "Model compiled.\n",
      "2/2 [==============================] - 0s 8ms/step - loss: 0.0000e+00 - accuracy: 0.7993\n",
      "\n",
      "loss: 0.0000\n",
      "accuracy: 0.7993\n"
     ]
    }
   ],
   "source": [
    "# Specify the model.\n",
    "model_7 = tfdf.keras.GradientBoostedTreesModel(hyperparameter_template=\"benchmark_rank1\")\n",
    "\n",
    "# Train the model.\n",
    "model_7.fit(x=train_ds)\n",
    "\n",
    "# Evaluate the model\n",
    "model_7.compile(metrics=[\"accuracy\"])\n",
    "evaluation = model_7.evaluate(validation_ds, return_dict=True)\n",
    "print()\n",
    "\n",
    "for name, value in evaluation.items():\n",
    "    print(f\"{name}: {value:.4f}\")"
   ]
  },
  {
   "cell_type": "markdown",
   "id": "8b70bc8b",
   "metadata": {
    "papermill": {
     "duration": 0.091983,
     "end_time": "2022-05-22T09:08:41.511106",
     "exception": false,
     "start_time": "2022-05-22T09:08:41.419123",
     "status": "completed"
    },
    "tags": []
   },
   "source": [
    "## 6. Conclusions and Recommendation\n",
    "\n",
    "Just by adjusting few parameter(s), we could see there was an improvement in accuracy for Random Forest Model but for Gradient Boosting Trees Model it is other way round. Model can be further improved by further performing feature engineering and do more rounds of hyperparameter tuning.As this competition just evaluates on accuracy, we are not evaluating this model based on other metrics such as: \n",
    "- Receiver Operating Characteristics(ROC) Curve\n",
    "- Precision, Recall and F1 or F-Beta score\n",
    "- Confusion Matrix\n",
    "\n",
    "Accuracy itself doesn't represent goodness of a model. Therefore, we need to perform above the metrics evaluation as well. This I am leaving upto the readers who will go through this notebook."
   ]
  },
  {
   "cell_type": "markdown",
   "id": "e7c89354",
   "metadata": {
    "papermill": {
     "duration": 0.09193,
     "end_time": "2022-05-22T09:08:41.695583",
     "exception": false,
     "start_time": "2022-05-22T09:08:41.603653",
     "status": "completed"
    },
    "tags": []
   },
   "source": [
    "## 7. Resources\n",
    "\n",
    "- Official Tensorflow Tutorial: https://www.tensorflow.org/decision_forests/tutorials/beginner_colab\n",
    "- Klib for EDA: https://klib.readthedocs.io/en/latest/"
   ]
  },
  {
   "cell_type": "markdown",
   "id": "4c2b74a8",
   "metadata": {
    "papermill": {
     "duration": 0.092529,
     "end_time": "2022-05-22T09:08:41.880878",
     "exception": false,
     "start_time": "2022-05-22T09:08:41.788349",
     "status": "completed"
    },
    "tags": []
   },
   "source": [
    "## 8. Submission"
   ]
  },
  {
   "cell_type": "code",
   "execution_count": 42,
   "id": "cee01262",
   "metadata": {
    "execution": {
     "iopub.execute_input": "2022-05-22T09:08:42.067524Z",
     "iopub.status.busy": "2022-05-22T09:08:42.067276Z",
     "iopub.status.idle": "2022-05-22T09:08:42.071560Z",
     "shell.execute_reply": "2022-05-22T09:08:42.070669Z"
    },
    "papermill": {
     "duration": 0.100293,
     "end_time": "2022-05-22T09:08:42.073440",
     "exception": false,
     "start_time": "2022-05-22T09:08:41.973147",
     "status": "completed"
    },
    "tags": []
   },
   "outputs": [],
   "source": [
    "def proba_output(num):\n",
    "    if num >= .4999:\n",
    "        return True\n",
    "    else:\n",
    "        return False"
   ]
  },
  {
   "cell_type": "markdown",
   "id": "07161d70",
   "metadata": {
    "papermill": {
     "duration": 0.091763,
     "end_time": "2022-05-22T09:08:42.257627",
     "exception": false,
     "start_time": "2022-05-22T09:08:42.165864",
     "status": "completed"
    },
    "tags": []
   },
   "source": [
    "As model 5 yielded highest accuracy out of all the models in the validation process, we will be using it for submission."
   ]
  },
  {
   "cell_type": "code",
   "execution_count": 43,
   "id": "c25b3c5c",
   "metadata": {
    "execution": {
     "iopub.execute_input": "2022-05-22T09:08:42.442680Z",
     "iopub.status.busy": "2022-05-22T09:08:42.441897Z",
     "iopub.status.idle": "2022-05-22T09:08:42.578565Z",
     "shell.execute_reply": "2022-05-22T09:08:42.577911Z"
    },
    "papermill": {
     "duration": 0.23139,
     "end_time": "2022-05-22T09:08:42.580672",
     "exception": false,
     "start_time": "2022-05-22T09:08:42.349282",
     "status": "completed"
    },
    "tags": []
   },
   "outputs": [
    {
     "name": "stdout",
     "output_type": "stream",
     "text": [
      "5/5 [==============================] - 0s 8ms/step\n"
     ]
    }
   ],
   "source": [
    "y_preds = model_5.predict(test_ds).reshape(test_df.shape[0],)\n",
    "output = list(map(proba_output, y_preds))\n",
    "submission_df = pd.DataFrame({'PassengerId': submission_id, 'Transported': output})\n",
    "submission_df.to_csv('submission.csv', index=False)"
   ]
  }
 ],
 "metadata": {
  "kernelspec": {
   "display_name": "Python 3",
   "language": "python",
   "name": "python3"
  },
  "language_info": {
   "codemirror_mode": {
    "name": "ipython",
    "version": 3
   },
   "file_extension": ".py",
   "mimetype": "text/x-python",
   "name": "python",
   "nbconvert_exporter": "python",
   "pygments_lexer": "ipython3",
   "version": "3.7.12"
  },
  "papermill": {
   "default_parameters": {},
   "duration": 482.810635,
   "end_time": "2022-05-22T09:08:45.789957",
   "environment_variables": {},
   "exception": null,
   "input_path": "__notebook__.ipynb",
   "output_path": "__notebook__.ipynb",
   "parameters": {},
   "start_time": "2022-05-22T09:00:42.979322",
   "version": "2.3.4"
  }
 },
 "nbformat": 4,
 "nbformat_minor": 5
}
